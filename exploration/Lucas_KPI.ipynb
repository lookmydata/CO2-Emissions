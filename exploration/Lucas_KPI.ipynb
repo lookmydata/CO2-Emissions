{
 "cells": [
  {
   "cell_type": "code",
   "execution_count": 5,
   "metadata": {},
   "outputs": [],
   "source": [
    "import pandas as pd\n",
    "import numpy as np\n",
    "import plotly as plotly"
   ]
  },
  {
   "cell_type": "code",
   "execution_count": 6,
   "metadata": {},
   "outputs": [],
   "source": [
    "\n",
    "df_energyco2 = pd.read_csv('../datasets/energyco2_normalizado.csv', delimiter= \";\")\n",
    "df_central_elec = pd.read_csv('../datasets/NORMALIZADO_central_electrica.csv',delimiter= \";\")\n",
    "#df_global_power_plant = pd.read_csv('../datasets/global_power_plant/global_power_plant_database.csv',delimiter= \",\")\n",
    "df_energia_renovable = pd.read_csv('../datasets/energias_renovables/NORMALIZADO_data_energia_renovable.csv',delimiter= \";\")\n",
    "df_energy_consumption = pd.read_csv('../datasets/energy_consumption/owid-energy-consumption-source_normalizado.csv',delimiter=\";\")\n",
    "df_paris = pd.read_csv('../datasets/paris_agreement_ndcs/PA_NDCs.csv',delimiter=\",\")"
   ]
  },
  {
   "cell_type": "code",
   "execution_count": 9,
   "metadata": {},
   "outputs": [],
   "source": [
    "df = df_energyco2[df_energyco2['Country'] == 'Argentina']\n",
    "df = df[df['Energy_type']== 'all_energy_types']\n",
    "\n",
    "df1 = df_energyco2[df_energyco2['Energy_type'] == 'all_energy_types']\n",
    "#df1"
   ]
  },
  {
   "cell_type": "code",
   "execution_count": 52,
   "metadata": {},
   "outputs": [
    {
     "data": {
      "text/html": [
       "<div>\n",
       "<style scoped>\n",
       "    .dataframe tbody tr th:only-of-type {\n",
       "        vertical-align: middle;\n",
       "    }\n",
       "\n",
       "    .dataframe tbody tr th {\n",
       "        vertical-align: top;\n",
       "    }\n",
       "\n",
       "    .dataframe thead th {\n",
       "        text-align: right;\n",
       "    }\n",
       "</style>\n",
       "<table border=\"1\" class=\"dataframe\">\n",
       "  <thead>\n",
       "    <tr style=\"text-align: right;\">\n",
       "      <th></th>\n",
       "      <th>Country</th>\n",
       "      <th>CO2_emission_2010</th>\n",
       "      <th>CO2_emission_esperado_2030</th>\n",
       "    </tr>\n",
       "  </thead>\n",
       "  <tbody>\n",
       "    <tr>\n",
       "      <th>41</th>\n",
       "      <td>China</td>\n",
       "      <td>8204.14</td>\n",
       "      <td>4512.2770</td>\n",
       "    </tr>\n",
       "    <tr>\n",
       "      <th>220</th>\n",
       "      <td>United States</td>\n",
       "      <td>5403.66</td>\n",
       "      <td>2972.0130</td>\n",
       "    </tr>\n",
       "    <tr>\n",
       "      <th>99</th>\n",
       "      <td>India</td>\n",
       "      <td>1546.55</td>\n",
       "      <td>850.6025</td>\n",
       "    </tr>\n",
       "    <tr>\n",
       "      <th>170</th>\n",
       "      <td>Russia</td>\n",
       "      <td>1505.59</td>\n",
       "      <td>828.0745</td>\n",
       "    </tr>\n",
       "    <tr>\n",
       "      <th>107</th>\n",
       "      <td>Japan</td>\n",
       "      <td>1144.88</td>\n",
       "      <td>629.6840</td>\n",
       "    </tr>\n",
       "    <tr>\n",
       "      <th>79</th>\n",
       "      <td>Germany</td>\n",
       "      <td>781.73</td>\n",
       "      <td>429.9515</td>\n",
       "    </tr>\n",
       "    <tr>\n",
       "      <th>190</th>\n",
       "      <td>South Korea</td>\n",
       "      <td>556.03</td>\n",
       "      <td>305.8165</td>\n",
       "    </tr>\n",
       "    <tr>\n",
       "      <th>36</th>\n",
       "      <td>Canada</td>\n",
       "      <td>541.45</td>\n",
       "      <td>297.7975</td>\n",
       "    </tr>\n",
       "    <tr>\n",
       "      <th>101</th>\n",
       "      <td>Iran</td>\n",
       "      <td>534.08</td>\n",
       "      <td>293.7440</td>\n",
       "    </tr>\n",
       "    <tr>\n",
       "      <th>219</th>\n",
       "      <td>United Kingdom</td>\n",
       "      <td>519.38</td>\n",
       "      <td>285.6590</td>\n",
       "    </tr>\n",
       "  </tbody>\n",
       "</table>\n",
       "</div>"
      ],
      "text/plain": [
       "            Country  CO2_emission_2010  CO2_emission_esperado_2030\n",
       "41            China            8204.14                   4512.2770\n",
       "220   United States            5403.66                   2972.0130\n",
       "99            India            1546.55                    850.6025\n",
       "170          Russia            1505.59                    828.0745\n",
       "107           Japan            1144.88                    629.6840\n",
       "79          Germany             781.73                    429.9515\n",
       "190     South Korea             556.03                    305.8165\n",
       "36           Canada             541.45                    297.7975\n",
       "101            Iran             534.08                    293.7440\n",
       "219  United Kingdom             519.38                    285.6590"
      ]
     },
     "execution_count": 52,
     "metadata": {},
     "output_type": "execute_result"
    }
   ],
   "source": [
    "df_emisiones2010 = df1[df1['Year'] == 2010]\n",
    "df_emisiones2010 = df_emisiones2010[['Country','CO2_emission']].reset_index(drop = True)\n",
    "\n",
    "df_top_2010 = df_emisiones2010.sort_values(by='CO2_emission',ascending=False).head(11)\n",
    "df_top_2030 = df_top_2010[['Country',\"CO2_emission\"]]\n",
    "df_top_2030[\"CO2_emission_2010\"] = df_top_2030[\"CO2_emission\"]\n",
    "df_top_2030 =df_top_2030.drop(\"CO2_emission\",axis=1)\n",
    "df_top_2030['CO2_emission_esperado_2030'] = ((df_top_2030[\"CO2_emission_2010\"] - (df_top_2030[\"CO2_emission_2010\"]*45)/100))\n",
    "df_top_2030= df_top_2030[df_top_2030['Country'] != 'World']\n",
    "\n",
    "df_top_2030\n"
   ]
  },
  {
   "cell_type": "code",
   "execution_count": 139,
   "metadata": {},
   "outputs": [
    {
     "data": {
      "application/vnd.plotly.v1+json": {
       "config": {
        "plotlyServerURL": "https://plot.ly"
       },
       "data": [
        {
         "alignmentgroup": "True",
         "hovertemplate": "Country=%{x}<br>CO2_emission_2010=%{y}<extra></extra>",
         "legendgroup": "",
         "marker": {
          "color": "green",
          "pattern": {
           "shape": ""
          }
         },
         "name": "",
         "offsetgroup": "",
         "orientation": "v",
         "showlegend": false,
         "textposition": "auto",
         "type": "bar",
         "x": [
          "China",
          "United States",
          "India",
          "Russia",
          "Japan",
          "Germany",
          "South Korea",
          "Canada",
          "Iran",
          "United Kingdom"
         ],
         "xaxis": "x",
         "y": [
          8204.14,
          5403.66,
          1546.55,
          1505.59,
          1144.88,
          781.73,
          556.03,
          541.45,
          534.08,
          519.38
         ],
         "yaxis": "y"
        },
        {
         "alignmentgroup": "True",
         "hovertemplate": "Country=%{x}<br>CO2_emission_esperado_2030=%{y}<extra></extra>",
         "legendgroup": "",
         "marker": {
          "color": "black",
          "pattern": {
           "shape": ""
          }
         },
         "name": "",
         "offsetgroup": "",
         "orientation": "v",
         "showlegend": false,
         "textposition": "auto",
         "type": "bar",
         "x": [
          "China",
          "United States",
          "India",
          "Russia",
          "Japan",
          "Germany",
          "South Korea",
          "Canada",
          "Iran",
          "United Kingdom"
         ],
         "xaxis": "x",
         "y": [
          4512.277,
          2972.013,
          850.6025,
          828.0745,
          629.6840000000001,
          429.9515,
          305.8165,
          297.7975,
          293.744,
          285.659
         ],
         "yaxis": "y"
        }
       ],
       "layout": {
        "template": {
         "data": {
          "bar": [
           {
            "error_x": {
             "color": "#2a3f5f"
            },
            "error_y": {
             "color": "#2a3f5f"
            },
            "marker": {
             "line": {
              "color": "#E5ECF6",
              "width": 0.5
             },
             "pattern": {
              "fillmode": "overlay",
              "size": 10,
              "solidity": 0.2
             }
            },
            "type": "bar"
           }
          ],
          "barpolar": [
           {
            "marker": {
             "line": {
              "color": "#E5ECF6",
              "width": 0.5
             },
             "pattern": {
              "fillmode": "overlay",
              "size": 10,
              "solidity": 0.2
             }
            },
            "type": "barpolar"
           }
          ],
          "carpet": [
           {
            "aaxis": {
             "endlinecolor": "#2a3f5f",
             "gridcolor": "white",
             "linecolor": "white",
             "minorgridcolor": "white",
             "startlinecolor": "#2a3f5f"
            },
            "baxis": {
             "endlinecolor": "#2a3f5f",
             "gridcolor": "white",
             "linecolor": "white",
             "minorgridcolor": "white",
             "startlinecolor": "#2a3f5f"
            },
            "type": "carpet"
           }
          ],
          "choropleth": [
           {
            "colorbar": {
             "outlinewidth": 0,
             "ticks": ""
            },
            "type": "choropleth"
           }
          ],
          "contour": [
           {
            "colorbar": {
             "outlinewidth": 0,
             "ticks": ""
            },
            "colorscale": [
             [
              0,
              "#0d0887"
             ],
             [
              0.1111111111111111,
              "#46039f"
             ],
             [
              0.2222222222222222,
              "#7201a8"
             ],
             [
              0.3333333333333333,
              "#9c179e"
             ],
             [
              0.4444444444444444,
              "#bd3786"
             ],
             [
              0.5555555555555556,
              "#d8576b"
             ],
             [
              0.6666666666666666,
              "#ed7953"
             ],
             [
              0.7777777777777778,
              "#fb9f3a"
             ],
             [
              0.8888888888888888,
              "#fdca26"
             ],
             [
              1,
              "#f0f921"
             ]
            ],
            "type": "contour"
           }
          ],
          "contourcarpet": [
           {
            "colorbar": {
             "outlinewidth": 0,
             "ticks": ""
            },
            "type": "contourcarpet"
           }
          ],
          "heatmap": [
           {
            "colorbar": {
             "outlinewidth": 0,
             "ticks": ""
            },
            "colorscale": [
             [
              0,
              "#0d0887"
             ],
             [
              0.1111111111111111,
              "#46039f"
             ],
             [
              0.2222222222222222,
              "#7201a8"
             ],
             [
              0.3333333333333333,
              "#9c179e"
             ],
             [
              0.4444444444444444,
              "#bd3786"
             ],
             [
              0.5555555555555556,
              "#d8576b"
             ],
             [
              0.6666666666666666,
              "#ed7953"
             ],
             [
              0.7777777777777778,
              "#fb9f3a"
             ],
             [
              0.8888888888888888,
              "#fdca26"
             ],
             [
              1,
              "#f0f921"
             ]
            ],
            "type": "heatmap"
           }
          ],
          "heatmapgl": [
           {
            "colorbar": {
             "outlinewidth": 0,
             "ticks": ""
            },
            "colorscale": [
             [
              0,
              "#0d0887"
             ],
             [
              0.1111111111111111,
              "#46039f"
             ],
             [
              0.2222222222222222,
              "#7201a8"
             ],
             [
              0.3333333333333333,
              "#9c179e"
             ],
             [
              0.4444444444444444,
              "#bd3786"
             ],
             [
              0.5555555555555556,
              "#d8576b"
             ],
             [
              0.6666666666666666,
              "#ed7953"
             ],
             [
              0.7777777777777778,
              "#fb9f3a"
             ],
             [
              0.8888888888888888,
              "#fdca26"
             ],
             [
              1,
              "#f0f921"
             ]
            ],
            "type": "heatmapgl"
           }
          ],
          "histogram": [
           {
            "marker": {
             "pattern": {
              "fillmode": "overlay",
              "size": 10,
              "solidity": 0.2
             }
            },
            "type": "histogram"
           }
          ],
          "histogram2d": [
           {
            "colorbar": {
             "outlinewidth": 0,
             "ticks": ""
            },
            "colorscale": [
             [
              0,
              "#0d0887"
             ],
             [
              0.1111111111111111,
              "#46039f"
             ],
             [
              0.2222222222222222,
              "#7201a8"
             ],
             [
              0.3333333333333333,
              "#9c179e"
             ],
             [
              0.4444444444444444,
              "#bd3786"
             ],
             [
              0.5555555555555556,
              "#d8576b"
             ],
             [
              0.6666666666666666,
              "#ed7953"
             ],
             [
              0.7777777777777778,
              "#fb9f3a"
             ],
             [
              0.8888888888888888,
              "#fdca26"
             ],
             [
              1,
              "#f0f921"
             ]
            ],
            "type": "histogram2d"
           }
          ],
          "histogram2dcontour": [
           {
            "colorbar": {
             "outlinewidth": 0,
             "ticks": ""
            },
            "colorscale": [
             [
              0,
              "#0d0887"
             ],
             [
              0.1111111111111111,
              "#46039f"
             ],
             [
              0.2222222222222222,
              "#7201a8"
             ],
             [
              0.3333333333333333,
              "#9c179e"
             ],
             [
              0.4444444444444444,
              "#bd3786"
             ],
             [
              0.5555555555555556,
              "#d8576b"
             ],
             [
              0.6666666666666666,
              "#ed7953"
             ],
             [
              0.7777777777777778,
              "#fb9f3a"
             ],
             [
              0.8888888888888888,
              "#fdca26"
             ],
             [
              1,
              "#f0f921"
             ]
            ],
            "type": "histogram2dcontour"
           }
          ],
          "mesh3d": [
           {
            "colorbar": {
             "outlinewidth": 0,
             "ticks": ""
            },
            "type": "mesh3d"
           }
          ],
          "parcoords": [
           {
            "line": {
             "colorbar": {
              "outlinewidth": 0,
              "ticks": ""
             }
            },
            "type": "parcoords"
           }
          ],
          "pie": [
           {
            "automargin": true,
            "type": "pie"
           }
          ],
          "scatter": [
           {
            "fillpattern": {
             "fillmode": "overlay",
             "size": 10,
             "solidity": 0.2
            },
            "type": "scatter"
           }
          ],
          "scatter3d": [
           {
            "line": {
             "colorbar": {
              "outlinewidth": 0,
              "ticks": ""
             }
            },
            "marker": {
             "colorbar": {
              "outlinewidth": 0,
              "ticks": ""
             }
            },
            "type": "scatter3d"
           }
          ],
          "scattercarpet": [
           {
            "marker": {
             "colorbar": {
              "outlinewidth": 0,
              "ticks": ""
             }
            },
            "type": "scattercarpet"
           }
          ],
          "scattergeo": [
           {
            "marker": {
             "colorbar": {
              "outlinewidth": 0,
              "ticks": ""
             }
            },
            "type": "scattergeo"
           }
          ],
          "scattergl": [
           {
            "marker": {
             "colorbar": {
              "outlinewidth": 0,
              "ticks": ""
             }
            },
            "type": "scattergl"
           }
          ],
          "scattermapbox": [
           {
            "marker": {
             "colorbar": {
              "outlinewidth": 0,
              "ticks": ""
             }
            },
            "type": "scattermapbox"
           }
          ],
          "scatterpolar": [
           {
            "marker": {
             "colorbar": {
              "outlinewidth": 0,
              "ticks": ""
             }
            },
            "type": "scatterpolar"
           }
          ],
          "scatterpolargl": [
           {
            "marker": {
             "colorbar": {
              "outlinewidth": 0,
              "ticks": ""
             }
            },
            "type": "scatterpolargl"
           }
          ],
          "scatterternary": [
           {
            "marker": {
             "colorbar": {
              "outlinewidth": 0,
              "ticks": ""
             }
            },
            "type": "scatterternary"
           }
          ],
          "surface": [
           {
            "colorbar": {
             "outlinewidth": 0,
             "ticks": ""
            },
            "colorscale": [
             [
              0,
              "#0d0887"
             ],
             [
              0.1111111111111111,
              "#46039f"
             ],
             [
              0.2222222222222222,
              "#7201a8"
             ],
             [
              0.3333333333333333,
              "#9c179e"
             ],
             [
              0.4444444444444444,
              "#bd3786"
             ],
             [
              0.5555555555555556,
              "#d8576b"
             ],
             [
              0.6666666666666666,
              "#ed7953"
             ],
             [
              0.7777777777777778,
              "#fb9f3a"
             ],
             [
              0.8888888888888888,
              "#fdca26"
             ],
             [
              1,
              "#f0f921"
             ]
            ],
            "type": "surface"
           }
          ],
          "table": [
           {
            "cells": {
             "fill": {
              "color": "#EBF0F8"
             },
             "line": {
              "color": "white"
             }
            },
            "header": {
             "fill": {
              "color": "#C8D4E3"
             },
             "line": {
              "color": "white"
             }
            },
            "type": "table"
           }
          ]
         },
         "layout": {
          "annotationdefaults": {
           "arrowcolor": "#2a3f5f",
           "arrowhead": 0,
           "arrowwidth": 1
          },
          "autotypenumbers": "strict",
          "coloraxis": {
           "colorbar": {
            "outlinewidth": 0,
            "ticks": ""
           }
          },
          "colorscale": {
           "diverging": [
            [
             0,
             "#8e0152"
            ],
            [
             0.1,
             "#c51b7d"
            ],
            [
             0.2,
             "#de77ae"
            ],
            [
             0.3,
             "#f1b6da"
            ],
            [
             0.4,
             "#fde0ef"
            ],
            [
             0.5,
             "#f7f7f7"
            ],
            [
             0.6,
             "#e6f5d0"
            ],
            [
             0.7,
             "#b8e186"
            ],
            [
             0.8,
             "#7fbc41"
            ],
            [
             0.9,
             "#4d9221"
            ],
            [
             1,
             "#276419"
            ]
           ],
           "sequential": [
            [
             0,
             "#0d0887"
            ],
            [
             0.1111111111111111,
             "#46039f"
            ],
            [
             0.2222222222222222,
             "#7201a8"
            ],
            [
             0.3333333333333333,
             "#9c179e"
            ],
            [
             0.4444444444444444,
             "#bd3786"
            ],
            [
             0.5555555555555556,
             "#d8576b"
            ],
            [
             0.6666666666666666,
             "#ed7953"
            ],
            [
             0.7777777777777778,
             "#fb9f3a"
            ],
            [
             0.8888888888888888,
             "#fdca26"
            ],
            [
             1,
             "#f0f921"
            ]
           ],
           "sequentialminus": [
            [
             0,
             "#0d0887"
            ],
            [
             0.1111111111111111,
             "#46039f"
            ],
            [
             0.2222222222222222,
             "#7201a8"
            ],
            [
             0.3333333333333333,
             "#9c179e"
            ],
            [
             0.4444444444444444,
             "#bd3786"
            ],
            [
             0.5555555555555556,
             "#d8576b"
            ],
            [
             0.6666666666666666,
             "#ed7953"
            ],
            [
             0.7777777777777778,
             "#fb9f3a"
            ],
            [
             0.8888888888888888,
             "#fdca26"
            ],
            [
             1,
             "#f0f921"
            ]
           ]
          },
          "colorway": [
           "#636efa",
           "#EF553B",
           "#00cc96",
           "#ab63fa",
           "#FFA15A",
           "#19d3f3",
           "#FF6692",
           "#B6E880",
           "#FF97FF",
           "#FECB52"
          ],
          "font": {
           "color": "#2a3f5f"
          },
          "geo": {
           "bgcolor": "white",
           "lakecolor": "white",
           "landcolor": "#E5ECF6",
           "showlakes": true,
           "showland": true,
           "subunitcolor": "white"
          },
          "hoverlabel": {
           "align": "left"
          },
          "hovermode": "closest",
          "mapbox": {
           "style": "light"
          },
          "paper_bgcolor": "white",
          "plot_bgcolor": "#E5ECF6",
          "polar": {
           "angularaxis": {
            "gridcolor": "white",
            "linecolor": "white",
            "ticks": ""
           },
           "bgcolor": "#E5ECF6",
           "radialaxis": {
            "gridcolor": "white",
            "linecolor": "white",
            "ticks": ""
           }
          },
          "scene": {
           "xaxis": {
            "backgroundcolor": "#E5ECF6",
            "gridcolor": "white",
            "gridwidth": 2,
            "linecolor": "white",
            "showbackground": true,
            "ticks": "",
            "zerolinecolor": "white"
           },
           "yaxis": {
            "backgroundcolor": "#E5ECF6",
            "gridcolor": "white",
            "gridwidth": 2,
            "linecolor": "white",
            "showbackground": true,
            "ticks": "",
            "zerolinecolor": "white"
           },
           "zaxis": {
            "backgroundcolor": "#E5ECF6",
            "gridcolor": "white",
            "gridwidth": 2,
            "linecolor": "white",
            "showbackground": true,
            "ticks": "",
            "zerolinecolor": "white"
           }
          },
          "shapedefaults": {
           "line": {
            "color": "#2a3f5f"
           }
          },
          "ternary": {
           "aaxis": {
            "gridcolor": "white",
            "linecolor": "white",
            "ticks": ""
           },
           "baxis": {
            "gridcolor": "white",
            "linecolor": "white",
            "ticks": ""
           },
           "bgcolor": "#E5ECF6",
           "caxis": {
            "gridcolor": "white",
            "linecolor": "white",
            "ticks": ""
           }
          },
          "title": {
           "x": 0.05
          },
          "xaxis": {
           "automargin": true,
           "gridcolor": "white",
           "linecolor": "white",
           "ticks": "",
           "title": {
            "standoff": 15
           },
           "zerolinecolor": "white",
           "zerolinewidth": 2
          },
          "yaxis": {
           "automargin": true,
           "gridcolor": "white",
           "linecolor": "white",
           "ticks": "",
           "title": {
            "standoff": 15
           },
           "zerolinecolor": "white",
           "zerolinewidth": 2
          }
         }
        }
       }
      }
     },
     "metadata": {},
     "output_type": "display_data"
    }
   ],
   "source": [
    "import plotly.graph_objects as go\n",
    "import plotly.express as px\n",
    "\n",
    "fig = px.bar(df_top_2030, x=\"Country\", y='CO2_emission_2010')\n",
    "fig.update_traces(marker_color='green')\n",
    "fig2 = px.bar(df_top_2030, x=\"Country\", y='CO2_emission_esperado_2030')\n",
    "fig2.update_traces(marker_color='black')\n",
    "go.Figure(fig.data + fig2.data)"
   ]
  },
  {
   "cell_type": "code",
   "execution_count": 329,
   "metadata": {},
   "outputs": [
    {
     "data": {
      "text/html": [
       "<div>\n",
       "<style scoped>\n",
       "    .dataframe tbody tr th:only-of-type {\n",
       "        vertical-align: middle;\n",
       "    }\n",
       "\n",
       "    .dataframe tbody tr th {\n",
       "        vertical-align: top;\n",
       "    }\n",
       "\n",
       "    .dataframe thead th {\n",
       "        text-align: right;\n",
       "    }\n",
       "</style>\n",
       "<table border=\"1\" class=\"dataframe\">\n",
       "  <thead>\n",
       "    <tr style=\"text-align: right;\">\n",
       "      <th></th>\n",
       "      <th>Country</th>\n",
       "      <th>Year</th>\n",
       "      <th>CO2_emission</th>\n",
       "    </tr>\n",
       "  </thead>\n",
       "  <tbody>\n",
       "    <tr>\n",
       "      <th>42900</th>\n",
       "      <td>United States</td>\n",
       "      <td>2010</td>\n",
       "      <td>5403.66</td>\n",
       "    </tr>\n",
       "    <tr>\n",
       "      <th>44286</th>\n",
       "      <td>United States</td>\n",
       "      <td>2011</td>\n",
       "      <td>5593.66</td>\n",
       "    </tr>\n",
       "    <tr>\n",
       "      <th>45672</th>\n",
       "      <td>United States</td>\n",
       "      <td>2012</td>\n",
       "      <td>5454.70</td>\n",
       "    </tr>\n",
       "    <tr>\n",
       "      <th>47058</th>\n",
       "      <td>United States</td>\n",
       "      <td>2013</td>\n",
       "      <td>5236.32</td>\n",
       "    </tr>\n",
       "    <tr>\n",
       "      <th>48444</th>\n",
       "      <td>United States</td>\n",
       "      <td>2014</td>\n",
       "      <td>5358.87</td>\n",
       "    </tr>\n",
       "    <tr>\n",
       "      <th>49830</th>\n",
       "      <td>United States</td>\n",
       "      <td>2015</td>\n",
       "      <td>5413.88</td>\n",
       "    </tr>\n",
       "    <tr>\n",
       "      <th>51216</th>\n",
       "      <td>United States</td>\n",
       "      <td>2016</td>\n",
       "      <td>5262.08</td>\n",
       "    </tr>\n",
       "    <tr>\n",
       "      <th>52602</th>\n",
       "      <td>United States</td>\n",
       "      <td>2017</td>\n",
       "      <td>5169.50</td>\n",
       "    </tr>\n",
       "    <tr>\n",
       "      <th>53988</th>\n",
       "      <td>United States</td>\n",
       "      <td>2018</td>\n",
       "      <td>5131.08</td>\n",
       "    </tr>\n",
       "    <tr>\n",
       "      <th>55374</th>\n",
       "      <td>United States</td>\n",
       "      <td>2019</td>\n",
       "      <td>5277.19</td>\n",
       "    </tr>\n",
       "  </tbody>\n",
       "</table>\n",
       "</div>"
      ],
      "text/plain": [
       "             Country  Year  CO2_emission\n",
       "42900  United States  2010       5403.66\n",
       "44286  United States  2011       5593.66\n",
       "45672  United States  2012       5454.70\n",
       "47058  United States  2013       5236.32\n",
       "48444  United States  2014       5358.87\n",
       "49830  United States  2015       5413.88\n",
       "51216  United States  2016       5262.08\n",
       "52602  United States  2017       5169.50\n",
       "53988  United States  2018       5131.08\n",
       "55374  United States  2019       5277.19"
      ]
     },
     "execution_count": 329,
     "metadata": {},
     "output_type": "execute_result"
    }
   ],
   "source": [
    "df_pred = df1[['Country','Year','CO2_emission']]\n",
    "\n",
    "df_pred = df_pred[df_pred['Country'] == 'United States']\n",
    "df_pred = df_pred[df_pred['Year'] >= 2010]\n",
    "\n",
    "df_pred"
   ]
  },
  {
   "cell_type": "code",
   "execution_count": 291,
   "metadata": {},
   "outputs": [
    {
     "data": {
      "text/plain": [
       "<matplotlib.collections.PathCollection at 0x10991e2df00>"
      ]
     },
     "execution_count": 291,
     "metadata": {},
     "output_type": "execute_result"
    },
    {
     "data": {
      "image/png": "[encoded data removed]",
      "text/plain": [
       "<Figure size 432x288 with 1 Axes>"
      ]
     },
     "metadata": {
      "needs_background": "light"
     },
     "output_type": "display_data"
    }
   ],
   "source": [
    "import matplotlib.pyplot as plt\n",
    "\n",
    "annio = 2010\n",
    "\n",
    "df_pred = df1[['Country','Year','CO2_emission']]\n",
    "\n",
    "df_pred = df_pred[df_pred['Country'] == 'United States']\n",
    "df_pred = df_pred[df_pred['Year'] >= annio]\n",
    "\n",
    "X = df_pred.Year.values.reshape(-1,1)\n",
    "y = df_pred.CO2_emission.values.reshape(-1,1)\n",
    "\n",
    "# plt.scatter(X,y)\n",
    "# plt.xlabel('Año')\n",
    "# plt.ylabel('CO2_emission')\n",
    "\n",
    "from sklearn.linear_model import LinearRegression\n",
    "import numpy as np\n",
    "\n",
    "model = LinearRegression(fit_intercept=True)\n",
    "model.fit(X, y)\n",
    "y_pred = model.predict(X)\n",
    "\n",
    "pend = model.coef_[0][0]\n",
    "orde = model.intercept_[0]\n",
    "\n",
    "y_pred1 = [((i*pend)+ orde) for i in range(annio,2031)]\n",
    "\n",
    "anios=[2020,2021,2022,2023,2024,2025,2026,2027,2028,2029,2030]\n",
    "y_pred = model.predict(np.array(anios).reshape(-1,1))\n",
    "\n",
    "plt.scatter(X,y)\n",
    "plt.xlabel('Año')\n",
    "plt.ylabel('CO2_emission')\n",
    "\n",
    "plt.plot(list(range(annio,2031)),y_pred1)\n",
    "plt.hlines((df_pred.loc[df_pred['Year'] == 2010, 'CO2_emission'].values * 0.55),annio,2030)\n",
    "plt.plot(anios,y_pred)\n",
    "plt.scatter(2025,4000)\n"
   ]
  },
  {
   "cell_type": "code",
   "execution_count": 319,
   "metadata": {},
   "outputs": [
    {
     "name": "stdout",
     "output_type": "stream",
     "text": [
      "[2015, 2016, 2017, 2018, 2019, 4000]\n"
     ]
    }
   ],
   "source": [
    "x = list(range(2015,2020)) + [4000]\n",
    "print(x)\n"
   ]
  },
  {
   "cell_type": "code",
   "execution_count": 328,
   "metadata": {},
   "outputs": [
    {
     "data": {
      "text/plain": [
       "[<matplotlib.lines.Line2D at 0x1098e7b5540>]"
      ]
     },
     "execution_count": 328,
     "metadata": {},
     "output_type": "execute_result"
    },
    {
     "data": {
      "image/png": "[encoded data removed]",
      "text/plain": [
       "<Figure size 432x288 with 1 Axes>"
      ]
     },
     "metadata": {
      "needs_background": "light"
     },
     "output_type": "display_data"
    }
   ],
   "source": [
    "from sklearn.linear_model import LinearRegression\n",
    "import numpy as np\n",
    "\n",
    "y = np.append(df_pred.loc[df_pred['Year'] >= 2015, 'CO2_emission'].values.reshape(-1,1),4000)\n",
    "x = np.append(list(range(2015,2020)), [2025]).reshape(-1,1)\n",
    "\n",
    "co2_2019 = 5277.19\n",
    "\n",
    "model_test = LinearRegression(fit_intercept=True)\n",
    "model_test.fit(x, y)\n",
    "y_pred = model_test.predict(X)\n",
    "#print(model_test.coef_)\n",
    "pend = model_test.coef_[0]\n",
    "orde = model_test.intercept_\n",
    "\n",
    "y_pred1 = [((i*pend)+ orde) for i in range(annio,2031)]\n",
    "\n",
    "anios=[2020,2021,2022,2023,2024,2025,2026,2027,2028,2029,2030]\n",
    "y_pred = model_test.predict(np.array(anios).reshape(-1,1))\n",
    "\n",
    "plt.scatter(x,y)\n",
    "plt.xlabel('Año')\n",
    "plt.ylabel('CO2_emission')\n",
    "\n",
    "plt.plot(list(range(annio,2031)),y_pred1)\n",
    "plt.hlines((df_pred.loc[df_pred['Year'] == 2010, 'CO2_emission'].values * 0.55),annio,2030)\n",
    "plt.plot(anios,y_pred)\n",
    "\n"
   ]
  }
 ],
 "metadata": {
  "kernelspec": {
   "display_name": "Python 3.10.4 64-bit",
   "language": "python",
   "name": "python3"
  },
  "language_info": {
   "codemirror_mode": {
    "name": "ipython",
    "version": 3
   },
   "file_extension": ".py",
   "mimetype": "text/x-python",
   "name": "python",
   "nbconvert_exporter": "python",
   "pygments_lexer": "ipython3",
   "version": "3.10.4"
  },
  "orig_nbformat": 4,
  "vscode": {
   "interpreter": {
    "hash": "0f4aad36e1a7834f44c14e84b98527cfbefef55e7a336cfec74130d804d73c8f"
   }
  }
 },
 "nbformat": 4,
 "nbformat_minor": 2
}
