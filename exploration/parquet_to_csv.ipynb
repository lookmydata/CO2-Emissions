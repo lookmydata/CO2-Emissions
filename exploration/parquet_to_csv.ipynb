{
 "cells": [
  {
   "cell_type": "code",
   "execution_count": 1,
   "metadata": {},
   "outputs": [],
   "source": [
    "import pandas as pd"
   ]
  },
  {
   "cell_type": "code",
   "execution_count": 2,
   "metadata": {},
   "outputs": [],
   "source": [
    "DN=pd.read_parquet(r'../datasets/desastres_naturales/Climate-related_Disasters_Frequency_normalizado.parquet')\n",
    "DN.to_csv(r'../datasets/desastres_naturales/Climate-related_Disasters_Frequency_normalizado.csv',sep=';')"
   ]
  },
  {
   "cell_type": "code",
   "execution_count": 3,
   "metadata": {},
   "outputs": [],
   "source": [
    "EEM=pd.read_parquet(r'../datasets/energia_estadistica_mensual/MES_O522_normalizado.parquet')\n",
    "EEM.to_csv(r'../datasets/energia_estadistica_mensual/MES_O522_normalizado.csv',sep=';')"
   ]
  },
  {
   "cell_type": "code",
   "execution_count": 4,
   "metadata": {},
   "outputs": [],
   "source": [
    "OWID=pd.read_parquet(r'../datasets/energy_consumption/owid-energy-consumption-source_normalizado.parquet')\n",
    "OWID.to_csv(r'../datasets/energy_consumption/owid-energy-consumption-source_normalizado.csv',sep=';')"
   ]
  },
  {
   "cell_type": "code",
   "execution_count": 5,
   "metadata": {},
   "outputs": [],
   "source": [
    "LCF=pd.read_parquet(r'../datasets/enfermedades/casos_cancer_pulmon_fym_NORMALIZADO.parquet')\n",
    "# LCM=pd.read_parquet('../datasets/enfermedades/lung_cancer_number_of_new_male_cases.parquet')\n",
    "LCF.to_csv(r'../datasets/enfermedades/casos_cancer_pulmon_fym_NORMALIZADO.csv',sep=';')\n",
    "# LCM.to_csv('../datasets/enfermedades/casos_cancer_pulmon_hombres.csv')"
   ]
  },
  {
   "cell_type": "code",
   "execution_count": 8,
   "metadata": {},
   "outputs": [],
   "source": [
    "access=pd.read_parquet(r'../datasets/energias_renovables/NORMALIZADO_acceso_a_electricidad.parquet')\n",
    "intensity=pd.read_parquet(r'../datasets/energias_renovables/NORMALIZADO_intensidad_electricidad_primaria.parquet')\n",
    "RE=pd.read_parquet(r'../datasets/energias_renovables/NORMALIZADO_data_energia_renovable.parquet')\n",
    "access.to_csv(r'../datasets/energias_renovables/NORMALIZADO_acceso_a_electricidad.csv',sep=';')\n",
    "intensity.to_csv(r'../datasets/energias_renovables/NORMALIZADO_intensidad_electricidad_primaria.csv',sep=';')\n",
    "RE.to_csv(r'../datasets/energias_renovables/NORMALIZADO_data_energia_renovable.csv',sep=';')"
   ]
  },
  {
   "cell_type": "code",
   "execution_count": 7,
   "metadata": {},
   "outputs": [],
   "source": [
    "ECO2=pd.read_parquet(r'../datasets/energyco2_normalizado.parquet')\n",
    "GPP=pd.read_parquet(r'../datasets/NORMALIZADO_central_electrica.parquet')\n",
    "ECO2.to_csv(r'../datasets/energyco2_normalizado.csv',sep=';')\n",
    "RE.to_csv(r'../datasets/NORMALIZADO_central_electrica.csv',sep=';')"
   ]
  }
 ],
 "metadata": {
  "kernelspec": {
   "display_name": "Python 3.9.1 64-bit",
   "language": "python",
   "name": "python3"
  },
  "language_info": {
   "codemirror_mode": {
    "name": "ipython",
    "version": 3
   },
   "file_extension": ".py",
   "mimetype": "text/x-python",
   "name": "python",
   "nbconvert_exporter": "python",
   "pygments_lexer": "ipython3",
   "version": "3.9.1"
  },
  "orig_nbformat": 4,
  "vscode": {
   "interpreter": {
    "hash": "a0559b88bf02f17968009bc8b68620a63297cf3c2986821bba468c40f45d50b2"
   }
  }
 },
 "nbformat": 4,
 "nbformat_minor": 2
}
