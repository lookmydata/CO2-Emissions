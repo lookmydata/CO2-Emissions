{
 "cells": [
  {
   "cell_type": "code",
   "execution_count": 1,
   "metadata": {},
   "outputs": [],
   "source": [
    "import pandas as pd\n",
    "\n",
    "# pip install pyarrow\n",
    "# pip install fastparquet"
   ]
  },
  {
   "cell_type": "code",
   "execution_count": 4,
   "metadata": {},
   "outputs": [],
   "source": [
    "DN=pd.read_csv('../datasets/desastres_naturales/Climate-related_Disasters_Frequency.csv')\n",
    "DN.to_parquet('../datasets/desastres_naturales/frecuencia_desastres_naturales.parquet')"
   ]
  },
  {
   "cell_type": "code",
   "execution_count": 5,
   "metadata": {},
   "outputs": [],
   "source": [
    "EEM=pd.read_csv('../datasets/energia_estadistica_mensual/MES_0522.csv')\n",
    "EEM.to_parquet('../datasets/energia_estadistica_mensual/energia_estadistica_mensual.parquet')"
   ]
  },
  {
   "cell_type": "code",
   "execution_count": 7,
   "metadata": {},
   "outputs": [],
   "source": [
    "OWID=pd.read_csv('../datasets/energy_consumption/owid-energy-consumption-source.csv')\n",
    "OWID.to_parquet('../datasets/energy_consumption/consumo_energia.parquet')"
   ]
  },
  {
   "cell_type": "code",
   "execution_count": 8,
   "metadata": {},
   "outputs": [],
   "source": [
    "LCF=pd.read_csv('../datasets/enfermedades/lung_cancer_number_of_new_female_cases.csv')\n",
    "LCM=pd.read_csv('../datasets/enfermedades/lung_cancer_number_of_new_male_cases.csv')\n",
    "LCF.to_parquet('../datasets/enfermedades/casos_cancer_pulmon_mujeres.parquet')\n",
    "LCM.to_parquet('../datasets/enfermedades/casos_cancer_pulmon_hombres.parquet')"
   ]
  },
  {
   "cell_type": "code",
   "execution_count": 10,
   "metadata": {},
   "outputs": [],
   "source": [
    "access=pd.read_csv('../datasets/energias_renovables/gtfenergyaccessdata.csv')\n",
    "intensity=pd.read_csv('../datasets/energias_renovables/gtfprimaryenergyintensitydata.csv')\n",
    "RE=pd.read_csv('../datasets/energias_renovables/gtfrenewableenergydata.csv')\n",
    "access.to_parquet('../datasets/energias_renovables/acceso_a_electricidad.parquet')\n",
    "intensity.to_parquet('../datasets/energias_renovables/intensidad_energia_primaria.parquet')\n",
    "RE.to_parquet('../datasets/energias_renovables/data_energia_renovable')"
   ]
  },
  {
   "cell_type": "code",
   "execution_count": 11,
   "metadata": {},
   "outputs": [
    {
     "name": "stderr",
     "output_type": "stream",
     "text": [
      "C:\\Users\\Marcela\\AppData\\Local\\Temp\\ipykernel_496\\3633628581.py:2: DtypeWarning: Columns (10) have mixed types. Specify dtype option on import or set low_memory=False.\n",
      "  GPP=pd.read_csv('../datasets/global_power_plant_database.csv')\n"
     ]
    }
   ],
   "source": [
    "ECO2=pd.read_csv('../datasets/energyco2.csv')\n",
    "GPP=pd.read_csv('../datasets/global_power_plant_database.csv')\n",
    "ECO2.to_parquet('../datasets/emision_por_energia.parquet')\n",
    "GPP.to_parquet('../datasets/central_electrica.parquet')"
   ]
  }
 ],
 "metadata": {
  "kernelspec": {
   "display_name": "Python 3.9.1 64-bit",
   "language": "python",
   "name": "python3"
  },
  "language_info": {
   "codemirror_mode": {
    "name": "ipython",
    "version": 3
   },
   "file_extension": ".py",
   "mimetype": "text/x-python",
   "name": "python",
   "nbconvert_exporter": "python",
   "pygments_lexer": "ipython3",
   "version": "3.9.1"
  },
  "orig_nbformat": 4,
  "vscode": {
   "interpreter": {
    "hash": "a0559b88bf02f17968009bc8b68620a63297cf3c2986821bba468c40f45d50b2"
   }
  }
 },
 "nbformat": 4,
 "nbformat_minor": 2
}
