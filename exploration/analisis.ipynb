{
 "cells": [
  {
   "cell_type": "code",
   "execution_count": 20,
   "metadata": {},
   "outputs": [],
   "source": [
    "import pandas as pd\n",
    "import plotly.graph_objects as go\n",
    "from plotly.subplots import make_subplots"
   ]
  },
  {
   "cell_type": "code",
   "execution_count": 16,
   "metadata": {},
   "outputs": [
    {
     "data": {
      "text/html": [
       "<div>\n",
       "<style scoped>\n",
       "    .dataframe tbody tr th:only-of-type {\n",
       "        vertical-align: middle;\n",
       "    }\n",
       "\n",
       "    .dataframe tbody tr th {\n",
       "        vertical-align: top;\n",
       "    }\n",
       "\n",
       "    .dataframe thead th {\n",
       "        text-align: right;\n",
       "    }\n",
       "</style>\n",
       "<table border=\"1\" class=\"dataframe\">\n",
       "  <thead>\n",
       "    <tr style=\"text-align: right;\">\n",
       "      <th></th>\n",
       "      <th>Unnamed: 0</th>\n",
       "      <th>pais</th>\n",
       "      <th>pais_iso</th>\n",
       "      <th>indicador</th>\n",
       "      <th>anio</th>\n",
       "      <th>frecuencia</th>\n",
       "      <th>energia_cons</th>\n",
       "      <th>energia_produccion</th>\n",
       "      <th>co2_emision_co2</th>\n",
       "    </tr>\n",
       "  </thead>\n",
       "  <tbody>\n",
       "    <tr>\n",
       "      <th>40</th>\n",
       "      <td>6708</td>\n",
       "      <td>Canada</td>\n",
       "      <td>CAN</td>\n",
       "      <td>TOTAL</td>\n",
       "      <td>1990</td>\n",
       "      <td>1.0</td>\n",
       "      <td>10.64</td>\n",
       "      <td>13.15</td>\n",
       "      <td>467.66</td>\n",
       "    </tr>\n",
       "    <tr>\n",
       "      <th>41</th>\n",
       "      <td>6729</td>\n",
       "      <td>China</td>\n",
       "      <td>CHN</td>\n",
       "      <td>TOTAL</td>\n",
       "      <td>1990</td>\n",
       "      <td>14.0</td>\n",
       "      <td>28.37</td>\n",
       "      <td>31.88</td>\n",
       "      <td>2413.19</td>\n",
       "    </tr>\n",
       "    <tr>\n",
       "      <th>42</th>\n",
       "      <td>7098</td>\n",
       "      <td>Saudi Arabia</td>\n",
       "      <td>SAU</td>\n",
       "      <td>TOTAL</td>\n",
       "      <td>1990</td>\n",
       "      <td>NaN</td>\n",
       "      <td>3.34</td>\n",
       "      <td>15.92</td>\n",
       "      <td>191.44</td>\n",
       "    </tr>\n",
       "    <tr>\n",
       "      <th>43</th>\n",
       "      <td>7213</td>\n",
       "      <td>United States</td>\n",
       "      <td>USA</td>\n",
       "      <td>TOTAL</td>\n",
       "      <td>1990</td>\n",
       "      <td>21.0</td>\n",
       "      <td>84.43</td>\n",
       "      <td>70.67</td>\n",
       "      <td>5084.56</td>\n",
       "    </tr>\n",
       "    <tr>\n",
       "      <th>44</th>\n",
       "      <td>7366</td>\n",
       "      <td>Canada</td>\n",
       "      <td>CAN</td>\n",
       "      <td>TOTAL</td>\n",
       "      <td>1991</td>\n",
       "      <td>1.0</td>\n",
       "      <td>10.76</td>\n",
       "      <td>13.69</td>\n",
       "      <td>432.77</td>\n",
       "    </tr>\n",
       "    <tr>\n",
       "      <th>45</th>\n",
       "      <td>7387</td>\n",
       "      <td>China</td>\n",
       "      <td>CHN</td>\n",
       "      <td>TOTAL</td>\n",
       "      <td>1991</td>\n",
       "      <td>10.0</td>\n",
       "      <td>28.72</td>\n",
       "      <td>32.13</td>\n",
       "      <td>2417.24</td>\n",
       "    </tr>\n",
       "    <tr>\n",
       "      <th>46</th>\n",
       "      <td>7756</td>\n",
       "      <td>Saudi Arabia</td>\n",
       "      <td>SAU</td>\n",
       "      <td>TOTAL</td>\n",
       "      <td>1991</td>\n",
       "      <td>NaN</td>\n",
       "      <td>3.49</td>\n",
       "      <td>19.75</td>\n",
       "      <td>198.83</td>\n",
       "    </tr>\n",
       "    <tr>\n",
       "      <th>47</th>\n",
       "      <td>7871</td>\n",
       "      <td>United States</td>\n",
       "      <td>USA</td>\n",
       "      <td>TOTAL</td>\n",
       "      <td>1991</td>\n",
       "      <td>35.0</td>\n",
       "      <td>84.38</td>\n",
       "      <td>70.32</td>\n",
       "      <td>5037.90</td>\n",
       "    </tr>\n",
       "    <tr>\n",
       "      <th>48</th>\n",
       "      <td>8024</td>\n",
       "      <td>Canada</td>\n",
       "      <td>CAN</td>\n",
       "      <td>TOTAL</td>\n",
       "      <td>1992</td>\n",
       "      <td>2.0</td>\n",
       "      <td>11.11</td>\n",
       "      <td>14.23</td>\n",
       "      <td>425.95</td>\n",
       "    </tr>\n",
       "    <tr>\n",
       "      <th>49</th>\n",
       "      <td>8045</td>\n",
       "      <td>China</td>\n",
       "      <td>CHN</td>\n",
       "      <td>TOTAL</td>\n",
       "      <td>1992</td>\n",
       "      <td>16.0</td>\n",
       "      <td>30.08</td>\n",
       "      <td>32.91</td>\n",
       "      <td>2460.41</td>\n",
       "    </tr>\n",
       "    <tr>\n",
       "      <th>50</th>\n",
       "      <td>8414</td>\n",
       "      <td>Saudi Arabia</td>\n",
       "      <td>SAU</td>\n",
       "      <td>TOTAL</td>\n",
       "      <td>1992</td>\n",
       "      <td>NaN</td>\n",
       "      <td>3.68</td>\n",
       "      <td>20.39</td>\n",
       "      <td>202.80</td>\n",
       "    </tr>\n",
       "    <tr>\n",
       "      <th>51</th>\n",
       "      <td>8529</td>\n",
       "      <td>United States</td>\n",
       "      <td>USA</td>\n",
       "      <td>TOTAL</td>\n",
       "      <td>1992</td>\n",
       "      <td>29.0</td>\n",
       "      <td>85.72</td>\n",
       "      <td>69.91</td>\n",
       "      <td>4992.68</td>\n",
       "    </tr>\n",
       "    <tr>\n",
       "      <th>52</th>\n",
       "      <td>8682</td>\n",
       "      <td>Canada</td>\n",
       "      <td>CAN</td>\n",
       "      <td>TOTAL</td>\n",
       "      <td>1993</td>\n",
       "      <td>1.0</td>\n",
       "      <td>11.36</td>\n",
       "      <td>15.13</td>\n",
       "      <td>448.63</td>\n",
       "    </tr>\n",
       "    <tr>\n",
       "      <th>53</th>\n",
       "      <td>8703</td>\n",
       "      <td>China</td>\n",
       "      <td>CHN</td>\n",
       "      <td>TOTAL</td>\n",
       "      <td>1993</td>\n",
       "      <td>16.0</td>\n",
       "      <td>32.38</td>\n",
       "      <td>34.05</td>\n",
       "      <td>2541.08</td>\n",
       "    </tr>\n",
       "    <tr>\n",
       "      <th>54</th>\n",
       "      <td>9072</td>\n",
       "      <td>Saudi Arabia</td>\n",
       "      <td>SAU</td>\n",
       "      <td>TOTAL</td>\n",
       "      <td>1993</td>\n",
       "      <td>NaN</td>\n",
       "      <td>3.78</td>\n",
       "      <td>20.11</td>\n",
       "      <td>213.71</td>\n",
       "    </tr>\n",
       "    <tr>\n",
       "      <th>55</th>\n",
       "      <td>9187</td>\n",
       "      <td>United States</td>\n",
       "      <td>USA</td>\n",
       "      <td>TOTAL</td>\n",
       "      <td>1993</td>\n",
       "      <td>28.0</td>\n",
       "      <td>87.27</td>\n",
       "      <td>68.27</td>\n",
       "      <td>5093.88</td>\n",
       "    </tr>\n",
       "    <tr>\n",
       "      <th>56</th>\n",
       "      <td>9340</td>\n",
       "      <td>Canada</td>\n",
       "      <td>CAN</td>\n",
       "      <td>TOTAL</td>\n",
       "      <td>1994</td>\n",
       "      <td>3.0</td>\n",
       "      <td>11.71</td>\n",
       "      <td>16.06</td>\n",
       "      <td>447.59</td>\n",
       "    </tr>\n",
       "    <tr>\n",
       "      <th>57</th>\n",
       "      <td>9361</td>\n",
       "      <td>China</td>\n",
       "      <td>CHN</td>\n",
       "      <td>TOTAL</td>\n",
       "      <td>1994</td>\n",
       "      <td>15.0</td>\n",
       "      <td>34.81</td>\n",
       "      <td>36.21</td>\n",
       "      <td>2730.93</td>\n",
       "    </tr>\n",
       "    <tr>\n",
       "      <th>58</th>\n",
       "      <td>9730</td>\n",
       "      <td>Saudi Arabia</td>\n",
       "      <td>SAU</td>\n",
       "      <td>TOTAL</td>\n",
       "      <td>1994</td>\n",
       "      <td>NaN</td>\n",
       "      <td>3.88</td>\n",
       "      <td>20.39</td>\n",
       "      <td>214.48</td>\n",
       "    </tr>\n",
       "    <tr>\n",
       "      <th>59</th>\n",
       "      <td>9845</td>\n",
       "      <td>United States</td>\n",
       "      <td>USA</td>\n",
       "      <td>TOTAL</td>\n",
       "      <td>1994</td>\n",
       "      <td>14.0</td>\n",
       "      <td>88.98</td>\n",
       "      <td>70.68</td>\n",
       "      <td>5185.52</td>\n",
       "    </tr>\n",
       "    <tr>\n",
       "      <th>60</th>\n",
       "      <td>9998</td>\n",
       "      <td>Canada</td>\n",
       "      <td>CAN</td>\n",
       "      <td>TOTAL</td>\n",
       "      <td>1995</td>\n",
       "      <td>4.0</td>\n",
       "      <td>11.87</td>\n",
       "      <td>16.52</td>\n",
       "      <td>460.94</td>\n",
       "    </tr>\n",
       "    <tr>\n",
       "      <th>61</th>\n",
       "      <td>10019</td>\n",
       "      <td>China</td>\n",
       "      <td>CHN</td>\n",
       "      <td>TOTAL</td>\n",
       "      <td>1995</td>\n",
       "      <td>12.0</td>\n",
       "      <td>37.50</td>\n",
       "      <td>37.96</td>\n",
       "      <td>2916.39</td>\n",
       "    </tr>\n",
       "    <tr>\n",
       "      <th>62</th>\n",
       "      <td>10388</td>\n",
       "      <td>Saudi Arabia</td>\n",
       "      <td>SAU</td>\n",
       "      <td>TOTAL</td>\n",
       "      <td>1995</td>\n",
       "      <td>NaN</td>\n",
       "      <td>3.82</td>\n",
       "      <td>20.66</td>\n",
       "      <td>221.03</td>\n",
       "    </tr>\n",
       "    <tr>\n",
       "      <th>63</th>\n",
       "      <td>10503</td>\n",
       "      <td>United States</td>\n",
       "      <td>USA</td>\n",
       "      <td>TOTAL</td>\n",
       "      <td>1995</td>\n",
       "      <td>18.0</td>\n",
       "      <td>90.93</td>\n",
       "      <td>71.13</td>\n",
       "      <td>5262.66</td>\n",
       "    </tr>\n",
       "    <tr>\n",
       "      <th>64</th>\n",
       "      <td>10656</td>\n",
       "      <td>Canada</td>\n",
       "      <td>CAN</td>\n",
       "      <td>TOTAL</td>\n",
       "      <td>1996</td>\n",
       "      <td>2.0</td>\n",
       "      <td>12.22</td>\n",
       "      <td>16.91</td>\n",
       "      <td>468.11</td>\n",
       "    </tr>\n",
       "    <tr>\n",
       "      <th>65</th>\n",
       "      <td>10677</td>\n",
       "      <td>China</td>\n",
       "      <td>CHN</td>\n",
       "      <td>TOTAL</td>\n",
       "      <td>1996</td>\n",
       "      <td>16.0</td>\n",
       "      <td>39.33</td>\n",
       "      <td>40.03</td>\n",
       "      <td>3140.32</td>\n",
       "    </tr>\n",
       "    <tr>\n",
       "      <th>66</th>\n",
       "      <td>11046</td>\n",
       "      <td>Saudi Arabia</td>\n",
       "      <td>SAU</td>\n",
       "      <td>TOTAL</td>\n",
       "      <td>1996</td>\n",
       "      <td>NaN</td>\n",
       "      <td>4.11</td>\n",
       "      <td>20.81</td>\n",
       "      <td>212.67</td>\n",
       "    </tr>\n",
       "    <tr>\n",
       "      <th>67</th>\n",
       "      <td>11161</td>\n",
       "      <td>United States</td>\n",
       "      <td>USA</td>\n",
       "      <td>TOTAL</td>\n",
       "      <td>1996</td>\n",
       "      <td>15.0</td>\n",
       "      <td>93.93</td>\n",
       "      <td>72.44</td>\n",
       "      <td>5324.31</td>\n",
       "    </tr>\n",
       "    <tr>\n",
       "      <th>68</th>\n",
       "      <td>11314</td>\n",
       "      <td>Canada</td>\n",
       "      <td>CAN</td>\n",
       "      <td>TOTAL</td>\n",
       "      <td>1997</td>\n",
       "      <td>3.0</td>\n",
       "      <td>12.23</td>\n",
       "      <td>17.06</td>\n",
       "      <td>479.17</td>\n",
       "    </tr>\n",
       "    <tr>\n",
       "      <th>69</th>\n",
       "      <td>11335</td>\n",
       "      <td>China</td>\n",
       "      <td>CHN</td>\n",
       "      <td>TOTAL</td>\n",
       "      <td>1997</td>\n",
       "      <td>17.0</td>\n",
       "      <td>37.40</td>\n",
       "      <td>39.42</td>\n",
       "      <td>3240.42</td>\n",
       "    </tr>\n",
       "    <tr>\n",
       "      <th>70</th>\n",
       "      <td>11704</td>\n",
       "      <td>Saudi Arabia</td>\n",
       "      <td>SAU</td>\n",
       "      <td>TOTAL</td>\n",
       "      <td>1997</td>\n",
       "      <td>NaN</td>\n",
       "      <td>4.36</td>\n",
       "      <td>21.24</td>\n",
       "      <td>227.15</td>\n",
       "    </tr>\n",
       "    <tr>\n",
       "      <th>71</th>\n",
       "      <td>11819</td>\n",
       "      <td>United States</td>\n",
       "      <td>USA</td>\n",
       "      <td>TOTAL</td>\n",
       "      <td>1997</td>\n",
       "      <td>33.0</td>\n",
       "      <td>94.51</td>\n",
       "      <td>72.42</td>\n",
       "      <td>5518.03</td>\n",
       "    </tr>\n",
       "    <tr>\n",
       "      <th>72</th>\n",
       "      <td>11972</td>\n",
       "      <td>Canada</td>\n",
       "      <td>CAN</td>\n",
       "      <td>TOTAL</td>\n",
       "      <td>1998</td>\n",
       "      <td>3.0</td>\n",
       "      <td>11.85</td>\n",
       "      <td>17.05</td>\n",
       "      <td>492.26</td>\n",
       "    </tr>\n",
       "    <tr>\n",
       "      <th>73</th>\n",
       "      <td>11993</td>\n",
       "      <td>China</td>\n",
       "      <td>CHN</td>\n",
       "      <td>TOTAL</td>\n",
       "      <td>1998</td>\n",
       "      <td>11.0</td>\n",
       "      <td>38.42</td>\n",
       "      <td>39.06</td>\n",
       "      <td>3143.57</td>\n",
       "    </tr>\n",
       "    <tr>\n",
       "      <th>74</th>\n",
       "      <td>12362</td>\n",
       "      <td>Saudi Arabia</td>\n",
       "      <td>SAU</td>\n",
       "      <td>TOTAL</td>\n",
       "      <td>1998</td>\n",
       "      <td>NaN</td>\n",
       "      <td>4.53</td>\n",
       "      <td>21.42</td>\n",
       "      <td>253.01</td>\n",
       "    </tr>\n",
       "    <tr>\n",
       "      <th>75</th>\n",
       "      <td>12477</td>\n",
       "      <td>United States</td>\n",
       "      <td>USA</td>\n",
       "      <td>TOTAL</td>\n",
       "      <td>1998</td>\n",
       "      <td>32.0</td>\n",
       "      <td>94.92</td>\n",
       "      <td>72.83</td>\n",
       "      <td>5589.32</td>\n",
       "    </tr>\n",
       "    <tr>\n",
       "      <th>76</th>\n",
       "      <td>12630</td>\n",
       "      <td>Canada</td>\n",
       "      <td>CAN</td>\n",
       "      <td>TOTAL</td>\n",
       "      <td>1999</td>\n",
       "      <td>3.0</td>\n",
       "      <td>12.48</td>\n",
       "      <td>17.31</td>\n",
       "      <td>488.88</td>\n",
       "    </tr>\n",
       "    <tr>\n",
       "      <th>77</th>\n",
       "      <td>12651</td>\n",
       "      <td>China</td>\n",
       "      <td>CHN</td>\n",
       "      <td>TOTAL</td>\n",
       "      <td>1999</td>\n",
       "      <td>18.0</td>\n",
       "      <td>39.92</td>\n",
       "      <td>38.82</td>\n",
       "      <td>3132.09</td>\n",
       "    </tr>\n",
       "    <tr>\n",
       "      <th>78</th>\n",
       "      <td>13020</td>\n",
       "      <td>Saudi Arabia</td>\n",
       "      <td>SAU</td>\n",
       "      <td>TOTAL</td>\n",
       "      <td>1999</td>\n",
       "      <td>NaN</td>\n",
       "      <td>4.86</td>\n",
       "      <td>20.18</td>\n",
       "      <td>255.92</td>\n",
       "    </tr>\n",
       "    <tr>\n",
       "      <th>79</th>\n",
       "      <td>13135</td>\n",
       "      <td>United States</td>\n",
       "      <td>USA</td>\n",
       "      <td>TOTAL</td>\n",
       "      <td>1999</td>\n",
       "      <td>22.0</td>\n",
       "      <td>96.54</td>\n",
       "      <td>71.69</td>\n",
       "      <td>5636.73</td>\n",
       "    </tr>\n",
       "  </tbody>\n",
       "</table>\n",
       "</div>"
      ],
      "text/plain": [
       "    Unnamed: 0           pais pais_iso indicador  anio  frecuencia  \\\n",
       "40        6708         Canada      CAN     TOTAL  1990         1.0   \n",
       "41        6729          China      CHN     TOTAL  1990        14.0   \n",
       "42        7098   Saudi Arabia      SAU     TOTAL  1990         NaN   \n",
       "43        7213  United States      USA     TOTAL  1990        21.0   \n",
       "44        7366         Canada      CAN     TOTAL  1991         1.0   \n",
       "45        7387          China      CHN     TOTAL  1991        10.0   \n",
       "46        7756   Saudi Arabia      SAU     TOTAL  1991         NaN   \n",
       "47        7871  United States      USA     TOTAL  1991        35.0   \n",
       "48        8024         Canada      CAN     TOTAL  1992         2.0   \n",
       "49        8045          China      CHN     TOTAL  1992        16.0   \n",
       "50        8414   Saudi Arabia      SAU     TOTAL  1992         NaN   \n",
       "51        8529  United States      USA     TOTAL  1992        29.0   \n",
       "52        8682         Canada      CAN     TOTAL  1993         1.0   \n",
       "53        8703          China      CHN     TOTAL  1993        16.0   \n",
       "54        9072   Saudi Arabia      SAU     TOTAL  1993         NaN   \n",
       "55        9187  United States      USA     TOTAL  1993        28.0   \n",
       "56        9340         Canada      CAN     TOTAL  1994         3.0   \n",
       "57        9361          China      CHN     TOTAL  1994        15.0   \n",
       "58        9730   Saudi Arabia      SAU     TOTAL  1994         NaN   \n",
       "59        9845  United States      USA     TOTAL  1994        14.0   \n",
       "60        9998         Canada      CAN     TOTAL  1995         4.0   \n",
       "61       10019          China      CHN     TOTAL  1995        12.0   \n",
       "62       10388   Saudi Arabia      SAU     TOTAL  1995         NaN   \n",
       "63       10503  United States      USA     TOTAL  1995        18.0   \n",
       "64       10656         Canada      CAN     TOTAL  1996         2.0   \n",
       "65       10677          China      CHN     TOTAL  1996        16.0   \n",
       "66       11046   Saudi Arabia      SAU     TOTAL  1996         NaN   \n",
       "67       11161  United States      USA     TOTAL  1996        15.0   \n",
       "68       11314         Canada      CAN     TOTAL  1997         3.0   \n",
       "69       11335          China      CHN     TOTAL  1997        17.0   \n",
       "70       11704   Saudi Arabia      SAU     TOTAL  1997         NaN   \n",
       "71       11819  United States      USA     TOTAL  1997        33.0   \n",
       "72       11972         Canada      CAN     TOTAL  1998         3.0   \n",
       "73       11993          China      CHN     TOTAL  1998        11.0   \n",
       "74       12362   Saudi Arabia      SAU     TOTAL  1998         NaN   \n",
       "75       12477  United States      USA     TOTAL  1998        32.0   \n",
       "76       12630         Canada      CAN     TOTAL  1999         3.0   \n",
       "77       12651          China      CHN     TOTAL  1999        18.0   \n",
       "78       13020   Saudi Arabia      SAU     TOTAL  1999         NaN   \n",
       "79       13135  United States      USA     TOTAL  1999        22.0   \n",
       "\n",
       "    energia_cons  energia_produccion  co2_emision_co2  \n",
       "40         10.64               13.15           467.66  \n",
       "41         28.37               31.88          2413.19  \n",
       "42          3.34               15.92           191.44  \n",
       "43         84.43               70.67          5084.56  \n",
       "44         10.76               13.69           432.77  \n",
       "45         28.72               32.13          2417.24  \n",
       "46          3.49               19.75           198.83  \n",
       "47         84.38               70.32          5037.90  \n",
       "48         11.11               14.23           425.95  \n",
       "49         30.08               32.91          2460.41  \n",
       "50          3.68               20.39           202.80  \n",
       "51         85.72               69.91          4992.68  \n",
       "52         11.36               15.13           448.63  \n",
       "53         32.38               34.05          2541.08  \n",
       "54          3.78               20.11           213.71  \n",
       "55         87.27               68.27          5093.88  \n",
       "56         11.71               16.06           447.59  \n",
       "57         34.81               36.21          2730.93  \n",
       "58          3.88               20.39           214.48  \n",
       "59         88.98               70.68          5185.52  \n",
       "60         11.87               16.52           460.94  \n",
       "61         37.50               37.96          2916.39  \n",
       "62          3.82               20.66           221.03  \n",
       "63         90.93               71.13          5262.66  \n",
       "64         12.22               16.91           468.11  \n",
       "65         39.33               40.03          3140.32  \n",
       "66          4.11               20.81           212.67  \n",
       "67         93.93               72.44          5324.31  \n",
       "68         12.23               17.06           479.17  \n",
       "69         37.40               39.42          3240.42  \n",
       "70          4.36               21.24           227.15  \n",
       "71         94.51               72.42          5518.03  \n",
       "72         11.85               17.05           492.26  \n",
       "73         38.42               39.06          3143.57  \n",
       "74          4.53               21.42           253.01  \n",
       "75         94.92               72.83          5589.32  \n",
       "76         12.48               17.31           488.88  \n",
       "77         39.92               38.82          3132.09  \n",
       "78          4.86               20.18           255.92  \n",
       "79         96.54               71.69          5636.73  "
      ]
     },
     "execution_count": 16,
     "metadata": {},
     "output_type": "execute_result"
    }
   ],
   "source": [
    "df3=pd.read_csv(\"C:/Users/Marcela/Desktop/HENRY/PF/CO2-Emissions/src/sadfa.csv\")\n",
    "df"
   ]
  },
  {
   "cell_type": "code",
   "execution_count": 2,
   "metadata": {},
   "outputs": [],
   "source": [
    "paises = ['Russia','China','United States', 'India']\n",
    "\n",
    "\n",
    "dataset = pd.read_csv(r\"..\\src\\sadfa.csv\")\n",
    "df2 = pd.DataFrame(dataset)\n",
    "df2 = df2.drop(columns=['ObjectId','ISO2','Code','Unit','Source'])\n",
    "\n",
    "fig = px.line(df3,x='anio',y=['frecuencia','co2_emision_co2'],color='pais')\n",
    "fig.show()"
   ]
  },
  {
   "cell_type": "code",
   "execution_count": 17,
   "metadata": {},
   "outputs": [
    {
     "data": {
      "text/html": [
       "<div>\n",
       "<style scoped>\n",
       "    .dataframe tbody tr th:only-of-type {\n",
       "        vertical-align: middle;\n",
       "    }\n",
       "\n",
       "    .dataframe tbody tr th {\n",
       "        vertical-align: top;\n",
       "    }\n",
       "\n",
       "    .dataframe thead th {\n",
       "        text-align: right;\n",
       "    }\n",
       "</style>\n",
       "<table border=\"1\" class=\"dataframe\">\n",
       "  <thead>\n",
       "    <tr style=\"text-align: right;\">\n",
       "      <th></th>\n",
       "      <th>Unnamed: 0</th>\n",
       "      <th>pais</th>\n",
       "      <th>energia_cons</th>\n",
       "      <th>energia_produccion</th>\n",
       "      <th>net_energy</th>\n",
       "    </tr>\n",
       "  </thead>\n",
       "  <tbody>\n",
       "    <tr>\n",
       "      <th>0</th>\n",
       "      <td>216</td>\n",
       "      <td>United States</td>\n",
       "      <td>3638.96</td>\n",
       "      <td>2954.70</td>\n",
       "      <td>-684.26</td>\n",
       "    </tr>\n",
       "    <tr>\n",
       "      <th>1</th>\n",
       "      <td>40</td>\n",
       "      <td>China</td>\n",
       "      <td>2631.26</td>\n",
       "      <td>2357.71</td>\n",
       "      <td>-273.55</td>\n",
       "    </tr>\n",
       "    <tr>\n",
       "      <th>2</th>\n",
       "      <td>166</td>\n",
       "      <td>Russia</td>\n",
       "      <td>829.04</td>\n",
       "      <td>1425.20</td>\n",
       "      <td>596.16</td>\n",
       "    </tr>\n",
       "    <tr>\n",
       "      <th>3</th>\n",
       "      <td>175</td>\n",
       "      <td>Saudi Arabia</td>\n",
       "      <td>230.03</td>\n",
       "      <td>855.38</td>\n",
       "      <td>625.35</td>\n",
       "    </tr>\n",
       "    <tr>\n",
       "      <th>4</th>\n",
       "      <td>35</td>\n",
       "      <td>Canada</td>\n",
       "      <td>493.98</td>\n",
       "      <td>664.51</td>\n",
       "      <td>170.53</td>\n",
       "    </tr>\n",
       "    <tr>\n",
       "      <th>5</th>\n",
       "      <td>97</td>\n",
       "      <td>Iran</td>\n",
       "      <td>234.81</td>\n",
       "      <td>420.41</td>\n",
       "      <td>185.60</td>\n",
       "    </tr>\n",
       "    <tr>\n",
       "      <th>6</th>\n",
       "      <td>10</td>\n",
       "      <td>Australia</td>\n",
       "      <td>186.47</td>\n",
       "      <td>386.62</td>\n",
       "      <td>200.15</td>\n",
       "    </tr>\n",
       "    <tr>\n",
       "      <th>7</th>\n",
       "      <td>95</td>\n",
       "      <td>India</td>\n",
       "      <td>570.45</td>\n",
       "      <td>381.70</td>\n",
       "      <td>-188.75</td>\n",
       "    </tr>\n",
       "    <tr>\n",
       "      <th>8</th>\n",
       "      <td>215</td>\n",
       "      <td>United Kingdom</td>\n",
       "      <td>366.92</td>\n",
       "      <td>345.38</td>\n",
       "      <td>-21.54</td>\n",
       "    </tr>\n",
       "    <tr>\n",
       "      <th>9</th>\n",
       "      <td>96</td>\n",
       "      <td>Indonesia</td>\n",
       "      <td>160.47</td>\n",
       "      <td>339.92</td>\n",
       "      <td>179.45</td>\n",
       "    </tr>\n",
       "    <tr>\n",
       "      <th>10</th>\n",
       "      <td>129</td>\n",
       "      <td>Mexico</td>\n",
       "      <td>247.47</td>\n",
       "      <td>332.65</td>\n",
       "      <td>85.18</td>\n",
       "    </tr>\n",
       "    <tr>\n",
       "      <th>11</th>\n",
       "      <td>151</td>\n",
       "      <td>Norway</td>\n",
       "      <td>70.58</td>\n",
       "      <td>315.04</td>\n",
       "      <td>244.46</td>\n",
       "    </tr>\n",
       "    <tr>\n",
       "      <th>12</th>\n",
       "      <td>220</td>\n",
       "      <td>Venezuela</td>\n",
       "      <td>101.94</td>\n",
       "      <td>280.02</td>\n",
       "      <td>178.08</td>\n",
       "    </tr>\n",
       "    <tr>\n",
       "      <th>13</th>\n",
       "      <td>25</td>\n",
       "      <td>Brazil</td>\n",
       "      <td>327.05</td>\n",
       "      <td>270.47</td>\n",
       "      <td>-56.58</td>\n",
       "    </tr>\n",
       "    <tr>\n",
       "      <th>14</th>\n",
       "      <td>214</td>\n",
       "      <td>United Arab Emirates</td>\n",
       "      <td>94.26</td>\n",
       "      <td>265.44</td>\n",
       "      <td>171.18</td>\n",
       "    </tr>\n",
       "  </tbody>\n",
       "</table>\n",
       "</div>"
      ],
      "text/plain": [
       "    Unnamed: 0                  pais  energia_cons  energia_produccion  \\\n",
       "0          216         United States       3638.96             2954.70   \n",
       "1           40                 China       2631.26             2357.71   \n",
       "2          166                Russia        829.04             1425.20   \n",
       "3          175          Saudi Arabia        230.03              855.38   \n",
       "4           35                Canada        493.98              664.51   \n",
       "5           97                  Iran        234.81              420.41   \n",
       "6           10             Australia        186.47              386.62   \n",
       "7           95                 India        570.45              381.70   \n",
       "8          215        United Kingdom        366.92              345.38   \n",
       "9           96             Indonesia        160.47              339.92   \n",
       "10         129                Mexico        247.47              332.65   \n",
       "11         151                Norway         70.58              315.04   \n",
       "12         220             Venezuela        101.94              280.02   \n",
       "13          25                Brazil        327.05              270.47   \n",
       "14         214  United Arab Emirates         94.26              265.44   \n",
       "\n",
       "    net_energy  \n",
       "0      -684.26  \n",
       "1      -273.55  \n",
       "2       596.16  \n",
       "3       625.35  \n",
       "4       170.53  \n",
       "5       185.60  \n",
       "6       200.15  \n",
       "7      -188.75  \n",
       "8       -21.54  \n",
       "9       179.45  \n",
       "10       85.18  \n",
       "11      244.46  \n",
       "12      178.08  \n",
       "13      -56.58  \n",
       "14      171.18  "
      ]
     },
     "execution_count": 17,
     "metadata": {},
     "output_type": "execute_result"
    }
   ],
   "source": [
    "df_energia=pd.read_csv('C:/Users/Marcela/Desktop/HENRY/PF/CO2-Emissions/src/df_energia.csv')\n",
    "df_energia"
   ]
  },
  {
   "cell_type": "code",
   "execution_count": 25,
   "metadata": {},
   "outputs": [
    {
     "ename": "ValueError",
     "evalue": "The first argument to the plotly.graph_objs.Bar\nconstructor must be a dict or\nan instance of :class:`plotly.graph_objs.Bar`",
     "output_type": "error",
     "traceback": [
      "\u001b[1;31m---------------------------------------------------------------------------\u001b[0m",
      "\u001b[1;31mValueError\u001b[0m                                Traceback (most recent call last)",
      "\u001b[1;32mc:\\Users\\Marcela\\Desktop\\HENRY\\PF\\CO2-Emissions\\exploration\\analisis.ipynb Celda 5\u001b[0m in \u001b[0;36m<cell line: 4>\u001b[1;34m()\u001b[0m\n\u001b[0;32m      <a href='vscode-notebook-cell:/c%3A/Users/Marcela/Desktop/HENRY/PF/CO2-Emissions/exploration/analisis.ipynb#W6sZmlsZQ%3D%3D?line=0'>1</a>\u001b[0m df_energia\u001b[39m=\u001b[39mdf_energia\u001b[39m.\u001b[39mloc[df_energia[\u001b[39m'\u001b[39m\u001b[39mpais\u001b[39m\u001b[39m'\u001b[39m]\u001b[39m==\u001b[39m\u001b[39m'\u001b[39m\u001b[39mUnited States\u001b[39m\u001b[39m'\u001b[39m]\n\u001b[0;32m      <a href='vscode-notebook-cell:/c%3A/Users/Marcela/Desktop/HENRY/PF/CO2-Emissions/exploration/analisis.ipynb#W6sZmlsZQ%3D%3D?line=2'>3</a>\u001b[0m fig \u001b[39m=\u001b[39m make_subplots()\n\u001b[1;32m----> <a href='vscode-notebook-cell:/c%3A/Users/Marcela/Desktop/HENRY/PF/CO2-Emissions/exploration/analisis.ipynb#W6sZmlsZQ%3D%3D?line=3'>4</a>\u001b[0m fig\u001b[39m.\u001b[39madd_trace(go\u001b[39m.\u001b[39;49mBar(df_energia,x\u001b[39m=\u001b[39;49m\u001b[39m'\u001b[39;49m\u001b[39mpais\u001b[39;49m\u001b[39m'\u001b[39;49m,y\u001b[39m=\u001b[39;49m\u001b[39m'\u001b[39;49m\u001b[39menergia_cons\u001b[39;49m\u001b[39m'\u001b[39;49m,name\u001b[39m=\u001b[39;49m\u001b[39m'\u001b[39;49m\u001b[39mConsumo\u001b[39;49m\u001b[39m'\u001b[39;49m))\n\u001b[0;32m      <a href='vscode-notebook-cell:/c%3A/Users/Marcela/Desktop/HENRY/PF/CO2-Emissions/exploration/analisis.ipynb#W6sZmlsZQ%3D%3D?line=4'>5</a>\u001b[0m fig\u001b[39m.\u001b[39madd_trace(go\u001b[39m.\u001b[39mBar(df_energia,x\u001b[39m=\u001b[39m\u001b[39m'\u001b[39m\u001b[39mpais\u001b[39m\u001b[39m'\u001b[39m,y\u001b[39m=\u001b[39m\u001b[39m'\u001b[39m\u001b[39menergia_produccion\u001b[39m\u001b[39m'\u001b[39m,base\u001b[39m=\u001b[39m\u001b[39m'\u001b[39m\u001b[39mstack\u001b[39m\u001b[39m'\u001b[39m,name\u001b[39m=\u001b[39m\u001b[39m'\u001b[39m\u001b[39mProduccion\u001b[39m\u001b[39m'\u001b[39m,opacity\u001b[39m=\u001b[39m\u001b[39m0.6\u001b[39m))\n\u001b[0;32m      <a href='vscode-notebook-cell:/c%3A/Users/Marcela/Desktop/HENRY/PF/CO2-Emissions/exploration/analisis.ipynb#W6sZmlsZQ%3D%3D?line=5'>6</a>\u001b[0m fig\u001b[39m.\u001b[39madd_trace(go\u001b[39m.\u001b[39mScatter(df_energia,x\u001b[39m=\u001b[39m\u001b[39m'\u001b[39m\u001b[39mpais\u001b[39m\u001b[39m'\u001b[39m,y\u001b[39m=\u001b[39m\u001b[39m'\u001b[39m\u001b[39mnet_energy\u001b[39m\u001b[39m'\u001b[39m,name\u001b[39m=\u001b[39m\u001b[39m'\u001b[39m\u001b[39mNeto\u001b[39m\u001b[39m'\u001b[39m))\n",
      "File \u001b[1;32mc:\\Users\\Marcela\\AppData\\Local\\Programs\\Python\\Python39\\lib\\site-packages\\plotly\\graph_objs\\_bar.py:2945\u001b[0m, in \u001b[0;36mBar.__init__\u001b[1;34m(self, arg, alignmentgroup, base, basesrc, cliponaxis, constraintext, customdata, customdatasrc, dx, dy, error_x, error_y, hoverinfo, hoverinfosrc, hoverlabel, hovertemplate, hovertemplatesrc, hovertext, hovertextsrc, ids, idssrc, insidetextanchor, insidetextfont, legendgroup, legendgrouptitle, legendrank, marker, meta, metasrc, name, offset, offsetgroup, offsetsrc, opacity, orientation, outsidetextfont, selected, selectedpoints, showlegend, stream, text, textangle, textfont, textposition, textpositionsrc, textsrc, texttemplate, texttemplatesrc, uid, uirevision, unselected, visible, width, widthsrc, x, x0, xaxis, xcalendar, xhoverformat, xperiod, xperiod0, xperiodalignment, xsrc, y, y0, yaxis, ycalendar, yhoverformat, yperiod, yperiod0, yperiodalignment, ysrc, **kwargs)\u001b[0m\n\u001b[0;32m   2943\u001b[0m             arg \u001b[39m=\u001b[39m _copy\u001b[39m.\u001b[39mcopy(arg)\n\u001b[0;32m   2944\u001b[0m         \u001b[39melse\u001b[39;00m:\n\u001b[1;32m-> 2945\u001b[0m             \u001b[39mraise\u001b[39;00m \u001b[39mValueError\u001b[39;00m(\n\u001b[0;32m   2946\u001b[0m                 \u001b[39m\"\"\"\\\u001b[39;00m\n\u001b[0;32m   2947\u001b[0m \u001b[39mThe first argument to the plotly.graph_objs.Bar\u001b[39;00m\n\u001b[0;32m   2948\u001b[0m \u001b[39mconstructor must be a dict or\u001b[39;00m\n\u001b[0;32m   2949\u001b[0m \u001b[39man instance of :class:`plotly.graph_objs.Bar`\"\"\"\u001b[39;00m\n\u001b[0;32m   2950\u001b[0m             )\n\u001b[0;32m   2952\u001b[0m         \u001b[39m# Handle skip_invalid\u001b[39;00m\n\u001b[0;32m   2953\u001b[0m         \u001b[39m# -------------------\u001b[39;00m\n\u001b[0;32m   2954\u001b[0m         \u001b[39mself\u001b[39m\u001b[39m.\u001b[39m_skip_invalid \u001b[39m=\u001b[39m kwargs\u001b[39m.\u001b[39mpop(\u001b[39m\"\u001b[39m\u001b[39mskip_invalid\u001b[39m\u001b[39m\"\u001b[39m, \u001b[39mFalse\u001b[39;00m)\n",
      "\u001b[1;31mValueError\u001b[0m: The first argument to the plotly.graph_objs.Bar\nconstructor must be a dict or\nan instance of :class:`plotly.graph_objs.Bar`"
     ]
    }
   ],
   "source": [
    "df_energia=df_energia.loc[df_energia['pais']=='United States']\n",
    "\n",
    "fig = make_subplots()\n",
    "fig.add_trace(go.Bar(x=df_energia['pais'],y=df_energia['energia_cons'],name='Consumo'))\n",
    "fig.add_trace(go.Bar(x=df_energia['pais'],y=df_energia['energia_produccion'],base='stack',name='Produccion',opacity=0.6))\n",
    "fig.add_trace(go.Scatter(x=df_energia['pais'],y=df_energia['net_energy'],name='Neto'))\n",
    "fig.update_layout(go.Layout(\n",
    "    barmode='overlay'\n",
    "))\n",
    "fig.update_layout(title='Consumo vs produccion en top paises productores energia',title_x = 0.4)\n",
    "fig.show()"
   ]
  },
  {
   "cell_type": "code",
   "execution_count": 27,
   "metadata": {},
   "outputs": [
    {
     "data": {
      "application/vnd.plotly.v1+json": {
       "config": {
        "plotlyServerURL": "https://plot.ly"
       },
       "data": [
        {
         "name": "Consumo",
         "type": "bar",
         "x": [
          "United States"
         ],
         "y": [
          3638.96
         ]
        },
        {
         "base": "stack",
         "name": "Produccion",
         "opacity": 0.6,
         "type": "bar",
         "x": [
          "United States"
         ],
         "y": [
          2954.7
         ]
        },
        {
         "name": "Neto",
         "type": "scatter",
         "x": [
          "United States"
         ],
         "y": [
          -684.2600000000002
         ]
        }
       ],
       "layout": {
        "barmode": "overlay",
        "template": {
         "data": {
          "bar": [
           {
            "error_x": {
             "color": "#2a3f5f"
            },
            "error_y": {
             "color": "#2a3f5f"
            },
            "marker": {
             "line": {
              "color": "#E5ECF6",
              "width": 0.5
             },
             "pattern": {
              "fillmode": "overlay",
              "size": 10,
              "solidity": 0.2
             }
            },
            "type": "bar"
           }
          ],
          "barpolar": [
           {
            "marker": {
             "line": {
              "color": "#E5ECF6",
              "width": 0.5
             },
             "pattern": {
              "fillmode": "overlay",
              "size": 10,
              "solidity": 0.2
             }
            },
            "type": "barpolar"
           }
          ],
          "carpet": [
           {
            "aaxis": {
             "endlinecolor": "#2a3f5f",
             "gridcolor": "white",
             "linecolor": "white",
             "minorgridcolor": "white",
             "startlinecolor": "#2a3f5f"
            },
            "baxis": {
             "endlinecolor": "#2a3f5f",
             "gridcolor": "white",
             "linecolor": "white",
             "minorgridcolor": "white",
             "startlinecolor": "#2a3f5f"
            },
            "type": "carpet"
           }
          ],
          "choropleth": [
           {
            "colorbar": {
             "outlinewidth": 0,
             "ticks": ""
            },
            "type": "choropleth"
           }
          ],
          "contour": [
           {
            "colorbar": {
             "outlinewidth": 0,
             "ticks": ""
            },
            "colorscale": [
             [
              0,
              "#0d0887"
             ],
             [
              0.1111111111111111,
              "#46039f"
             ],
             [
              0.2222222222222222,
              "#7201a8"
             ],
             [
              0.3333333333333333,
              "#9c179e"
             ],
             [
              0.4444444444444444,
              "#bd3786"
             ],
             [
              0.5555555555555556,
              "#d8576b"
             ],
             [
              0.6666666666666666,
              "#ed7953"
             ],
             [
              0.7777777777777778,
              "#fb9f3a"
             ],
             [
              0.8888888888888888,
              "#fdca26"
             ],
             [
              1,
              "#f0f921"
             ]
            ],
            "type": "contour"
           }
          ],
          "contourcarpet": [
           {
            "colorbar": {
             "outlinewidth": 0,
             "ticks": ""
            },
            "type": "contourcarpet"
           }
          ],
          "heatmap": [
           {
            "colorbar": {
             "outlinewidth": 0,
             "ticks": ""
            },
            "colorscale": [
             [
              0,
              "#0d0887"
             ],
             [
              0.1111111111111111,
              "#46039f"
             ],
             [
              0.2222222222222222,
              "#7201a8"
             ],
             [
              0.3333333333333333,
              "#9c179e"
             ],
             [
              0.4444444444444444,
              "#bd3786"
             ],
             [
              0.5555555555555556,
              "#d8576b"
             ],
             [
              0.6666666666666666,
              "#ed7953"
             ],
             [
              0.7777777777777778,
              "#fb9f3a"
             ],
             [
              0.8888888888888888,
              "#fdca26"
             ],
             [
              1,
              "#f0f921"
             ]
            ],
            "type": "heatmap"
           }
          ],
          "heatmapgl": [
           {
            "colorbar": {
             "outlinewidth": 0,
             "ticks": ""
            },
            "colorscale": [
             [
              0,
              "#0d0887"
             ],
             [
              0.1111111111111111,
              "#46039f"
             ],
             [
              0.2222222222222222,
              "#7201a8"
             ],
             [
              0.3333333333333333,
              "#9c179e"
             ],
             [
              0.4444444444444444,
              "#bd3786"
             ],
             [
              0.5555555555555556,
              "#d8576b"
             ],
             [
              0.6666666666666666,
              "#ed7953"
             ],
             [
              0.7777777777777778,
              "#fb9f3a"
             ],
             [
              0.8888888888888888,
              "#fdca26"
             ],
             [
              1,
              "#f0f921"
             ]
            ],
            "type": "heatmapgl"
           }
          ],
          "histogram": [
           {
            "marker": {
             "pattern": {
              "fillmode": "overlay",
              "size": 10,
              "solidity": 0.2
             }
            },
            "type": "histogram"
           }
          ],
          "histogram2d": [
           {
            "colorbar": {
             "outlinewidth": 0,
             "ticks": ""
            },
            "colorscale": [
             [
              0,
              "#0d0887"
             ],
             [
              0.1111111111111111,
              "#46039f"
             ],
             [
              0.2222222222222222,
              "#7201a8"
             ],
             [
              0.3333333333333333,
              "#9c179e"
             ],
             [
              0.4444444444444444,
              "#bd3786"
             ],
             [
              0.5555555555555556,
              "#d8576b"
             ],
             [
              0.6666666666666666,
              "#ed7953"
             ],
             [
              0.7777777777777778,
              "#fb9f3a"
             ],
             [
              0.8888888888888888,
              "#fdca26"
             ],
             [
              1,
              "#f0f921"
             ]
            ],
            "type": "histogram2d"
           }
          ],
          "histogram2dcontour": [
           {
            "colorbar": {
             "outlinewidth": 0,
             "ticks": ""
            },
            "colorscale": [
             [
              0,
              "#0d0887"
             ],
             [
              0.1111111111111111,
              "#46039f"
             ],
             [
              0.2222222222222222,
              "#7201a8"
             ],
             [
              0.3333333333333333,
              "#9c179e"
             ],
             [
              0.4444444444444444,
              "#bd3786"
             ],
             [
              0.5555555555555556,
              "#d8576b"
             ],
             [
              0.6666666666666666,
              "#ed7953"
             ],
             [
              0.7777777777777778,
              "#fb9f3a"
             ],
             [
              0.8888888888888888,
              "#fdca26"
             ],
             [
              1,
              "#f0f921"
             ]
            ],
            "type": "histogram2dcontour"
           }
          ],
          "mesh3d": [
           {
            "colorbar": {
             "outlinewidth": 0,
             "ticks": ""
            },
            "type": "mesh3d"
           }
          ],
          "parcoords": [
           {
            "line": {
             "colorbar": {
              "outlinewidth": 0,
              "ticks": ""
             }
            },
            "type": "parcoords"
           }
          ],
          "pie": [
           {
            "automargin": true,
            "type": "pie"
           }
          ],
          "scatter": [
           {
            "fillpattern": {
             "fillmode": "overlay",
             "size": 10,
             "solidity": 0.2
            },
            "type": "scatter"
           }
          ],
          "scatter3d": [
           {
            "line": {
             "colorbar": {
              "outlinewidth": 0,
              "ticks": ""
             }
            },
            "marker": {
             "colorbar": {
              "outlinewidth": 0,
              "ticks": ""
             }
            },
            "type": "scatter3d"
           }
          ],
          "scattercarpet": [
           {
            "marker": {
             "colorbar": {
              "outlinewidth": 0,
              "ticks": ""
             }
            },
            "type": "scattercarpet"
           }
          ],
          "scattergeo": [
           {
            "marker": {
             "colorbar": {
              "outlinewidth": 0,
              "ticks": ""
             }
            },
            "type": "scattergeo"
           }
          ],
          "scattergl": [
           {
            "marker": {
             "colorbar": {
              "outlinewidth": 0,
              "ticks": ""
             }
            },
            "type": "scattergl"
           }
          ],
          "scattermapbox": [
           {
            "marker": {
             "colorbar": {
              "outlinewidth": 0,
              "ticks": ""
             }
            },
            "type": "scattermapbox"
           }
          ],
          "scatterpolar": [
           {
            "marker": {
             "colorbar": {
              "outlinewidth": 0,
              "ticks": ""
             }
            },
            "type": "scatterpolar"
           }
          ],
          "scatterpolargl": [
           {
            "marker": {
             "colorbar": {
              "outlinewidth": 0,
              "ticks": ""
             }
            },
            "type": "scatterpolargl"
           }
          ],
          "scatterternary": [
           {
            "marker": {
             "colorbar": {
              "outlinewidth": 0,
              "ticks": ""
             }
            },
            "type": "scatterternary"
           }
          ],
          "surface": [
           {
            "colorbar": {
             "outlinewidth": 0,
             "ticks": ""
            },
            "colorscale": [
             [
              0,
              "#0d0887"
             ],
             [
              0.1111111111111111,
              "#46039f"
             ],
             [
              0.2222222222222222,
              "#7201a8"
             ],
             [
              0.3333333333333333,
              "#9c179e"
             ],
             [
              0.4444444444444444,
              "#bd3786"
             ],
             [
              0.5555555555555556,
              "#d8576b"
             ],
             [
              0.6666666666666666,
              "#ed7953"
             ],
             [
              0.7777777777777778,
              "#fb9f3a"
             ],
             [
              0.8888888888888888,
              "#fdca26"
             ],
             [
              1,
              "#f0f921"
             ]
            ],
            "type": "surface"
           }
          ],
          "table": [
           {
            "cells": {
             "fill": {
              "color": "#EBF0F8"
             },
             "line": {
              "color": "white"
             }
            },
            "header": {
             "fill": {
              "color": "#C8D4E3"
             },
             "line": {
              "color": "white"
             }
            },
            "type": "table"
           }
          ]
         },
         "layout": {
          "annotationdefaults": {
           "arrowcolor": "#2a3f5f",
           "arrowhead": 0,
           "arrowwidth": 1
          },
          "autotypenumbers": "strict",
          "coloraxis": {
           "colorbar": {
            "outlinewidth": 0,
            "ticks": ""
           }
          },
          "colorscale": {
           "diverging": [
            [
             0,
             "#8e0152"
            ],
            [
             0.1,
             "#c51b7d"
            ],
            [
             0.2,
             "#de77ae"
            ],
            [
             0.3,
             "#f1b6da"
            ],
            [
             0.4,
             "#fde0ef"
            ],
            [
             0.5,
             "#f7f7f7"
            ],
            [
             0.6,
             "#e6f5d0"
            ],
            [
             0.7,
             "#b8e186"
            ],
            [
             0.8,
             "#7fbc41"
            ],
            [
             0.9,
             "#4d9221"
            ],
            [
             1,
             "#276419"
            ]
           ],
           "sequential": [
            [
             0,
             "#0d0887"
            ],
            [
             0.1111111111111111,
             "#46039f"
            ],
            [
             0.2222222222222222,
             "#7201a8"
            ],
            [
             0.3333333333333333,
             "#9c179e"
            ],
            [
             0.4444444444444444,
             "#bd3786"
            ],
            [
             0.5555555555555556,
             "#d8576b"
            ],
            [
             0.6666666666666666,
             "#ed7953"
            ],
            [
             0.7777777777777778,
             "#fb9f3a"
            ],
            [
             0.8888888888888888,
             "#fdca26"
            ],
            [
             1,
             "#f0f921"
            ]
           ],
           "sequentialminus": [
            [
             0,
             "#0d0887"
            ],
            [
             0.1111111111111111,
             "#46039f"
            ],
            [
             0.2222222222222222,
             "#7201a8"
            ],
            [
             0.3333333333333333,
             "#9c179e"
            ],
            [
             0.4444444444444444,
             "#bd3786"
            ],
            [
             0.5555555555555556,
             "#d8576b"
            ],
            [
             0.6666666666666666,
             "#ed7953"
            ],
            [
             0.7777777777777778,
             "#fb9f3a"
            ],
            [
             0.8888888888888888,
             "#fdca26"
            ],
            [
             1,
             "#f0f921"
            ]
           ]
          },
          "colorway": [
           "#636efa",
           "#EF553B",
           "#00cc96",
           "#ab63fa",
           "#FFA15A",
           "#19d3f3",
           "#FF6692",
           "#B6E880",
           "#FF97FF",
           "#FECB52"
          ],
          "font": {
           "color": "#2a3f5f"
          },
          "geo": {
           "bgcolor": "white",
           "lakecolor": "white",
           "landcolor": "#E5ECF6",
           "showlakes": true,
           "showland": true,
           "subunitcolor": "white"
          },
          "hoverlabel": {
           "align": "left"
          },
          "hovermode": "closest",
          "mapbox": {
           "style": "light"
          },
          "paper_bgcolor": "white",
          "plot_bgcolor": "#E5ECF6",
          "polar": {
           "angularaxis": {
            "gridcolor": "white",
            "linecolor": "white",
            "ticks": ""
           },
           "bgcolor": "#E5ECF6",
           "radialaxis": {
            "gridcolor": "white",
            "linecolor": "white",
            "ticks": ""
           }
          },
          "scene": {
           "xaxis": {
            "backgroundcolor": "#E5ECF6",
            "gridcolor": "white",
            "gridwidth": 2,
            "linecolor": "white",
            "showbackground": true,
            "ticks": "",
            "zerolinecolor": "white"
           },
           "yaxis": {
            "backgroundcolor": "#E5ECF6",
            "gridcolor": "white",
            "gridwidth": 2,
            "linecolor": "white",
            "showbackground": true,
            "ticks": "",
            "zerolinecolor": "white"
           },
           "zaxis": {
            "backgroundcolor": "#E5ECF6",
            "gridcolor": "white",
            "gridwidth": 2,
            "linecolor": "white",
            "showbackground": true,
            "ticks": "",
            "zerolinecolor": "white"
           }
          },
          "shapedefaults": {
           "line": {
            "color": "#2a3f5f"
           }
          },
          "ternary": {
           "aaxis": {
            "gridcolor": "white",
            "linecolor": "white",
            "ticks": ""
           },
           "baxis": {
            "gridcolor": "white",
            "linecolor": "white",
            "ticks": ""
           },
           "bgcolor": "#E5ECF6",
           "caxis": {
            "gridcolor": "white",
            "linecolor": "white",
            "ticks": ""
           }
          },
          "title": {
           "x": 0.05
          },
          "xaxis": {
           "automargin": true,
           "gridcolor": "white",
           "linecolor": "white",
           "ticks": "",
           "title": {
            "standoff": 15
           },
           "zerolinecolor": "white",
           "zerolinewidth": 2
          },
          "yaxis": {
           "automargin": true,
           "gridcolor": "white",
           "linecolor": "white",
           "ticks": "",
           "title": {
            "standoff": 15
           },
           "zerolinecolor": "white",
           "zerolinewidth": 2
          }
         }
        },
        "title": {
         "text": "Consumo vs produccion en top paises productores energia",
         "x": 0.4
        },
        "xaxis": {
         "anchor": "y",
         "domain": [
          0,
          1
         ]
        },
        "yaxis": {
         "anchor": "x",
         "domain": [
          0,
          1
         ]
        }
       }
      }
     },
     "metadata": {},
     "output_type": "display_data"
    }
   ],
   "source": [
    "paises=df_energia.pais.unique()\n",
    "paises=paises.tolist()\n",
    "# multi_pais=st.multiselect(\n",
    "#     'Se mostraran resultados de los siguientes paises:',\n",
    "#     paises,\n",
    "#     paises[0])\n",
    "\n",
    "df_energia=df_energia.loc[df_energia['pais']==paises[0]]\n",
    "fig1 = make_subplots()\n",
    "fig1.add_trace(go.Bar(x=df_energia['pais'],y=df_energia['energia_cons'],name='Consumo'))\n",
    "fig1.add_trace(go.Bar(x=df_energia['pais'],y=df_energia['energia_produccion'],base='stack',name='Produccion',opacity=0.6))\n",
    "fig1.add_trace(go.Scatter(x=df_energia['pais'],y=df_energia['net_energy'],name='Neto'))\n",
    "fig1.update_layout(go.Layout(\n",
    "    barmode='overlay'\n",
    "))\n",
    "fig1.update_layout(title='Consumo vs produccion en top paises productores energia',title_x = 0.4)\n",
    "fig1.show()"
   ]
  },
  {
   "cell_type": "code",
   "execution_count": 6,
   "metadata": {},
   "outputs": [
    {
     "data": {
      "text/plain": [
       "40"
      ]
     },
     "execution_count": 6,
     "metadata": {},
     "output_type": "execute_result"
    }
   ],
   "source": [
    "años=list(range(1980,2020))\n",
    "len(años)"
   ]
  },
  {
   "cell_type": "code",
   "execution_count": 23,
   "metadata": {},
   "outputs": [
    {
     "data": {
      "text/html": [
       "<div>\n",
       "<style scoped>\n",
       "    .dataframe tbody tr th:only-of-type {\n",
       "        vertical-align: middle;\n",
       "    }\n",
       "\n",
       "    .dataframe tbody tr th {\n",
       "        vertical-align: top;\n",
       "    }\n",
       "\n",
       "    .dataframe thead th {\n",
       "        text-align: right;\n",
       "    }\n",
       "</style>\n",
       "<table border=\"1\" class=\"dataframe\">\n",
       "  <thead>\n",
       "    <tr style=\"text-align: right;\">\n",
       "      <th></th>\n",
       "      <th>Unnamed: 0</th>\n",
       "      <th>pais</th>\n",
       "      <th>energia_cons</th>\n",
       "      <th>energia_produccion</th>\n",
       "      <th>net_energy</th>\n",
       "    </tr>\n",
       "  </thead>\n",
       "  <tbody>\n",
       "    <tr>\n",
       "      <th>0</th>\n",
       "      <td>216</td>\n",
       "      <td>United States</td>\n",
       "      <td>3638.96</td>\n",
       "      <td>2954.7</td>\n",
       "      <td>-684.26</td>\n",
       "    </tr>\n",
       "  </tbody>\n",
       "</table>\n",
       "</div>"
      ],
      "text/plain": [
       "   Unnamed: 0           pais  energia_cons  energia_produccion  net_energy\n",
       "0         216  United States       3638.96              2954.7     -684.26"
      ]
     },
     "execution_count": 23,
     "metadata": {},
     "output_type": "execute_result"
    }
   ],
   "source": [
    "\n",
    "df_energia"
   ]
  },
  {
   "cell_type": "code",
   "execution_count": 11,
   "metadata": {},
   "outputs": [
    {
     "name": "stdout",
     "output_type": "stream",
     "text": [
      "1990\n",
      "1999\n"
     ]
    }
   ],
   "source": [
    "df=dataset.loc[(dataset['anio']>=años[10])&(dataset['anio']<años[20])]\n",
    "print(df.anio.min())\n",
    "print(df.anio.max())"
   ]
  }
 ],
 "metadata": {
  "kernelspec": {
   "display_name": "Python 3.9.1 64-bit",
   "language": "python",
   "name": "python3"
  },
  "language_info": {
   "codemirror_mode": {
    "name": "ipython",
    "version": 3
   },
   "file_extension": ".py",
   "mimetype": "text/x-python",
   "name": "python",
   "nbconvert_exporter": "python",
   "pygments_lexer": "ipython3",
   "version": "3.9.1"
  },
  "orig_nbformat": 4,
  "vscode": {
   "interpreter": {
    "hash": "a0559b88bf02f17968009bc8b68620a63297cf3c2986821bba468c40f45d50b2"
   }
  }
 },
 "nbformat": 4,
 "nbformat_minor": 2
}
