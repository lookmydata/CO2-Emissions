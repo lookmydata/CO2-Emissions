{
 "cells": [
  {
   "cell_type": "code",
   "execution_count": 6,
   "metadata": {},
   "outputs": [],
   "source": [
    "import pandas as pd\n",
    "import numpy as np\n",
    "\n",
    "def cambiaraint (dataframe):\n",
    "    i = 0\n",
    "    for i in range(len(dataframe)):\n",
    "        if type(dataframe['casos'][i]) == str:\n",
    "            if \"k\" in dataframe['casos'][i]:\n",
    "                dataframe['casos'][i] = round(float(dataframe['casos'][i].split(\"k\")[0])*1000)\n",
    "        dataframe['casos'][i] = round(float(dataframe['casos'][i]))\n",
    "        i = i+1\n",
    "    return dataframe\n",
    "\n",
    "df_enfermedadesf = pd.read_csv(r\"..\\datasets\\enfermedades\\lung_cancer_number_of_new_female_cases.csv\")\n",
    "df_enfermedadesm = pd.read_csv(r\"..\\datasets\\enfermedades\\lung_cancer_number_of_new_male_cases.csv\")\n",
    "\n",
    "df_fem = df_enfermedadesf.copy()\n",
    "df_mas = df_enfermedadesm.copy() #Copio los csv a una variable\n",
    "\n",
    "df_fem = df_fem.fillna(0)\n",
    "df_mas = df_mas.fillna(0) #paso los nulos a 0 ya que en los csv hay promedio de personas con cancer de pulmon en tal lugar\n",
    "\n",
    "df_fem = df_fem.rename(columns={'country' :'pais'})\n",
    "df_mas = df_mas.rename(columns={'country' :'pais'}) #renombro columna\n",
    "\n",
    "df_fem = df_fem.melt(id_vars='pais', var_name='anio', value_name='casos')\n",
    "df_mas = df_mas.melt(id_vars='pais', var_name='anio', value_name='casos') #el .melt salvador xd\n",
    "\n",
    "\n",
    "df_fem = cambiaraint(df_fem)\n",
    "df_mas = cambiaraint(df_mas) # paso a INT los promedios ya que no puede haber 2,3 personas con cancer de pulmon\n",
    "\n",
    "df_fem = df_fem.rename(columns={'casos' :'casos F'})\n",
    "df_mas = df_mas.rename(columns={'casos' :'Casos M'})\n",
    "\n",
    "df = pd.merge(df_fem,df_mas,how='outer',on=['pais','anio'])\n",
    "\n",
    "df.to_parquet(r'..\\datasets\\enfermedades\\casos_cancer_pulmon_fym_NORMALIZADO.parquet')\n"
   ]
  }
 ],
 "metadata": {
  "kernelspec": {
   "display_name": "Python 3.10.4 64-bit",
   "language": "python",
   "name": "python3"
  },
  "language_info": {
   "codemirror_mode": {
    "name": "ipython",
    "version": 3
   },
   "file_extension": ".py",
   "mimetype": "text/x-python",
   "name": "python",
   "nbconvert_exporter": "python",
   "pygments_lexer": "ipython3",
   "version": "3.10.4"
  },
  "orig_nbformat": 4,
  "vscode": {
   "interpreter": {
    "hash": "0f4aad36e1a7834f44c14e84b98527cfbefef55e7a336cfec74130d804d73c8f"
   }
  }
 },
 "nbformat": 4,
 "nbformat_minor": 2
}
