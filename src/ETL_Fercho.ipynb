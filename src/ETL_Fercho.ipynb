{
 "cells": [
  {
   "cell_type": "code",
   "execution_count": 407,
   "metadata": {},
   "outputs": [],
   "source": [
    "import pandas as pd\n",
    "import numpy as np\n",
    "import datetime as dt\n",
    "import re\n",
    "import requests\n",
    "import plotly.express as px\n",
    "from plotly.subplots import make_subplots"
   ]
  },
  {
   "cell_type": "code",
   "execution_count": 143,
   "metadata": {},
   "outputs": [],
   "source": [
    "dic_cols = {'country':'pais','type':'tipo','year':'anio','consumption':'cons','production':'produccion','gdp':'pbi','population':'poblacion','intensity':'intensidad','emission':'emision_co2','indicator':'indicador','fuel':'combustible','wind':'eolica','electricity':'elec','energy':'energia','iso_code':'pais_iso','share':'participacion','renewable':'renovable','oil':'petroleo','change':'cambio','coal':'carbon','time':'periodo','product':'producto','value':'valor','unit':'unidad','iso3':'pais_iso','source':'fuente',}"
   ]
  },
  {
   "cell_type": "code",
   "execution_count": 142,
   "metadata": {},
   "outputs": [],
   "source": [
    "def nomCols(df,dic):\n",
    "    for column in df.columns:\n",
    "        df.rename(columns={column:column.lower()},inplace=True)\n",
    "    \n",
    "    for key in dic.keys():    \n",
    "        for column in df.columns:\n",
    "            if column == key:\n",
    "                nom = column.replace(column,dic[key])\n",
    "                df.rename(columns={column:nom},inplace=True)\n",
    "            elif key in column:\n",
    "                nom = column.replace(key,dic[key])\n",
    "                df.rename(columns={column:nom},inplace=True)\n",
    "    return df\n",
    "\n",
    "def dropBeforeYear(df,year):\n",
    "    lista = ['year','anio','año']\n",
    "    for column in df.columns:\n",
    "        if column.lower() in lista:\n",
    "            df = df[df[column]>=year].reset_index(drop=True)\n",
    "    return df"
   ]
  },
  {
   "cell_type": "markdown",
   "metadata": {},
   "source": [
    "**EnergyCO2**"
   ]
  },
  {
   "cell_type": "code",
   "execution_count": 645,
   "metadata": {},
   "outputs": [],
   "source": [
    "dataset = pd.read_csv(r\"..\\datasets\\energyco2.csv\")"
   ]
  },
  {
   "cell_type": "code",
   "execution_count": 646,
   "metadata": {},
   "outputs": [
    {
     "data": {
      "text/html": [
       "<div>\n",
       "<style scoped>\n",
       "    .dataframe tbody tr th:only-of-type {\n",
       "        vertical-align: middle;\n",
       "    }\n",
       "\n",
       "    .dataframe tbody tr th {\n",
       "        vertical-align: top;\n",
       "    }\n",
       "\n",
       "    .dataframe thead th {\n",
       "        text-align: right;\n",
       "    }\n",
       "</style>\n",
       "<table border=\"1\" class=\"dataframe\">\n",
       "  <thead>\n",
       "    <tr style=\"text-align: right;\">\n",
       "      <th></th>\n",
       "      <th>Unnamed: 0</th>\n",
       "      <th>Country</th>\n",
       "      <th>Energy_type</th>\n",
       "      <th>Year</th>\n",
       "      <th>Energy_consumption</th>\n",
       "      <th>Energy_production</th>\n",
       "      <th>GDP</th>\n",
       "      <th>Population</th>\n",
       "      <th>Energy_intensity_per_capita</th>\n",
       "      <th>Energy_intensity_by_GDP</th>\n",
       "      <th>CO2_emission</th>\n",
       "    </tr>\n",
       "  </thead>\n",
       "  <tbody>\n",
       "    <tr>\n",
       "      <th>0</th>\n",
       "      <td>0</td>\n",
       "      <td>World</td>\n",
       "      <td>all_energy_types</td>\n",
       "      <td>1980</td>\n",
       "      <td>292.899790</td>\n",
       "      <td>296.337228</td>\n",
       "      <td>27770.910281</td>\n",
       "      <td>4.298127e+06</td>\n",
       "      <td>68.145921</td>\n",
       "      <td>10.547</td>\n",
       "      <td>4946.627130</td>\n",
       "    </tr>\n",
       "    <tr>\n",
       "      <th>1</th>\n",
       "      <td>1</td>\n",
       "      <td>World</td>\n",
       "      <td>coal</td>\n",
       "      <td>1980</td>\n",
       "      <td>78.656134</td>\n",
       "      <td>80.114194</td>\n",
       "      <td>27770.910281</td>\n",
       "      <td>4.298127e+06</td>\n",
       "      <td>68.145921</td>\n",
       "      <td>10.547</td>\n",
       "      <td>1409.790188</td>\n",
       "    </tr>\n",
       "    <tr>\n",
       "      <th>2</th>\n",
       "      <td>2</td>\n",
       "      <td>World</td>\n",
       "      <td>natural_gas</td>\n",
       "      <td>1980</td>\n",
       "      <td>53.865223</td>\n",
       "      <td>54.761046</td>\n",
       "      <td>27770.910281</td>\n",
       "      <td>4.298127e+06</td>\n",
       "      <td>68.145921</td>\n",
       "      <td>10.547</td>\n",
       "      <td>1081.593377</td>\n",
       "    </tr>\n",
       "    <tr>\n",
       "      <th>3</th>\n",
       "      <td>3</td>\n",
       "      <td>World</td>\n",
       "      <td>petroleum_n_other_liquids</td>\n",
       "      <td>1980</td>\n",
       "      <td>132.064019</td>\n",
       "      <td>133.111109</td>\n",
       "      <td>27770.910281</td>\n",
       "      <td>4.298127e+06</td>\n",
       "      <td>68.145921</td>\n",
       "      <td>10.547</td>\n",
       "      <td>2455.243565</td>\n",
       "    </tr>\n",
       "    <tr>\n",
       "      <th>4</th>\n",
       "      <td>4</td>\n",
       "      <td>World</td>\n",
       "      <td>nuclear</td>\n",
       "      <td>1980</td>\n",
       "      <td>7.575700</td>\n",
       "      <td>7.575700</td>\n",
       "      <td>27770.910281</td>\n",
       "      <td>4.298127e+06</td>\n",
       "      <td>68.145921</td>\n",
       "      <td>10.547</td>\n",
       "      <td>0.000000</td>\n",
       "    </tr>\n",
       "  </tbody>\n",
       "</table>\n",
       "</div>"
      ],
      "text/plain": [
       "   Unnamed: 0 Country                Energy_type  Year  Energy_consumption  \\\n",
       "0           0   World           all_energy_types  1980          292.899790   \n",
       "1           1   World                       coal  1980           78.656134   \n",
       "2           2   World                natural_gas  1980           53.865223   \n",
       "3           3   World  petroleum_n_other_liquids  1980          132.064019   \n",
       "4           4   World                    nuclear  1980            7.575700   \n",
       "\n",
       "   Energy_production           GDP    Population  Energy_intensity_per_capita  \\\n",
       "0         296.337228  27770.910281  4.298127e+06                    68.145921   \n",
       "1          80.114194  27770.910281  4.298127e+06                    68.145921   \n",
       "2          54.761046  27770.910281  4.298127e+06                    68.145921   \n",
       "3         133.111109  27770.910281  4.298127e+06                    68.145921   \n",
       "4           7.575700  27770.910281  4.298127e+06                    68.145921   \n",
       "\n",
       "   Energy_intensity_by_GDP  CO2_emission  \n",
       "0                   10.547   4946.627130  \n",
       "1                   10.547   1409.790188  \n",
       "2                   10.547   1081.593377  \n",
       "3                   10.547   2455.243565  \n",
       "4                   10.547      0.000000  "
      ]
     },
     "execution_count": 646,
     "metadata": {},
     "output_type": "execute_result"
    }
   ],
   "source": [
    "df = pd.DataFrame(dataset)\n",
    "df.head()"
   ]
  },
  {
   "cell_type": "markdown",
   "metadata": {},
   "source": [
    "Dropeo la columna Unnamed: 0 que no contiene informacion"
   ]
  },
  {
   "cell_type": "code",
   "execution_count": 647,
   "metadata": {},
   "outputs": [],
   "source": [
    "df = df.drop(columns=\"Unnamed: 0\")"
   ]
  },
  {
   "cell_type": "code",
   "execution_count": 3,
   "metadata": {},
   "outputs": [],
   "source": [
    "#Le paso una serie y un tipo para chequear si los elementos de la serie pertenecen a esa clase o no\n",
    "def chequeoTipo(serie,clase):\n",
    "    pertenece = False\n",
    "    lista = []\n",
    "    for item in serie:\n",
    "        if isinstance(item,clase):\n",
    "            pertenece = True\n",
    "        else:\n",
    "            lista.append(item)\n",
    "    if len(lista)>0:\n",
    "        return lista\n",
    "    else: \n",
    "        return pertenece   \n"
   ]
  },
  {
   "cell_type": "code",
   "execution_count": 139,
   "metadata": {},
   "outputs": [
    {
     "ename": "NameError",
     "evalue": "name 'chequeoTipo' is not defined",
     "output_type": "error",
     "traceback": [
      "\u001b[1;31m---------------------------------------------------------------------------\u001b[0m",
      "\u001b[1;31mNameError\u001b[0m                                 Traceback (most recent call last)",
      "\u001b[1;32mc:\\Users\\ferch\\Desktop\\Henry\\Proyecto Grupal\\CO2-Emissions\\src\\ETL_Fercho.ipynb Cell 10\u001b[0m in \u001b[0;36m<cell line: 1>\u001b[1;34m()\u001b[0m\n\u001b[1;32m----> <a href='vscode-notebook-cell:/c%3A/Users/ferch/Desktop/Henry/Proyecto%20Grupal/CO2-Emissions/src/ETL_Fercho.ipynb#X12sZmlsZQ%3D%3D?line=0'>1</a>\u001b[0m chequeoTipo(df[\u001b[39m'\u001b[39m\u001b[39mCO2_emission\u001b[39m\u001b[39m'\u001b[39m],\u001b[39mfloat\u001b[39m)\n",
      "\u001b[1;31mNameError\u001b[0m: name 'chequeoTipo' is not defined"
     ]
    }
   ],
   "source": [
    "chequeoTipo(df['CO2_emission'],float)"
   ]
  },
  {
   "cell_type": "markdown",
   "metadata": {},
   "source": [
    "Todos los features tienen elementos de las clases adecuadas para sus datos"
   ]
  },
  {
   "cell_type": "markdown",
   "metadata": {},
   "source": [
    "Renombro columnas usando snake_case en español según definido por el equipo de trabajo"
   ]
  },
  {
   "cell_type": "markdown",
   "metadata": {},
   "source": [
    "Una vez que ya chequee que cada columna tenga el tipo de dato adecuado, puedo usar esa condicion para chequear todas las columnas y convertir a float de dos digitos"
   ]
  },
  {
   "cell_type": "code",
   "execution_count": 648,
   "metadata": {},
   "outputs": [],
   "source": [
    "for columna in df.columns:\n",
    "    if isinstance(df[columna][1],float):\n",
    "        df[columna] = df[columna].round(2)"
   ]
  },
  {
   "cell_type": "markdown",
   "metadata": {},
   "source": [
    "<hr>"
   ]
  },
  {
   "cell_type": "code",
   "execution_count": 649,
   "metadata": {},
   "outputs": [
    {
     "data": {
      "text/html": [
       "<div>\n",
       "<style scoped>\n",
       "    .dataframe tbody tr th:only-of-type {\n",
       "        vertical-align: middle;\n",
       "    }\n",
       "\n",
       "    .dataframe tbody tr th {\n",
       "        vertical-align: top;\n",
       "    }\n",
       "\n",
       "    .dataframe thead th {\n",
       "        text-align: right;\n",
       "    }\n",
       "</style>\n",
       "<table border=\"1\" class=\"dataframe\">\n",
       "  <thead>\n",
       "    <tr style=\"text-align: right;\">\n",
       "      <th></th>\n",
       "      <th>pais</th>\n",
       "      <th>energia_tipo</th>\n",
       "      <th>anio</th>\n",
       "      <th>energia_cons</th>\n",
       "      <th>energia_produccion</th>\n",
       "      <th>pbi</th>\n",
       "      <th>poblacion</th>\n",
       "      <th>energia_intensidad_per_capita</th>\n",
       "      <th>energia_intensidad_by_pbi</th>\n",
       "      <th>co2_emision_co2</th>\n",
       "    </tr>\n",
       "  </thead>\n",
       "  <tbody>\n",
       "    <tr>\n",
       "      <th>0</th>\n",
       "      <td>World</td>\n",
       "      <td>all_energy_types</td>\n",
       "      <td>1980</td>\n",
       "      <td>292.90</td>\n",
       "      <td>296.34</td>\n",
       "      <td>27770.91</td>\n",
       "      <td>4298126.52</td>\n",
       "      <td>68.15</td>\n",
       "      <td>10.55</td>\n",
       "      <td>4946.63</td>\n",
       "    </tr>\n",
       "    <tr>\n",
       "      <th>1</th>\n",
       "      <td>World</td>\n",
       "      <td>coal</td>\n",
       "      <td>1980</td>\n",
       "      <td>78.66</td>\n",
       "      <td>80.11</td>\n",
       "      <td>27770.91</td>\n",
       "      <td>4298126.52</td>\n",
       "      <td>68.15</td>\n",
       "      <td>10.55</td>\n",
       "      <td>1409.79</td>\n",
       "    </tr>\n",
       "    <tr>\n",
       "      <th>2</th>\n",
       "      <td>World</td>\n",
       "      <td>natural_gas</td>\n",
       "      <td>1980</td>\n",
       "      <td>53.87</td>\n",
       "      <td>54.76</td>\n",
       "      <td>27770.91</td>\n",
       "      <td>4298126.52</td>\n",
       "      <td>68.15</td>\n",
       "      <td>10.55</td>\n",
       "      <td>1081.59</td>\n",
       "    </tr>\n",
       "    <tr>\n",
       "      <th>3</th>\n",
       "      <td>World</td>\n",
       "      <td>petroleum_n_other_liquids</td>\n",
       "      <td>1980</td>\n",
       "      <td>132.06</td>\n",
       "      <td>133.11</td>\n",
       "      <td>27770.91</td>\n",
       "      <td>4298126.52</td>\n",
       "      <td>68.15</td>\n",
       "      <td>10.55</td>\n",
       "      <td>2455.24</td>\n",
       "    </tr>\n",
       "    <tr>\n",
       "      <th>4</th>\n",
       "      <td>World</td>\n",
       "      <td>nuclear</td>\n",
       "      <td>1980</td>\n",
       "      <td>7.58</td>\n",
       "      <td>7.58</td>\n",
       "      <td>27770.91</td>\n",
       "      <td>4298126.52</td>\n",
       "      <td>68.15</td>\n",
       "      <td>10.55</td>\n",
       "      <td>0.00</td>\n",
       "    </tr>\n",
       "    <tr>\n",
       "      <th>...</th>\n",
       "      <td>...</td>\n",
       "      <td>...</td>\n",
       "      <td>...</td>\n",
       "      <td>...</td>\n",
       "      <td>...</td>\n",
       "      <td>...</td>\n",
       "      <td>...</td>\n",
       "      <td>...</td>\n",
       "      <td>...</td>\n",
       "      <td>...</td>\n",
       "    </tr>\n",
       "    <tr>\n",
       "      <th>55435</th>\n",
       "      <td>Zimbabwe</td>\n",
       "      <td>coal</td>\n",
       "      <td>2019</td>\n",
       "      <td>0.05</td>\n",
       "      <td>0.08</td>\n",
       "      <td>37.62</td>\n",
       "      <td>14654.20</td>\n",
       "      <td>11.51</td>\n",
       "      <td>4.48</td>\n",
       "      <td>4.59</td>\n",
       "    </tr>\n",
       "    <tr>\n",
       "      <th>55436</th>\n",
       "      <td>Zimbabwe</td>\n",
       "      <td>natural_gas</td>\n",
       "      <td>2019</td>\n",
       "      <td>0.00</td>\n",
       "      <td>0.00</td>\n",
       "      <td>37.62</td>\n",
       "      <td>14654.20</td>\n",
       "      <td>11.51</td>\n",
       "      <td>4.48</td>\n",
       "      <td>0.00</td>\n",
       "    </tr>\n",
       "    <tr>\n",
       "      <th>55437</th>\n",
       "      <td>Zimbabwe</td>\n",
       "      <td>petroleum_n_other_liquids</td>\n",
       "      <td>2019</td>\n",
       "      <td>0.06</td>\n",
       "      <td>0.00</td>\n",
       "      <td>37.62</td>\n",
       "      <td>14654.20</td>\n",
       "      <td>11.51</td>\n",
       "      <td>4.48</td>\n",
       "      <td>4.38</td>\n",
       "    </tr>\n",
       "    <tr>\n",
       "      <th>55438</th>\n",
       "      <td>Zimbabwe</td>\n",
       "      <td>nuclear</td>\n",
       "      <td>2019</td>\n",
       "      <td>NaN</td>\n",
       "      <td>NaN</td>\n",
       "      <td>37.62</td>\n",
       "      <td>14654.20</td>\n",
       "      <td>11.51</td>\n",
       "      <td>4.48</td>\n",
       "      <td>0.00</td>\n",
       "    </tr>\n",
       "    <tr>\n",
       "      <th>55439</th>\n",
       "      <td>Zimbabwe</td>\n",
       "      <td>renewables_n_other</td>\n",
       "      <td>2019</td>\n",
       "      <td>0.07</td>\n",
       "      <td>0.07</td>\n",
       "      <td>37.62</td>\n",
       "      <td>14654.20</td>\n",
       "      <td>11.51</td>\n",
       "      <td>4.48</td>\n",
       "      <td>0.00</td>\n",
       "    </tr>\n",
       "  </tbody>\n",
       "</table>\n",
       "<p>55440 rows × 10 columns</p>\n",
       "</div>"
      ],
      "text/plain": [
       "           pais               energia_tipo  anio  energia_cons  \\\n",
       "0         World           all_energy_types  1980        292.90   \n",
       "1         World                       coal  1980         78.66   \n",
       "2         World                natural_gas  1980         53.87   \n",
       "3         World  petroleum_n_other_liquids  1980        132.06   \n",
       "4         World                    nuclear  1980          7.58   \n",
       "...         ...                        ...   ...           ...   \n",
       "55435  Zimbabwe                       coal  2019          0.05   \n",
       "55436  Zimbabwe                natural_gas  2019          0.00   \n",
       "55437  Zimbabwe  petroleum_n_other_liquids  2019          0.06   \n",
       "55438  Zimbabwe                    nuclear  2019           NaN   \n",
       "55439  Zimbabwe         renewables_n_other  2019          0.07   \n",
       "\n",
       "       energia_produccion       pbi   poblacion  \\\n",
       "0                  296.34  27770.91  4298126.52   \n",
       "1                   80.11  27770.91  4298126.52   \n",
       "2                   54.76  27770.91  4298126.52   \n",
       "3                  133.11  27770.91  4298126.52   \n",
       "4                    7.58  27770.91  4298126.52   \n",
       "...                   ...       ...         ...   \n",
       "55435                0.08     37.62    14654.20   \n",
       "55436                0.00     37.62    14654.20   \n",
       "55437                0.00     37.62    14654.20   \n",
       "55438                 NaN     37.62    14654.20   \n",
       "55439                0.07     37.62    14654.20   \n",
       "\n",
       "       energia_intensidad_per_capita  energia_intensidad_by_pbi  \\\n",
       "0                              68.15                      10.55   \n",
       "1                              68.15                      10.55   \n",
       "2                              68.15                      10.55   \n",
       "3                              68.15                      10.55   \n",
       "4                              68.15                      10.55   \n",
       "...                              ...                        ...   \n",
       "55435                          11.51                       4.48   \n",
       "55436                          11.51                       4.48   \n",
       "55437                          11.51                       4.48   \n",
       "55438                          11.51                       4.48   \n",
       "55439                          11.51                       4.48   \n",
       "\n",
       "       co2_emision_co2  \n",
       "0              4946.63  \n",
       "1              1409.79  \n",
       "2              1081.59  \n",
       "3              2455.24  \n",
       "4                 0.00  \n",
       "...                ...  \n",
       "55435             4.59  \n",
       "55436             0.00  \n",
       "55437             4.38  \n",
       "55438             0.00  \n",
       "55439             0.00  \n",
       "\n",
       "[55440 rows x 10 columns]"
      ]
     },
     "execution_count": 649,
     "metadata": {},
     "output_type": "execute_result"
    }
   ],
   "source": [
    "nomCols(df,dic_cols)"
   ]
  },
  {
   "cell_type": "code",
   "execution_count": 650,
   "metadata": {},
   "outputs": [
    {
     "data": {
      "text/html": [
       "<div>\n",
       "<style scoped>\n",
       "    .dataframe tbody tr th:only-of-type {\n",
       "        vertical-align: middle;\n",
       "    }\n",
       "\n",
       "    .dataframe tbody tr th {\n",
       "        vertical-align: top;\n",
       "    }\n",
       "\n",
       "    .dataframe thead th {\n",
       "        text-align: right;\n",
       "    }\n",
       "</style>\n",
       "<table border=\"1\" class=\"dataframe\">\n",
       "  <thead>\n",
       "    <tr style=\"text-align: right;\">\n",
       "      <th></th>\n",
       "      <th>pais</th>\n",
       "      <th>energia_tipo</th>\n",
       "      <th>anio</th>\n",
       "      <th>energia_cons</th>\n",
       "      <th>energia_produccion</th>\n",
       "      <th>pbi</th>\n",
       "      <th>poblacion</th>\n",
       "      <th>energia_intensidad_per_capita</th>\n",
       "      <th>energia_intensidad_by_pbi</th>\n",
       "      <th>co2_emision_co2</th>\n",
       "    </tr>\n",
       "  </thead>\n",
       "  <tbody>\n",
       "    <tr>\n",
       "      <th>0</th>\n",
       "      <td>World</td>\n",
       "      <td>all_energy_types</td>\n",
       "      <td>1980</td>\n",
       "      <td>292.90</td>\n",
       "      <td>296.34</td>\n",
       "      <td>27770.91</td>\n",
       "      <td>4298126.52</td>\n",
       "      <td>68.15</td>\n",
       "      <td>10.55</td>\n",
       "      <td>4946.63</td>\n",
       "    </tr>\n",
       "    <tr>\n",
       "      <th>1</th>\n",
       "      <td>World</td>\n",
       "      <td>coal</td>\n",
       "      <td>1980</td>\n",
       "      <td>78.66</td>\n",
       "      <td>80.11</td>\n",
       "      <td>27770.91</td>\n",
       "      <td>4298126.52</td>\n",
       "      <td>68.15</td>\n",
       "      <td>10.55</td>\n",
       "      <td>1409.79</td>\n",
       "    </tr>\n",
       "    <tr>\n",
       "      <th>2</th>\n",
       "      <td>World</td>\n",
       "      <td>natural_gas</td>\n",
       "      <td>1980</td>\n",
       "      <td>53.87</td>\n",
       "      <td>54.76</td>\n",
       "      <td>27770.91</td>\n",
       "      <td>4298126.52</td>\n",
       "      <td>68.15</td>\n",
       "      <td>10.55</td>\n",
       "      <td>1081.59</td>\n",
       "    </tr>\n",
       "    <tr>\n",
       "      <th>3</th>\n",
       "      <td>World</td>\n",
       "      <td>petroleum_n_other_liquids</td>\n",
       "      <td>1980</td>\n",
       "      <td>132.06</td>\n",
       "      <td>133.11</td>\n",
       "      <td>27770.91</td>\n",
       "      <td>4298126.52</td>\n",
       "      <td>68.15</td>\n",
       "      <td>10.55</td>\n",
       "      <td>2455.24</td>\n",
       "    </tr>\n",
       "    <tr>\n",
       "      <th>4</th>\n",
       "      <td>World</td>\n",
       "      <td>nuclear</td>\n",
       "      <td>1980</td>\n",
       "      <td>7.58</td>\n",
       "      <td>7.58</td>\n",
       "      <td>27770.91</td>\n",
       "      <td>4298126.52</td>\n",
       "      <td>68.15</td>\n",
       "      <td>10.55</td>\n",
       "      <td>0.00</td>\n",
       "    </tr>\n",
       "    <tr>\n",
       "      <th>...</th>\n",
       "      <td>...</td>\n",
       "      <td>...</td>\n",
       "      <td>...</td>\n",
       "      <td>...</td>\n",
       "      <td>...</td>\n",
       "      <td>...</td>\n",
       "      <td>...</td>\n",
       "      <td>...</td>\n",
       "      <td>...</td>\n",
       "      <td>...</td>\n",
       "    </tr>\n",
       "    <tr>\n",
       "      <th>55435</th>\n",
       "      <td>Zimbabwe</td>\n",
       "      <td>coal</td>\n",
       "      <td>2019</td>\n",
       "      <td>0.05</td>\n",
       "      <td>0.08</td>\n",
       "      <td>37.62</td>\n",
       "      <td>14654.20</td>\n",
       "      <td>11.51</td>\n",
       "      <td>4.48</td>\n",
       "      <td>4.59</td>\n",
       "    </tr>\n",
       "    <tr>\n",
       "      <th>55436</th>\n",
       "      <td>Zimbabwe</td>\n",
       "      <td>natural_gas</td>\n",
       "      <td>2019</td>\n",
       "      <td>0.00</td>\n",
       "      <td>0.00</td>\n",
       "      <td>37.62</td>\n",
       "      <td>14654.20</td>\n",
       "      <td>11.51</td>\n",
       "      <td>4.48</td>\n",
       "      <td>0.00</td>\n",
       "    </tr>\n",
       "    <tr>\n",
       "      <th>55437</th>\n",
       "      <td>Zimbabwe</td>\n",
       "      <td>petroleum_n_other_liquids</td>\n",
       "      <td>2019</td>\n",
       "      <td>0.06</td>\n",
       "      <td>0.00</td>\n",
       "      <td>37.62</td>\n",
       "      <td>14654.20</td>\n",
       "      <td>11.51</td>\n",
       "      <td>4.48</td>\n",
       "      <td>4.38</td>\n",
       "    </tr>\n",
       "    <tr>\n",
       "      <th>55438</th>\n",
       "      <td>Zimbabwe</td>\n",
       "      <td>nuclear</td>\n",
       "      <td>2019</td>\n",
       "      <td>NaN</td>\n",
       "      <td>NaN</td>\n",
       "      <td>37.62</td>\n",
       "      <td>14654.20</td>\n",
       "      <td>11.51</td>\n",
       "      <td>4.48</td>\n",
       "      <td>0.00</td>\n",
       "    </tr>\n",
       "    <tr>\n",
       "      <th>55439</th>\n",
       "      <td>Zimbabwe</td>\n",
       "      <td>renewables_n_other</td>\n",
       "      <td>2019</td>\n",
       "      <td>0.07</td>\n",
       "      <td>0.07</td>\n",
       "      <td>37.62</td>\n",
       "      <td>14654.20</td>\n",
       "      <td>11.51</td>\n",
       "      <td>4.48</td>\n",
       "      <td>0.00</td>\n",
       "    </tr>\n",
       "  </tbody>\n",
       "</table>\n",
       "<p>55440 rows × 10 columns</p>\n",
       "</div>"
      ],
      "text/plain": [
       "           pais               energia_tipo  anio  energia_cons  \\\n",
       "0         World           all_energy_types  1980        292.90   \n",
       "1         World                       coal  1980         78.66   \n",
       "2         World                natural_gas  1980         53.87   \n",
       "3         World  petroleum_n_other_liquids  1980        132.06   \n",
       "4         World                    nuclear  1980          7.58   \n",
       "...         ...                        ...   ...           ...   \n",
       "55435  Zimbabwe                       coal  2019          0.05   \n",
       "55436  Zimbabwe                natural_gas  2019          0.00   \n",
       "55437  Zimbabwe  petroleum_n_other_liquids  2019          0.06   \n",
       "55438  Zimbabwe                    nuclear  2019           NaN   \n",
       "55439  Zimbabwe         renewables_n_other  2019          0.07   \n",
       "\n",
       "       energia_produccion       pbi   poblacion  \\\n",
       "0                  296.34  27770.91  4298126.52   \n",
       "1                   80.11  27770.91  4298126.52   \n",
       "2                   54.76  27770.91  4298126.52   \n",
       "3                  133.11  27770.91  4298126.52   \n",
       "4                    7.58  27770.91  4298126.52   \n",
       "...                   ...       ...         ...   \n",
       "55435                0.08     37.62    14654.20   \n",
       "55436                0.00     37.62    14654.20   \n",
       "55437                0.00     37.62    14654.20   \n",
       "55438                 NaN     37.62    14654.20   \n",
       "55439                0.07     37.62    14654.20   \n",
       "\n",
       "       energia_intensidad_per_capita  energia_intensidad_by_pbi  \\\n",
       "0                              68.15                      10.55   \n",
       "1                              68.15                      10.55   \n",
       "2                              68.15                      10.55   \n",
       "3                              68.15                      10.55   \n",
       "4                              68.15                      10.55   \n",
       "...                              ...                        ...   \n",
       "55435                          11.51                       4.48   \n",
       "55436                          11.51                       4.48   \n",
       "55437                          11.51                       4.48   \n",
       "55438                          11.51                       4.48   \n",
       "55439                          11.51                       4.48   \n",
       "\n",
       "       co2_emision_co2  \n",
       "0              4946.63  \n",
       "1              1409.79  \n",
       "2              1081.59  \n",
       "3              2455.24  \n",
       "4                 0.00  \n",
       "...                ...  \n",
       "55435             4.59  \n",
       "55436             0.00  \n",
       "55437             4.38  \n",
       "55438             0.00  \n",
       "55439             0.00  \n",
       "\n",
       "[55440 rows x 10 columns]"
      ]
     },
     "execution_count": 650,
     "metadata": {},
     "output_type": "execute_result"
    }
   ],
   "source": [
    "df"
   ]
  },
  {
   "cell_type": "code",
   "execution_count": 651,
   "metadata": {},
   "outputs": [],
   "source": [
    "df_countries = df.query(\"pais!='World' & pais!='Germany, West' & pais!='Germany, East' & pais!='Former U.S.S.R.' & energia_tipo == 'all_energy_types'\")"
   ]
  },
  {
   "cell_type": "code",
   "execution_count": 652,
   "metadata": {},
   "outputs": [],
   "source": [
    "df_countries = df_countries.query('energia_tipo == \"all_energy_types\"')[['pais','anio','energia_cons','energia_produccion','co2_emision_co2']]\n",
    "#df_countries_prod = df_countries.query('energia_tipo == \"all_energy_types\"').groupby(by='pais').sum()"
   ]
  },
  {
   "cell_type": "code",
   "execution_count": 653,
   "metadata": {},
   "outputs": [],
   "source": [
    "df_energia = df_countries[['pais','energia_cons','energia_produccion']].groupby(by='pais').sum().reset_index().sort_values(by='energia_produccion',ascending=False).head(15)\n",
    "df_energia['net_energy'] = df_energia['energia_produccion'] - df_energia['energia_cons']"
   ]
  },
  {
   "cell_type": "code",
   "execution_count": 654,
   "metadata": {},
   "outputs": [],
   "source": [
    "paises = [pais for pais in df_energia['pais'].values]"
   ]
  },
  {
   "cell_type": "code",
   "execution_count": 656,
   "metadata": {},
   "outputs": [
    {
     "data": {
      "application/vnd.plotly.v1+json": {
       "config": {
        "plotlyServerURL": "https://plot.ly"
       },
       "data": [
        {
         "name": "Consumo",
         "type": "bar",
         "x": [
          "United States",
          "China",
          "Russia",
          "Saudi Arabia",
          "Canada",
          "Iran",
          "Australia",
          "India",
          "United Kingdom",
          "Indonesia",
          "Mexico",
          "Norway",
          "Venezuela",
          "Brazil",
          "United Arab Emirates"
         ],
         "y": [
          3638.96,
          2631.26,
          829.04,
          230.03,
          493.98,
          234.81,
          186.47,
          570.45,
          366.92,
          160.47,
          247.47,
          70.58,
          101.94,
          327.05,
          94.26
         ]
        },
        {
         "base": "stack",
         "name": "Produccion",
         "opacity": 0.6,
         "type": "bar",
         "x": [
          "United States",
          "China",
          "Russia",
          "Saudi Arabia",
          "Canada",
          "Iran",
          "Australia",
          "India",
          "United Kingdom",
          "Indonesia",
          "Mexico",
          "Norway",
          "Venezuela",
          "Brazil",
          "United Arab Emirates"
         ],
         "y": [
          2954.7,
          2357.71,
          1425.2,
          855.38,
          664.51,
          420.41,
          386.62,
          381.7,
          345.38,
          339.92,
          332.65,
          315.04,
          280.02,
          270.47,
          265.44
         ]
        },
        {
         "name": "Neto",
         "type": "scatter",
         "x": [
          "United States",
          "China",
          "Russia",
          "Saudi Arabia",
          "Canada",
          "Iran",
          "Australia",
          "India",
          "United Kingdom",
          "Indonesia",
          "Mexico",
          "Norway",
          "Venezuela",
          "Brazil",
          "United Arab Emirates"
         ],
         "y": [
          -684.2600000000002,
          -273.5500000000002,
          596.1600000000001,
          625.35,
          170.52999999999997,
          185.60000000000002,
          200.15,
          -188.75000000000006,
          -21.54000000000002,
          179.45000000000002,
          85.17999999999998,
          244.46000000000004,
          178.07999999999998,
          -56.579999999999984,
          171.18
         ]
        }
       ],
       "layout": {
        "barmode": "overlay",
        "template": {
         "data": {
          "bar": [
           {
            "error_x": {
             "color": "#2a3f5f"
            },
            "error_y": {
             "color": "#2a3f5f"
            },
            "marker": {
             "line": {
              "color": "#E5ECF6",
              "width": 0.5
             },
             "pattern": {
              "fillmode": "overlay",
              "size": 10,
              "solidity": 0.2
             }
            },
            "type": "bar"
           }
          ],
          "barpolar": [
           {
            "marker": {
             "line": {
              "color": "#E5ECF6",
              "width": 0.5
             },
             "pattern": {
              "fillmode": "overlay",
              "size": 10,
              "solidity": 0.2
             }
            },
            "type": "barpolar"
           }
          ],
          "carpet": [
           {
            "aaxis": {
             "endlinecolor": "#2a3f5f",
             "gridcolor": "white",
             "linecolor": "white",
             "minorgridcolor": "white",
             "startlinecolor": "#2a3f5f"
            },
            "baxis": {
             "endlinecolor": "#2a3f5f",
             "gridcolor": "white",
             "linecolor": "white",
             "minorgridcolor": "white",
             "startlinecolor": "#2a3f5f"
            },
            "type": "carpet"
           }
          ],
          "choropleth": [
           {
            "colorbar": {
             "outlinewidth": 0,
             "ticks": ""
            },
            "type": "choropleth"
           }
          ],
          "contour": [
           {
            "colorbar": {
             "outlinewidth": 0,
             "ticks": ""
            },
            "colorscale": [
             [
              0,
              "#0d0887"
             ],
             [
              0.1111111111111111,
              "#46039f"
             ],
             [
              0.2222222222222222,
              "#7201a8"
             ],
             [
              0.3333333333333333,
              "#9c179e"
             ],
             [
              0.4444444444444444,
              "#bd3786"
             ],
             [
              0.5555555555555556,
              "#d8576b"
             ],
             [
              0.6666666666666666,
              "#ed7953"
             ],
             [
              0.7777777777777778,
              "#fb9f3a"
             ],
             [
              0.8888888888888888,
              "#fdca26"
             ],
             [
              1,
              "#f0f921"
             ]
            ],
            "type": "contour"
           }
          ],
          "contourcarpet": [
           {
            "colorbar": {
             "outlinewidth": 0,
             "ticks": ""
            },
            "type": "contourcarpet"
           }
          ],
          "heatmap": [
           {
            "colorbar": {
             "outlinewidth": 0,
             "ticks": ""
            },
            "colorscale": [
             [
              0,
              "#0d0887"
             ],
             [
              0.1111111111111111,
              "#46039f"
             ],
             [
              0.2222222222222222,
              "#7201a8"
             ],
             [
              0.3333333333333333,
              "#9c179e"
             ],
             [
              0.4444444444444444,
              "#bd3786"
             ],
             [
              0.5555555555555556,
              "#d8576b"
             ],
             [
              0.6666666666666666,
              "#ed7953"
             ],
             [
              0.7777777777777778,
              "#fb9f3a"
             ],
             [
              0.8888888888888888,
              "#fdca26"
             ],
             [
              1,
              "#f0f921"
             ]
            ],
            "type": "heatmap"
           }
          ],
          "heatmapgl": [
           {
            "colorbar": {
             "outlinewidth": 0,
             "ticks": ""
            },
            "colorscale": [
             [
              0,
              "#0d0887"
             ],
             [
              0.1111111111111111,
              "#46039f"
             ],
             [
              0.2222222222222222,
              "#7201a8"
             ],
             [
              0.3333333333333333,
              "#9c179e"
             ],
             [
              0.4444444444444444,
              "#bd3786"
             ],
             [
              0.5555555555555556,
              "#d8576b"
             ],
             [
              0.6666666666666666,
              "#ed7953"
             ],
             [
              0.7777777777777778,
              "#fb9f3a"
             ],
             [
              0.8888888888888888,
              "#fdca26"
             ],
             [
              1,
              "#f0f921"
             ]
            ],
            "type": "heatmapgl"
           }
          ],
          "histogram": [
           {
            "marker": {
             "pattern": {
              "fillmode": "overlay",
              "size": 10,
              "solidity": 0.2
             }
            },
            "type": "histogram"
           }
          ],
          "histogram2d": [
           {
            "colorbar": {
             "outlinewidth": 0,
             "ticks": ""
            },
            "colorscale": [
             [
              0,
              "#0d0887"
             ],
             [
              0.1111111111111111,
              "#46039f"
             ],
             [
              0.2222222222222222,
              "#7201a8"
             ],
             [
              0.3333333333333333,
              "#9c179e"
             ],
             [
              0.4444444444444444,
              "#bd3786"
             ],
             [
              0.5555555555555556,
              "#d8576b"
             ],
             [
              0.6666666666666666,
              "#ed7953"
             ],
             [
              0.7777777777777778,
              "#fb9f3a"
             ],
             [
              0.8888888888888888,
              "#fdca26"
             ],
             [
              1,
              "#f0f921"
             ]
            ],
            "type": "histogram2d"
           }
          ],
          "histogram2dcontour": [
           {
            "colorbar": {
             "outlinewidth": 0,
             "ticks": ""
            },
            "colorscale": [
             [
              0,
              "#0d0887"
             ],
             [
              0.1111111111111111,
              "#46039f"
             ],
             [
              0.2222222222222222,
              "#7201a8"
             ],
             [
              0.3333333333333333,
              "#9c179e"
             ],
             [
              0.4444444444444444,
              "#bd3786"
             ],
             [
              0.5555555555555556,
              "#d8576b"
             ],
             [
              0.6666666666666666,
              "#ed7953"
             ],
             [
              0.7777777777777778,
              "#fb9f3a"
             ],
             [
              0.8888888888888888,
              "#fdca26"
             ],
             [
              1,
              "#f0f921"
             ]
            ],
            "type": "histogram2dcontour"
           }
          ],
          "mesh3d": [
           {
            "colorbar": {
             "outlinewidth": 0,
             "ticks": ""
            },
            "type": "mesh3d"
           }
          ],
          "parcoords": [
           {
            "line": {
             "colorbar": {
              "outlinewidth": 0,
              "ticks": ""
             }
            },
            "type": "parcoords"
           }
          ],
          "pie": [
           {
            "automargin": true,
            "type": "pie"
           }
          ],
          "scatter": [
           {
            "fillpattern": {
             "fillmode": "overlay",
             "size": 10,
             "solidity": 0.2
            },
            "type": "scatter"
           }
          ],
          "scatter3d": [
           {
            "line": {
             "colorbar": {
              "outlinewidth": 0,
              "ticks": ""
             }
            },
            "marker": {
             "colorbar": {
              "outlinewidth": 0,
              "ticks": ""
             }
            },
            "type": "scatter3d"
           }
          ],
          "scattercarpet": [
           {
            "marker": {
             "colorbar": {
              "outlinewidth": 0,
              "ticks": ""
             }
            },
            "type": "scattercarpet"
           }
          ],
          "scattergeo": [
           {
            "marker": {
             "colorbar": {
              "outlinewidth": 0,
              "ticks": ""
             }
            },
            "type": "scattergeo"
           }
          ],
          "scattergl": [
           {
            "marker": {
             "colorbar": {
              "outlinewidth": 0,
              "ticks": ""
             }
            },
            "type": "scattergl"
           }
          ],
          "scattermapbox": [
           {
            "marker": {
             "colorbar": {
              "outlinewidth": 0,
              "ticks": ""
             }
            },
            "type": "scattermapbox"
           }
          ],
          "scatterpolar": [
           {
            "marker": {
             "colorbar": {
              "outlinewidth": 0,
              "ticks": ""
             }
            },
            "type": "scatterpolar"
           }
          ],
          "scatterpolargl": [
           {
            "marker": {
             "colorbar": {
              "outlinewidth": 0,
              "ticks": ""
             }
            },
            "type": "scatterpolargl"
           }
          ],
          "scatterternary": [
           {
            "marker": {
             "colorbar": {
              "outlinewidth": 0,
              "ticks": ""
             }
            },
            "type": "scatterternary"
           }
          ],
          "surface": [
           {
            "colorbar": {
             "outlinewidth": 0,
             "ticks": ""
            },
            "colorscale": [
             [
              0,
              "#0d0887"
             ],
             [
              0.1111111111111111,
              "#46039f"
             ],
             [
              0.2222222222222222,
              "#7201a8"
             ],
             [
              0.3333333333333333,
              "#9c179e"
             ],
             [
              0.4444444444444444,
              "#bd3786"
             ],
             [
              0.5555555555555556,
              "#d8576b"
             ],
             [
              0.6666666666666666,
              "#ed7953"
             ],
             [
              0.7777777777777778,
              "#fb9f3a"
             ],
             [
              0.8888888888888888,
              "#fdca26"
             ],
             [
              1,
              "#f0f921"
             ]
            ],
            "type": "surface"
           }
          ],
          "table": [
           {
            "cells": {
             "fill": {
              "color": "#EBF0F8"
             },
             "line": {
              "color": "white"
             }
            },
            "header": {
             "fill": {
              "color": "#C8D4E3"
             },
             "line": {
              "color": "white"
             }
            },
            "type": "table"
           }
          ]
         },
         "layout": {
          "annotationdefaults": {
           "arrowcolor": "#2a3f5f",
           "arrowhead": 0,
           "arrowwidth": 1
          },
          "autotypenumbers": "strict",
          "coloraxis": {
           "colorbar": {
            "outlinewidth": 0,
            "ticks": ""
           }
          },
          "colorscale": {
           "diverging": [
            [
             0,
             "#8e0152"
            ],
            [
             0.1,
             "#c51b7d"
            ],
            [
             0.2,
             "#de77ae"
            ],
            [
             0.3,
             "#f1b6da"
            ],
            [
             0.4,
             "#fde0ef"
            ],
            [
             0.5,
             "#f7f7f7"
            ],
            [
             0.6,
             "#e6f5d0"
            ],
            [
             0.7,
             "#b8e186"
            ],
            [
             0.8,
             "#7fbc41"
            ],
            [
             0.9,
             "#4d9221"
            ],
            [
             1,
             "#276419"
            ]
           ],
           "sequential": [
            [
             0,
             "#0d0887"
            ],
            [
             0.1111111111111111,
             "#46039f"
            ],
            [
             0.2222222222222222,
             "#7201a8"
            ],
            [
             0.3333333333333333,
             "#9c179e"
            ],
            [
             0.4444444444444444,
             "#bd3786"
            ],
            [
             0.5555555555555556,
             "#d8576b"
            ],
            [
             0.6666666666666666,
             "#ed7953"
            ],
            [
             0.7777777777777778,
             "#fb9f3a"
            ],
            [
             0.8888888888888888,
             "#fdca26"
            ],
            [
             1,
             "#f0f921"
            ]
           ],
           "sequentialminus": [
            [
             0,
             "#0d0887"
            ],
            [
             0.1111111111111111,
             "#46039f"
            ],
            [
             0.2222222222222222,
             "#7201a8"
            ],
            [
             0.3333333333333333,
             "#9c179e"
            ],
            [
             0.4444444444444444,
             "#bd3786"
            ],
            [
             0.5555555555555556,
             "#d8576b"
            ],
            [
             0.6666666666666666,
             "#ed7953"
            ],
            [
             0.7777777777777778,
             "#fb9f3a"
            ],
            [
             0.8888888888888888,
             "#fdca26"
            ],
            [
             1,
             "#f0f921"
            ]
           ]
          },
          "colorway": [
           "#636efa",
           "#EF553B",
           "#00cc96",
           "#ab63fa",
           "#FFA15A",
           "#19d3f3",
           "#FF6692",
           "#B6E880",
           "#FF97FF",
           "#FECB52"
          ],
          "font": {
           "color": "#2a3f5f"
          },
          "geo": {
           "bgcolor": "white",
           "lakecolor": "white",
           "landcolor": "#E5ECF6",
           "showlakes": true,
           "showland": true,
           "subunitcolor": "white"
          },
          "hoverlabel": {
           "align": "left"
          },
          "hovermode": "closest",
          "mapbox": {
           "style": "light"
          },
          "paper_bgcolor": "white",
          "plot_bgcolor": "#E5ECF6",
          "polar": {
           "angularaxis": {
            "gridcolor": "white",
            "linecolor": "white",
            "ticks": ""
           },
           "bgcolor": "#E5ECF6",
           "radialaxis": {
            "gridcolor": "white",
            "linecolor": "white",
            "ticks": ""
           }
          },
          "scene": {
           "xaxis": {
            "backgroundcolor": "#E5ECF6",
            "gridcolor": "white",
            "gridwidth": 2,
            "linecolor": "white",
            "showbackground": true,
            "ticks": "",
            "zerolinecolor": "white"
           },
           "yaxis": {
            "backgroundcolor": "#E5ECF6",
            "gridcolor": "white",
            "gridwidth": 2,
            "linecolor": "white",
            "showbackground": true,
            "ticks": "",
            "zerolinecolor": "white"
           },
           "zaxis": {
            "backgroundcolor": "#E5ECF6",
            "gridcolor": "white",
            "gridwidth": 2,
            "linecolor": "white",
            "showbackground": true,
            "ticks": "",
            "zerolinecolor": "white"
           }
          },
          "shapedefaults": {
           "line": {
            "color": "#2a3f5f"
           }
          },
          "ternary": {
           "aaxis": {
            "gridcolor": "white",
            "linecolor": "white",
            "ticks": ""
           },
           "baxis": {
            "gridcolor": "white",
            "linecolor": "white",
            "ticks": ""
           },
           "bgcolor": "#E5ECF6",
           "caxis": {
            "gridcolor": "white",
            "linecolor": "white",
            "ticks": ""
           }
          },
          "title": {
           "x": 0.05
          },
          "xaxis": {
           "automargin": true,
           "gridcolor": "white",
           "linecolor": "white",
           "ticks": "",
           "title": {
            "standoff": 15
           },
           "zerolinecolor": "white",
           "zerolinewidth": 2
          },
          "yaxis": {
           "automargin": true,
           "gridcolor": "white",
           "linecolor": "white",
           "ticks": "",
           "title": {
            "standoff": 15
           },
           "zerolinecolor": "white",
           "zerolinewidth": 2
          }
         }
        },
        "title": {
         "text": "Consumo vs produccion en top paises productores energia",
         "x": 0.4
        },
        "xaxis": {
         "anchor": "y",
         "domain": [
          0,
          1
         ]
        },
        "yaxis": {
         "anchor": "x",
         "domain": [
          0,
          1
         ]
        }
       }
      }
     },
     "metadata": {},
     "output_type": "display_data"
    }
   ],
   "source": [
    "fig = make_subplots()\n",
    "fig.add_trace(go.Bar(x=df_energia['pais'],y=df_energia['energia_cons'],name='Consumo'))\n",
    "fig.add_trace(go.Bar(x=df_energia['pais'],y=df_energia['energia_produccion'],base='stack',name='Produccion',opacity=0.6))\n",
    "fig.add_trace(go.Scatter(x=df_energia['pais'],y=df_energia['net_energy'],name='Neto'))\n",
    "fig.update_layout(go.Layout(\n",
    "    barmode='overlay'\n",
    "))\n",
    "fig.update_layout(title='Consumo vs produccion en top paises productores energia',title_x = 0.4)\n",
    "fig.show()"
   ]
  },
  {
   "cell_type": "code",
   "execution_count": 22,
   "metadata": {},
   "outputs": [],
   "source": [
    "import plotly.express as px\n",
    "import plotly.graph_objects as go"
   ]
  },
  {
   "cell_type": "code",
   "execution_count": 119,
   "metadata": {},
   "outputs": [
    {
     "data": {
      "application/vnd.plotly.v1+json": {
       "config": {
        "plotlyServerURL": "https://plot.ly"
       },
       "data": [
        {
         "hovertemplate": "pais=China<br>anio=%{x}<br>energia_cons=%{y}<extra></extra>",
         "legendgroup": "China",
         "line": {
          "color": "#636efa",
          "dash": "solid"
         },
         "marker": {
          "symbol": "circle"
         },
         "mode": "lines",
         "name": "China",
         "orientation": "v",
         "showlegend": true,
         "type": "scatter",
         "x": [
          1980,
          1981,
          1982,
          1983,
          1984,
          1985,
          1986,
          1987,
          1988,
          1989,
          1990,
          1991,
          1992,
          1993,
          1994,
          1995,
          1996,
          1997,
          1998,
          1999,
          2000,
          2001,
          2002,
          2003,
          2004,
          2005,
          2006,
          2007,
          2008,
          2009,
          2010,
          2011,
          2012,
          2013,
          2014,
          2015,
          2016,
          2017,
          2018,
          2019
         ],
         "xaxis": "x",
         "y": [
          19.11,
          18.96,
          19.94,
          21.29,
          23.06,
          24.36,
          25.02,
          26.38,
          28.17,
          28.33,
          28.37,
          28.72,
          30.08,
          32.38,
          34.81,
          37.5,
          39.33,
          37.4,
          38.42,
          39.92,
          42.47,
          44.56,
          47.71,
          55.25,
          66.62,
          74.69,
          82.51,
          88.9,
          92.98,
          100.57,
          111.97,
          122.3,
          130.88,
          135.5,
          137.45,
          136.92,
          137.78,
          142.02,
          147.02,
          151.61
         ],
         "yaxis": "y"
        },
        {
         "hovertemplate": "pais=India<br>anio=%{x}<br>energia_cons=%{y}<extra></extra>",
         "legendgroup": "India",
         "line": {
          "color": "#EF553B",
          "dash": "solid"
         },
         "marker": {
          "symbol": "circle"
         },
         "mode": "lines",
         "name": "India",
         "orientation": "v",
         "showlegend": true,
         "type": "scatter",
         "x": [
          1980,
          1981,
          1982,
          1983,
          1984,
          1985,
          1986,
          1987,
          1988,
          1989,
          1990,
          1991,
          1992,
          1993,
          1994,
          1995,
          1996,
          1997,
          1998,
          1999,
          2000,
          2001,
          2002,
          2003,
          2004,
          2005,
          2006,
          2007,
          2008,
          2009,
          2010,
          2011,
          2012,
          2013,
          2014,
          2015,
          2016,
          2017,
          2018,
          2019
         ],
         "xaxis": "x",
         "y": [
          3.75,
          4.2,
          4.36,
          4.6,
          4.99,
          5.25,
          5.68,
          5.96,
          6.59,
          6.95,
          7.42,
          7.79,
          8.18,
          8.49,
          9.1,
          9.64,
          10.08,
          10.6,
          10.73,
          11.42,
          12.21,
          12.42,
          13,
          13.47,
          14.6,
          15.43,
          16.72,
          18.1,
          19.11,
          20.8,
          22.2,
          23.11,
          24.27,
          24.87,
          26.64,
          27.18,
          28.1,
          29.46,
          31.2,
          31.78
         ],
         "yaxis": "y"
        },
        {
         "hovertemplate": "pais=Russia<br>anio=%{x}<br>energia_cons=%{y}<extra></extra>",
         "legendgroup": "Russia",
         "line": {
          "color": "#00cc96",
          "dash": "solid"
         },
         "marker": {
          "symbol": "circle"
         },
         "mode": "lines",
         "name": "Russia",
         "orientation": "v",
         "showlegend": true,
         "type": "scatter",
         "x": [
          1980,
          1981,
          1982,
          1983,
          1984,
          1985,
          1986,
          1987,
          1988,
          1989,
          1990,
          1991,
          1992,
          1993,
          1994,
          1995,
          1996,
          1997,
          1998,
          1999,
          2000,
          2001,
          2002,
          2003,
          2004,
          2005,
          2006,
          2007,
          2008,
          2009,
          2010,
          2011,
          2012,
          2013,
          2014,
          2015,
          2016,
          2017,
          2018,
          2019
         ],
         "xaxis": "x",
         "y": [
          0,
          0,
          0,
          0,
          0,
          0,
          0,
          0,
          0,
          0,
          0,
          0,
          36.27,
          32.69,
          29.69,
          29.24,
          27.38,
          25.88,
          25.59,
          25.88,
          26.76,
          26.8,
          27.19,
          27.85,
          28.32,
          28.08,
          29.35,
          29.14,
          30.03,
          27.14,
          30.29,
          31.41,
          31.46,
          31.08,
          31.34,
          30.95,
          31.01,
          31.92,
          33.05,
          33.25
         ],
         "yaxis": "y"
        },
        {
         "hovertemplate": "pais=United States<br>anio=%{x}<br>energia_cons=%{y}<extra></extra>",
         "legendgroup": "United States",
         "line": {
          "color": "#ab63fa",
          "dash": "solid"
         },
         "marker": {
          "symbol": "circle"
         },
         "mode": "lines",
         "name": "United States",
         "orientation": "v",
         "showlegend": true,
         "type": "scatter",
         "x": [
          1980,
          1981,
          1982,
          1983,
          1984,
          1985,
          1986,
          1987,
          1988,
          1989,
          1990,
          1991,
          1992,
          1993,
          1994,
          1995,
          1996,
          1997,
          1998,
          1999,
          2000,
          2001,
          2002,
          2003,
          2004,
          2005,
          2006,
          2007,
          2008,
          2009,
          2010,
          2011,
          2012,
          2013,
          2014,
          2015,
          2016,
          2017,
          2018,
          2019
         ],
         "xaxis": "x",
         "y": [
          78.02,
          76.06,
          73.05,
          72.92,
          76.57,
          76.33,
          76.6,
          79.01,
          82.66,
          84.74,
          84.43,
          84.38,
          85.72,
          87.27,
          88.98,
          90.93,
          93.93,
          94.51,
          94.92,
          96.54,
          98.7,
          96.06,
          97.54,
          97.83,
          100,
          100.1,
          99.39,
          100.89,
          98.75,
          93.94,
          97.51,
          96.87,
          94.38,
          97.13,
          98.29,
          97.39,
          97.36,
          97.63,
          101.2,
          100.43
         ],
         "yaxis": "y"
        }
       ],
       "layout": {
        "legend": {
         "title": {
          "text": "pais"
         },
         "tracegroupgap": 0
        },
        "margin": {
         "t": 60
        },
        "template": {
         "data": {
          "bar": [
           {
            "error_x": {
             "color": "#2a3f5f"
            },
            "error_y": {
             "color": "#2a3f5f"
            },
            "marker": {
             "line": {
              "color": "#E5ECF6",
              "width": 0.5
             },
             "pattern": {
              "fillmode": "overlay",
              "size": 10,
              "solidity": 0.2
             }
            },
            "type": "bar"
           }
          ],
          "barpolar": [
           {
            "marker": {
             "line": {
              "color": "#E5ECF6",
              "width": 0.5
             },
             "pattern": {
              "fillmode": "overlay",
              "size": 10,
              "solidity": 0.2
             }
            },
            "type": "barpolar"
           }
          ],
          "carpet": [
           {
            "aaxis": {
             "endlinecolor": "#2a3f5f",
             "gridcolor": "white",
             "linecolor": "white",
             "minorgridcolor": "white",
             "startlinecolor": "#2a3f5f"
            },
            "baxis": {
             "endlinecolor": "#2a3f5f",
             "gridcolor": "white",
             "linecolor": "white",
             "minorgridcolor": "white",
             "startlinecolor": "#2a3f5f"
            },
            "type": "carpet"
           }
          ],
          "choropleth": [
           {
            "colorbar": {
             "outlinewidth": 0,
             "ticks": ""
            },
            "type": "choropleth"
           }
          ],
          "contour": [
           {
            "colorbar": {
             "outlinewidth": 0,
             "ticks": ""
            },
            "colorscale": [
             [
              0,
              "#0d0887"
             ],
             [
              0.1111111111111111,
              "#46039f"
             ],
             [
              0.2222222222222222,
              "#7201a8"
             ],
             [
              0.3333333333333333,
              "#9c179e"
             ],
             [
              0.4444444444444444,
              "#bd3786"
             ],
             [
              0.5555555555555556,
              "#d8576b"
             ],
             [
              0.6666666666666666,
              "#ed7953"
             ],
             [
              0.7777777777777778,
              "#fb9f3a"
             ],
             [
              0.8888888888888888,
              "#fdca26"
             ],
             [
              1,
              "#f0f921"
             ]
            ],
            "type": "contour"
           }
          ],
          "contourcarpet": [
           {
            "colorbar": {
             "outlinewidth": 0,
             "ticks": ""
            },
            "type": "contourcarpet"
           }
          ],
          "heatmap": [
           {
            "colorbar": {
             "outlinewidth": 0,
             "ticks": ""
            },
            "colorscale": [
             [
              0,
              "#0d0887"
             ],
             [
              0.1111111111111111,
              "#46039f"
             ],
             [
              0.2222222222222222,
              "#7201a8"
             ],
             [
              0.3333333333333333,
              "#9c179e"
             ],
             [
              0.4444444444444444,
              "#bd3786"
             ],
             [
              0.5555555555555556,
              "#d8576b"
             ],
             [
              0.6666666666666666,
              "#ed7953"
             ],
             [
              0.7777777777777778,
              "#fb9f3a"
             ],
             [
              0.8888888888888888,
              "#fdca26"
             ],
             [
              1,
              "#f0f921"
             ]
            ],
            "type": "heatmap"
           }
          ],
          "heatmapgl": [
           {
            "colorbar": {
             "outlinewidth": 0,
             "ticks": ""
            },
            "colorscale": [
             [
              0,
              "#0d0887"
             ],
             [
              0.1111111111111111,
              "#46039f"
             ],
             [
              0.2222222222222222,
              "#7201a8"
             ],
             [
              0.3333333333333333,
              "#9c179e"
             ],
             [
              0.4444444444444444,
              "#bd3786"
             ],
             [
              0.5555555555555556,
              "#d8576b"
             ],
             [
              0.6666666666666666,
              "#ed7953"
             ],
             [
              0.7777777777777778,
              "#fb9f3a"
             ],
             [
              0.8888888888888888,
              "#fdca26"
             ],
             [
              1,
              "#f0f921"
             ]
            ],
            "type": "heatmapgl"
           }
          ],
          "histogram": [
           {
            "marker": {
             "pattern": {
              "fillmode": "overlay",
              "size": 10,
              "solidity": 0.2
             }
            },
            "type": "histogram"
           }
          ],
          "histogram2d": [
           {
            "colorbar": {
             "outlinewidth": 0,
             "ticks": ""
            },
            "colorscale": [
             [
              0,
              "#0d0887"
             ],
             [
              0.1111111111111111,
              "#46039f"
             ],
             [
              0.2222222222222222,
              "#7201a8"
             ],
             [
              0.3333333333333333,
              "#9c179e"
             ],
             [
              0.4444444444444444,
              "#bd3786"
             ],
             [
              0.5555555555555556,
              "#d8576b"
             ],
             [
              0.6666666666666666,
              "#ed7953"
             ],
             [
              0.7777777777777778,
              "#fb9f3a"
             ],
             [
              0.8888888888888888,
              "#fdca26"
             ],
             [
              1,
              "#f0f921"
             ]
            ],
            "type": "histogram2d"
           }
          ],
          "histogram2dcontour": [
           {
            "colorbar": {
             "outlinewidth": 0,
             "ticks": ""
            },
            "colorscale": [
             [
              0,
              "#0d0887"
             ],
             [
              0.1111111111111111,
              "#46039f"
             ],
             [
              0.2222222222222222,
              "#7201a8"
             ],
             [
              0.3333333333333333,
              "#9c179e"
             ],
             [
              0.4444444444444444,
              "#bd3786"
             ],
             [
              0.5555555555555556,
              "#d8576b"
             ],
             [
              0.6666666666666666,
              "#ed7953"
             ],
             [
              0.7777777777777778,
              "#fb9f3a"
             ],
             [
              0.8888888888888888,
              "#fdca26"
             ],
             [
              1,
              "#f0f921"
             ]
            ],
            "type": "histogram2dcontour"
           }
          ],
          "mesh3d": [
           {
            "colorbar": {
             "outlinewidth": 0,
             "ticks": ""
            },
            "type": "mesh3d"
           }
          ],
          "parcoords": [
           {
            "line": {
             "colorbar": {
              "outlinewidth": 0,
              "ticks": ""
             }
            },
            "type": "parcoords"
           }
          ],
          "pie": [
           {
            "automargin": true,
            "type": "pie"
           }
          ],
          "scatter": [
           {
            "fillpattern": {
             "fillmode": "overlay",
             "size": 10,
             "solidity": 0.2
            },
            "type": "scatter"
           }
          ],
          "scatter3d": [
           {
            "line": {
             "colorbar": {
              "outlinewidth": 0,
              "ticks": ""
             }
            },
            "marker": {
             "colorbar": {
              "outlinewidth": 0,
              "ticks": ""
             }
            },
            "type": "scatter3d"
           }
          ],
          "scattercarpet": [
           {
            "marker": {
             "colorbar": {
              "outlinewidth": 0,
              "ticks": ""
             }
            },
            "type": "scattercarpet"
           }
          ],
          "scattergeo": [
           {
            "marker": {
             "colorbar": {
              "outlinewidth": 0,
              "ticks": ""
             }
            },
            "type": "scattergeo"
           }
          ],
          "scattergl": [
           {
            "marker": {
             "colorbar": {
              "outlinewidth": 0,
              "ticks": ""
             }
            },
            "type": "scattergl"
           }
          ],
          "scattermapbox": [
           {
            "marker": {
             "colorbar": {
              "outlinewidth": 0,
              "ticks": ""
             }
            },
            "type": "scattermapbox"
           }
          ],
          "scatterpolar": [
           {
            "marker": {
             "colorbar": {
              "outlinewidth": 0,
              "ticks": ""
             }
            },
            "type": "scatterpolar"
           }
          ],
          "scatterpolargl": [
           {
            "marker": {
             "colorbar": {
              "outlinewidth": 0,
              "ticks": ""
             }
            },
            "type": "scatterpolargl"
           }
          ],
          "scatterternary": [
           {
            "marker": {
             "colorbar": {
              "outlinewidth": 0,
              "ticks": ""
             }
            },
            "type": "scatterternary"
           }
          ],
          "surface": [
           {
            "colorbar": {
             "outlinewidth": 0,
             "ticks": ""
            },
            "colorscale": [
             [
              0,
              "#0d0887"
             ],
             [
              0.1111111111111111,
              "#46039f"
             ],
             [
              0.2222222222222222,
              "#7201a8"
             ],
             [
              0.3333333333333333,
              "#9c179e"
             ],
             [
              0.4444444444444444,
              "#bd3786"
             ],
             [
              0.5555555555555556,
              "#d8576b"
             ],
             [
              0.6666666666666666,
              "#ed7953"
             ],
             [
              0.7777777777777778,
              "#fb9f3a"
             ],
             [
              0.8888888888888888,
              "#fdca26"
             ],
             [
              1,
              "#f0f921"
             ]
            ],
            "type": "surface"
           }
          ],
          "table": [
           {
            "cells": {
             "fill": {
              "color": "#EBF0F8"
             },
             "line": {
              "color": "white"
             }
            },
            "header": {
             "fill": {
              "color": "#C8D4E3"
             },
             "line": {
              "color": "white"
             }
            },
            "type": "table"
           }
          ]
         },
         "layout": {
          "annotationdefaults": {
           "arrowcolor": "#2a3f5f",
           "arrowhead": 0,
           "arrowwidth": 1
          },
          "autotypenumbers": "strict",
          "coloraxis": {
           "colorbar": {
            "outlinewidth": 0,
            "ticks": ""
           }
          },
          "colorscale": {
           "diverging": [
            [
             0,
             "#8e0152"
            ],
            [
             0.1,
             "#c51b7d"
            ],
            [
             0.2,
             "#de77ae"
            ],
            [
             0.3,
             "#f1b6da"
            ],
            [
             0.4,
             "#fde0ef"
            ],
            [
             0.5,
             "#f7f7f7"
            ],
            [
             0.6,
             "#e6f5d0"
            ],
            [
             0.7,
             "#b8e186"
            ],
            [
             0.8,
             "#7fbc41"
            ],
            [
             0.9,
             "#4d9221"
            ],
            [
             1,
             "#276419"
            ]
           ],
           "sequential": [
            [
             0,
             "#0d0887"
            ],
            [
             0.1111111111111111,
             "#46039f"
            ],
            [
             0.2222222222222222,
             "#7201a8"
            ],
            [
             0.3333333333333333,
             "#9c179e"
            ],
            [
             0.4444444444444444,
             "#bd3786"
            ],
            [
             0.5555555555555556,
             "#d8576b"
            ],
            [
             0.6666666666666666,
             "#ed7953"
            ],
            [
             0.7777777777777778,
             "#fb9f3a"
            ],
            [
             0.8888888888888888,
             "#fdca26"
            ],
            [
             1,
             "#f0f921"
            ]
           ],
           "sequentialminus": [
            [
             0,
             "#0d0887"
            ],
            [
             0.1111111111111111,
             "#46039f"
            ],
            [
             0.2222222222222222,
             "#7201a8"
            ],
            [
             0.3333333333333333,
             "#9c179e"
            ],
            [
             0.4444444444444444,
             "#bd3786"
            ],
            [
             0.5555555555555556,
             "#d8576b"
            ],
            [
             0.6666666666666666,
             "#ed7953"
            ],
            [
             0.7777777777777778,
             "#fb9f3a"
            ],
            [
             0.8888888888888888,
             "#fdca26"
            ],
            [
             1,
             "#f0f921"
            ]
           ]
          },
          "colorway": [
           "#636efa",
           "#EF553B",
           "#00cc96",
           "#ab63fa",
           "#FFA15A",
           "#19d3f3",
           "#FF6692",
           "#B6E880",
           "#FF97FF",
           "#FECB52"
          ],
          "font": {
           "color": "#2a3f5f"
          },
          "geo": {
           "bgcolor": "white",
           "lakecolor": "white",
           "landcolor": "#E5ECF6",
           "showlakes": true,
           "showland": true,
           "subunitcolor": "white"
          },
          "hoverlabel": {
           "align": "left"
          },
          "hovermode": "closest",
          "mapbox": {
           "style": "light"
          },
          "paper_bgcolor": "white",
          "plot_bgcolor": "#E5ECF6",
          "polar": {
           "angularaxis": {
            "gridcolor": "white",
            "linecolor": "white",
            "ticks": ""
           },
           "bgcolor": "#E5ECF6",
           "radialaxis": {
            "gridcolor": "white",
            "linecolor": "white",
            "ticks": ""
           }
          },
          "scene": {
           "xaxis": {
            "backgroundcolor": "#E5ECF6",
            "gridcolor": "white",
            "gridwidth": 2,
            "linecolor": "white",
            "showbackground": true,
            "ticks": "",
            "zerolinecolor": "white"
           },
           "yaxis": {
            "backgroundcolor": "#E5ECF6",
            "gridcolor": "white",
            "gridwidth": 2,
            "linecolor": "white",
            "showbackground": true,
            "ticks": "",
            "zerolinecolor": "white"
           },
           "zaxis": {
            "backgroundcolor": "#E5ECF6",
            "gridcolor": "white",
            "gridwidth": 2,
            "linecolor": "white",
            "showbackground": true,
            "ticks": "",
            "zerolinecolor": "white"
           }
          },
          "shapedefaults": {
           "line": {
            "color": "#2a3f5f"
           }
          },
          "ternary": {
           "aaxis": {
            "gridcolor": "white",
            "linecolor": "white",
            "ticks": ""
           },
           "baxis": {
            "gridcolor": "white",
            "linecolor": "white",
            "ticks": ""
           },
           "bgcolor": "#E5ECF6",
           "caxis": {
            "gridcolor": "white",
            "linecolor": "white",
            "ticks": ""
           }
          },
          "title": {
           "x": 0.05
          },
          "xaxis": {
           "automargin": true,
           "gridcolor": "white",
           "linecolor": "white",
           "ticks": "",
           "title": {
            "standoff": 15
           },
           "zerolinecolor": "white",
           "zerolinewidth": 2
          },
          "yaxis": {
           "automargin": true,
           "gridcolor": "white",
           "linecolor": "white",
           "ticks": "",
           "title": {
            "standoff": 15
           },
           "zerolinecolor": "white",
           "zerolinewidth": 2
          }
         }
        },
        "title": {
         "text": "Lista paises",
         "x": 0.5
        },
        "xaxis": {
         "anchor": "y",
         "domain": [
          0,
          1
         ],
         "title": {
          "text": "anio"
         }
        },
        "yaxis": {
         "anchor": "x",
         "domain": [
          0,
          1
         ],
         "title": {
          "text": "energia_cons"
         }
        }
       }
      }
     },
     "metadata": {},
     "output_type": "display_data"
    }
   ],
   "source": [
    "# fig = px.line(df_countries_cons.loc['Russia'],x=df_countries_cons.loc['Russia'].index, y='energia_cons' )\n",
    "# fig2 = px.line(df_countries_cons.loc['China'],x=df_countries_cons.loc['China'].index, y='energia_cons' )\n",
    "# fig3 = px.line(df_countries_cons.loc['United States'],x=df_countries_cons.loc['United States'].index, y='energia_cons' )\n",
    "\n",
    "paises = ['Russia','China','United States', 'India']\n",
    "# colores = ['red','green','blue','yellow']\n",
    "# fig = ''\n",
    "\n",
    "# for k,i in enumerate(paises):\n",
    "#     fig += \"px.line(df_countries_cons.loc['%s'],x=df_countries_cons.loc['%s'].index, y='energia_cons',color_discrete_sequence={'%s':px.colors.qualitative.Alphabet[%i]}).data +\" % (i,i,i,k)\n",
    "\n",
    "\n",
    "fig = px.line(df_countries_cons[[True if p in paises else False for p in df_countries_cons.pais]],x='anio',y='energia_cons',color='pais')\n",
    "fig.update_layout(title='Lista paises',title_x=0.5)"
   ]
  },
  {
   "cell_type": "markdown",
   "metadata": {},
   "source": [
    "<h1>Climate Related Disasters Frequency</h1>\n",
    "<h2><i>Version CSV</i></h2>"
   ]
  },
  {
   "cell_type": "code",
   "execution_count": 725,
   "metadata": {},
   "outputs": [],
   "source": [
    "dataset = pd.read_csv(r\"..\\datasets\\desastres_naturales\\Climate-related_Disasters_Frequency.csv\")\n",
    "df2 = pd.DataFrame(dataset)"
   ]
  },
  {
   "cell_type": "markdown",
   "metadata": {},
   "source": [
    "Convierto NaN en ceros (en este caso se trata de frecuencias) y dropeo columnas que no me sirven"
   ]
  },
  {
   "cell_type": "code",
   "execution_count": 726,
   "metadata": {},
   "outputs": [],
   "source": [
    "df2 = df2.drop(columns=['ObjectId','ISO2','Code','Unit','Source'])"
   ]
  },
  {
   "cell_type": "markdown",
   "metadata": {},
   "source": [
    "Aplico la funcion para renombrar columnas nomCols usando el diccionario creado, dic_cols y con regex para sacar las \"f\" de las columnas de años. Aprovecho que itero sobre las columnas de tipo de dato float y aplico round(2)"
   ]
  },
  {
   "cell_type": "code",
   "execution_count": 727,
   "metadata": {},
   "outputs": [],
   "source": [
    "nomCols(df2,dic_cols)\n",
    "\n",
    "for column in df2.columns:\n",
    "    if re.search('f\\d{2,}', column):\n",
    "        nom = column.split('f')[1]\n",
    "        df2[column].fillna(0)\n",
    "        df2[column]=df2[column].round(2)\n",
    "        df2.rename(columns={column:nom},inplace=True)"
   ]
  },
  {
   "cell_type": "markdown",
   "metadata": {},
   "source": [
    "Recorto los datos de la columna indicador para mostrar unicamente los descriptores"
   ]
  },
  {
   "cell_type": "code",
   "execution_count": 728,
   "metadata": {},
   "outputs": [],
   "source": [
    "df2['indicador'] = df2['indicador'].apply(lambda x: x.split(': ')[1])"
   ]
  },
  {
   "cell_type": "code",
   "execution_count": 729,
   "metadata": {},
   "outputs": [],
   "source": [
    "df2.loc[df2['pais_iso']=='CHN', 'pais'] = 'China'\n",
    "df2.loc[df2['pais_iso']=='SAU', 'pais'] = 'Saudi Arabia'"
   ]
  },
  {
   "cell_type": "code",
   "execution_count": 730,
   "metadata": {},
   "outputs": [],
   "source": [
    "cols=['pais','pais_iso','indicador']\n",
    "\n",
    "df_climateDis = pd.melt(df2,id_vars=cols,var_name='anio',value_name='frecuencia')\n",
    "df_climateDis =  df_climateDis.astype({'anio':'int','frecuencia':'float'})\n",
    "df_climateDis = df_climateDis.merge(df_countries,on=['pais','anio'])"
   ]
  },
  {
   "cell_type": "code",
   "execution_count": 731,
   "metadata": {},
   "outputs": [],
   "source": [
    "paises = [pais for pais in df_energia['pais'].head(5).values]"
   ]
  },
  {
   "cell_type": "code",
   "execution_count": 732,
   "metadata": {},
   "outputs": [],
   "source": [
    "df_climateDis_top = df_climateDis[df_climateDis['pais'].isin(paises)]"
   ]
  },
  {
   "cell_type": "code",
   "execution_count": 733,
   "metadata": {},
   "outputs": [],
   "source": [
    "df3 = df_climateDis_top[df_climateDis_top['indicador'] == 'TOTAL']"
   ]
  },
  {
   "cell_type": "code",
   "execution_count": 734,
   "metadata": {},
   "outputs": [
    {
     "data": {
      "text/html": [
       "<div>\n",
       "<style scoped>\n",
       "    .dataframe tbody tr th:only-of-type {\n",
       "        vertical-align: middle;\n",
       "    }\n",
       "\n",
       "    .dataframe tbody tr th {\n",
       "        vertical-align: top;\n",
       "    }\n",
       "\n",
       "    .dataframe thead th {\n",
       "        text-align: right;\n",
       "    }\n",
       "</style>\n",
       "<table border=\"1\" class=\"dataframe\">\n",
       "  <thead>\n",
       "    <tr style=\"text-align: right;\">\n",
       "      <th></th>\n",
       "      <th>pais</th>\n",
       "      <th>pais_iso</th>\n",
       "      <th>indicador</th>\n",
       "      <th>anio</th>\n",
       "      <th>frecuencia</th>\n",
       "      <th>energia_cons</th>\n",
       "      <th>energia_produccion</th>\n",
       "      <th>co2_emision_co2</th>\n",
       "    </tr>\n",
       "  </thead>\n",
       "  <tbody>\n",
       "    <tr>\n",
       "      <th>128</th>\n",
       "      <td>Canada</td>\n",
       "      <td>CAN</td>\n",
       "      <td>TOTAL</td>\n",
       "      <td>1980</td>\n",
       "      <td>1.0</td>\n",
       "      <td>9.55</td>\n",
       "      <td>10.15</td>\n",
       "      <td>NaN</td>\n",
       "    </tr>\n",
       "    <tr>\n",
       "      <th>149</th>\n",
       "      <td>China</td>\n",
       "      <td>CHN</td>\n",
       "      <td>TOTAL</td>\n",
       "      <td>1980</td>\n",
       "      <td>5.0</td>\n",
       "      <td>19.11</td>\n",
       "      <td>19.54</td>\n",
       "      <td>NaN</td>\n",
       "    </tr>\n",
       "    <tr>\n",
       "      <th>518</th>\n",
       "      <td>Saudi Arabia</td>\n",
       "      <td>SAU</td>\n",
       "      <td>TOTAL</td>\n",
       "      <td>1980</td>\n",
       "      <td>NaN</td>\n",
       "      <td>1.65</td>\n",
       "      <td>22.43</td>\n",
       "      <td>NaN</td>\n",
       "    </tr>\n",
       "    <tr>\n",
       "      <th>633</th>\n",
       "      <td>United States</td>\n",
       "      <td>USA</td>\n",
       "      <td>TOTAL</td>\n",
       "      <td>1980</td>\n",
       "      <td>7.0</td>\n",
       "      <td>78.02</td>\n",
       "      <td>67.15</td>\n",
       "      <td>4946.63</td>\n",
       "    </tr>\n",
       "    <tr>\n",
       "      <th>786</th>\n",
       "      <td>Canada</td>\n",
       "      <td>CAN</td>\n",
       "      <td>TOTAL</td>\n",
       "      <td>1981</td>\n",
       "      <td>1.0</td>\n",
       "      <td>9.42</td>\n",
       "      <td>9.96</td>\n",
       "      <td>422.55</td>\n",
       "    </tr>\n",
       "    <tr>\n",
       "      <th>...</th>\n",
       "      <td>...</td>\n",
       "      <td>...</td>\n",
       "      <td>...</td>\n",
       "      <td>...</td>\n",
       "      <td>...</td>\n",
       "      <td>...</td>\n",
       "      <td>...</td>\n",
       "      <td>...</td>\n",
       "    </tr>\n",
       "    <tr>\n",
       "      <th>25637</th>\n",
       "      <td>United States</td>\n",
       "      <td>USA</td>\n",
       "      <td>TOTAL</td>\n",
       "      <td>2018</td>\n",
       "      <td>19.0</td>\n",
       "      <td>101.20</td>\n",
       "      <td>95.75</td>\n",
       "      <td>5131.08</td>\n",
       "    </tr>\n",
       "    <tr>\n",
       "      <th>25790</th>\n",
       "      <td>Canada</td>\n",
       "      <td>CAN</td>\n",
       "      <td>TOTAL</td>\n",
       "      <td>2019</td>\n",
       "      <td>2.0</td>\n",
       "      <td>14.98</td>\n",
       "      <td>23.52</td>\n",
       "      <td>613.09</td>\n",
       "    </tr>\n",
       "    <tr>\n",
       "      <th>25811</th>\n",
       "      <td>China</td>\n",
       "      <td>CHN</td>\n",
       "      <td>TOTAL</td>\n",
       "      <td>2019</td>\n",
       "      <td>13.0</td>\n",
       "      <td>151.61</td>\n",
       "      <td>123.59</td>\n",
       "      <td>10608.60</td>\n",
       "    </tr>\n",
       "    <tr>\n",
       "      <th>26180</th>\n",
       "      <td>Saudi Arabia</td>\n",
       "      <td>SAU</td>\n",
       "      <td>TOTAL</td>\n",
       "      <td>2019</td>\n",
       "      <td>3.0</td>\n",
       "      <td>10.16</td>\n",
       "      <td>27.86</td>\n",
       "      <td>567.99</td>\n",
       "    </tr>\n",
       "    <tr>\n",
       "      <th>26295</th>\n",
       "      <td>United States</td>\n",
       "      <td>USA</td>\n",
       "      <td>TOTAL</td>\n",
       "      <td>2019</td>\n",
       "      <td>20.0</td>\n",
       "      <td>100.43</td>\n",
       "      <td>101.40</td>\n",
       "      <td>5277.19</td>\n",
       "    </tr>\n",
       "  </tbody>\n",
       "</table>\n",
       "<p>160 rows × 8 columns</p>\n",
       "</div>"
      ],
      "text/plain": [
       "                pais pais_iso indicador  anio  frecuencia  energia_cons  \\\n",
       "128           Canada      CAN     TOTAL  1980         1.0          9.55   \n",
       "149            China      CHN     TOTAL  1980         5.0         19.11   \n",
       "518     Saudi Arabia      SAU     TOTAL  1980         NaN          1.65   \n",
       "633    United States      USA     TOTAL  1980         7.0         78.02   \n",
       "786           Canada      CAN     TOTAL  1981         1.0          9.42   \n",
       "...              ...      ...       ...   ...         ...           ...   \n",
       "25637  United States      USA     TOTAL  2018        19.0        101.20   \n",
       "25790         Canada      CAN     TOTAL  2019         2.0         14.98   \n",
       "25811          China      CHN     TOTAL  2019        13.0        151.61   \n",
       "26180   Saudi Arabia      SAU     TOTAL  2019         3.0         10.16   \n",
       "26295  United States      USA     TOTAL  2019        20.0        100.43   \n",
       "\n",
       "       energia_produccion  co2_emision_co2  \n",
       "128                 10.15              NaN  \n",
       "149                 19.54              NaN  \n",
       "518                 22.43              NaN  \n",
       "633                 67.15          4946.63  \n",
       "786                  9.96           422.55  \n",
       "...                   ...              ...  \n",
       "25637               95.75          5131.08  \n",
       "25790               23.52           613.09  \n",
       "25811              123.59         10608.60  \n",
       "26180               27.86           567.99  \n",
       "26295              101.40          5277.19  \n",
       "\n",
       "[160 rows x 8 columns]"
      ]
     },
     "execution_count": 734,
     "metadata": {},
     "output_type": "execute_result"
    }
   ],
   "source": [
    "df3"
   ]
  },
  {
   "cell_type": "code",
   "execution_count": 735,
   "metadata": {},
   "outputs": [
    {
     "data": {
      "application/vnd.plotly.v1+json": {
       "config": {
        "plotlyServerURL": "https://plot.ly"
       },
       "data": [
        {
         "hovertemplate": "pais=Canada<br>variable=frecuencia<br>anio=%{x}<br>value=%{y}<extra></extra>",
         "legendgroup": "Canada",
         "line": {
          "color": "#636efa",
          "dash": "solid"
         },
         "marker": {
          "symbol": "circle"
         },
         "mode": "lines",
         "name": "Canada",
         "orientation": "v",
         "showlegend": true,
         "type": "scatter",
         "x": [
          1980,
          1981,
          1982,
          1983,
          1984,
          1985,
          1986,
          1987,
          1988,
          1989,
          1990,
          1991,
          1992,
          1993,
          1994,
          1995,
          1996,
          1997,
          1998,
          1999,
          2000,
          2001,
          2002,
          2003,
          2004,
          2005,
          2006,
          2007,
          2008,
          2009,
          2010,
          2011,
          2012,
          2013,
          2014,
          2015,
          2016,
          2017,
          2018,
          2019
         ],
         "xaxis": "x",
         "y": [
          1,
          1,
          1,
          1,
          1,
          2,
          4,
          3,
          2,
          2,
          1,
          1,
          2,
          1,
          3,
          4,
          2,
          3,
          3,
          3,
          1,
          2,
          2,
          7,
          4,
          5,
          5,
          3,
          2,
          3,
          1,
          4,
          3,
          3,
          2,
          1,
          2,
          3,
          4,
          2
         ],
         "yaxis": "y"
        },
        {
         "hovertemplate": "pais=Canada<br>variable=co2_emision_co2<br>anio=%{x}<br>value=%{y}<extra></extra>",
         "legendgroup": "Canada",
         "line": {
          "color": "#636efa",
          "dash": "solid"
         },
         "marker": {
          "symbol": "circle"
         },
         "mode": "lines",
         "name": "Canada",
         "orientation": "v",
         "showlegend": false,
         "type": "scatter",
         "x": [
          1980,
          1981,
          1982,
          1983,
          1984,
          1985,
          1986,
          1987,
          1988,
          1989,
          1990,
          1991,
          1992,
          1993,
          1994,
          1995,
          1996,
          1997,
          1998,
          1999,
          2000,
          2001,
          2002,
          2003,
          2004,
          2005,
          2006,
          2007,
          2008,
          2009,
          2010,
          2011,
          2012,
          2013,
          2014,
          2015,
          2016,
          2017,
          2018,
          2019
         ],
         "xaxis": "x",
         "y": [
          null,
          422.55,
          398.86,
          386.26,
          375.04,
          409.95,
          410.46,
          404.42,
          422.69,
          455.94,
          467.66,
          432.77,
          425.95,
          448.63,
          447.59,
          460.94,
          468.11,
          479.17,
          492.26,
          488.88,
          508.91,
          511.89,
          524.38,
          536.97,
          565.04,
          571.37,
          573.27,
          575.64,
          574.75,
          556.83,
          541.45,
          570.78,
          575.29,
          578.02,
          587.99,
          589.56,
          591.03,
          579.44,
          601.4,
          613.09
         ],
         "yaxis": "y"
        },
        {
         "hovertemplate": "pais=China<br>variable=frecuencia<br>anio=%{x}<br>value=%{y}<extra></extra>",
         "legendgroup": "China",
         "line": {
          "color": "#EF553B",
          "dash": "solid"
         },
         "marker": {
          "symbol": "circle"
         },
         "mode": "lines",
         "name": "China",
         "orientation": "v",
         "showlegend": true,
         "type": "scatter",
         "x": [
          1980,
          1981,
          1982,
          1983,
          1984,
          1985,
          1986,
          1987,
          1988,
          1989,
          1990,
          1991,
          1992,
          1993,
          1994,
          1995,
          1996,
          1997,
          1998,
          1999,
          2000,
          2001,
          2002,
          2003,
          2004,
          2005,
          2006,
          2007,
          2008,
          2009,
          2010,
          2011,
          2012,
          2013,
          2014,
          2015,
          2016,
          2017,
          2018,
          2019
         ],
         "xaxis": "x",
         "y": [
          5,
          7,
          6,
          7,
          6,
          12,
          10,
          12,
          15,
          9,
          14,
          10,
          16,
          16,
          15,
          12,
          16,
          17,
          11,
          18,
          24,
          27,
          24,
          16,
          18,
          28,
          30,
          19,
          23,
          24,
          21,
          13,
          22,
          34,
          33,
          31,
          30,
          26,
          20,
          13
         ],
         "yaxis": "y"
        },
        {
         "hovertemplate": "pais=China<br>variable=co2_emision_co2<br>anio=%{x}<br>value=%{y}<extra></extra>",
         "legendgroup": "China",
         "line": {
          "color": "#EF553B",
          "dash": "solid"
         },
         "marker": {
          "symbol": "circle"
         },
         "mode": "lines",
         "name": "China",
         "orientation": "v",
         "showlegend": false,
         "type": "scatter",
         "x": [
          1980,
          1981,
          1982,
          1983,
          1984,
          1985,
          1986,
          1987,
          1988,
          1989,
          1990,
          1991,
          1992,
          1993,
          1994,
          1995,
          1996,
          1997,
          1998,
          1999,
          2000,
          2001,
          2002,
          2003,
          2004,
          2005,
          2006,
          2007,
          2008,
          2009,
          2010,
          2011,
          2012,
          2013,
          2014,
          2015,
          2016,
          2017,
          2018,
          2019
         ],
         "xaxis": "x",
         "y": [
          null,
          1596.7,
          1587.19,
          1671.1,
          1785.8,
          1948.07,
          2066.96,
          2139.78,
          2259.81,
          2405.65,
          2413.19,
          2417.24,
          2460.41,
          2541.08,
          2730.93,
          2916.39,
          3140.32,
          3240.42,
          3143.57,
          3132.09,
          3248.27,
          3482.71,
          3615.32,
          3857.32,
          4469.34,
          5397.86,
          6120.08,
          6750.67,
          7057.57,
          7505.11,
          8204.14,
          9003.66,
          9892.52,
          10478.96,
          10732,
          10654.28,
          10427.09,
          10261.6,
          10414.77,
          10608.6
         ],
         "yaxis": "y"
        },
        {
         "hovertemplate": "pais=Saudi Arabia<br>variable=frecuencia<br>anio=%{x}<br>value=%{y}<extra></extra>",
         "legendgroup": "Saudi Arabia",
         "line": {
          "color": "#00cc96",
          "dash": "solid"
         },
         "marker": {
          "symbol": "circle"
         },
         "mode": "lines",
         "name": "Saudi Arabia",
         "orientation": "v",
         "showlegend": true,
         "type": "scatter",
         "x": [
          1980,
          1981,
          1982,
          1983,
          1984,
          1985,
          1986,
          1987,
          1988,
          1989,
          1990,
          1991,
          1992,
          1993,
          1994,
          1995,
          1996,
          1997,
          1998,
          1999,
          2000,
          2001,
          2002,
          2003,
          2004,
          2005,
          2006,
          2007,
          2008,
          2009,
          2010,
          2011,
          2012,
          2013,
          2014,
          2015,
          2016,
          2017,
          2018,
          2019
         ],
         "xaxis": "x",
         "y": [
          null,
          null,
          1,
          null,
          null,
          1,
          null,
          null,
          null,
          null,
          null,
          null,
          null,
          null,
          null,
          null,
          null,
          null,
          null,
          null,
          null,
          null,
          1,
          2,
          1,
          2,
          null,
          null,
          null,
          1,
          2,
          1,
          1,
          2,
          null,
          2,
          3,
          1,
          null,
          3
         ],
         "yaxis": "y"
        },
        {
         "hovertemplate": "pais=Saudi Arabia<br>variable=co2_emision_co2<br>anio=%{x}<br>value=%{y}<extra></extra>",
         "legendgroup": "Saudi Arabia",
         "line": {
          "color": "#00cc96",
          "dash": "solid"
         },
         "marker": {
          "symbol": "circle"
         },
         "mode": "lines",
         "name": "Saudi Arabia",
         "orientation": "v",
         "showlegend": false,
         "type": "scatter",
         "x": [
          1980,
          1981,
          1982,
          1983,
          1984,
          1985,
          1986,
          1987,
          1988,
          1989,
          1990,
          1991,
          1992,
          1993,
          1994,
          1995,
          1996,
          1997,
          1998,
          1999,
          2000,
          2001,
          2002,
          2003,
          2004,
          2005,
          2006,
          2007,
          2008,
          2009,
          2010,
          2011,
          2012,
          2013,
          2014,
          2015,
          2016,
          2017,
          2018,
          2019
         ],
         "xaxis": "x",
         "y": [
          null,
          107.07,
          128.33,
          126.89,
          136.22,
          157.44,
          173.77,
          185.44,
          187.55,
          194.11,
          191.44,
          198.83,
          202.8,
          213.71,
          214.48,
          221.03,
          212.67,
          227.15,
          253.01,
          255.92,
          263.69,
          289.72,
          301.33,
          311.26,
          346.85,
          388.88,
          404.83,
          406.15,
          348.35,
          425.91,
          441.97,
          497.2,
          524.43,
          555.65,
          568.66,
          595.03,
          621.01,
          589.37,
          584.23,
          567.99
         ],
         "yaxis": "y"
        },
        {
         "hovertemplate": "pais=United States<br>variable=frecuencia<br>anio=%{x}<br>value=%{y}<extra></extra>",
         "legendgroup": "United States",
         "line": {
          "color": "#ab63fa",
          "dash": "solid"
         },
         "marker": {
          "symbol": "circle"
         },
         "mode": "lines",
         "name": "United States",
         "orientation": "v",
         "showlegend": true,
         "type": "scatter",
         "x": [
          1980,
          1981,
          1982,
          1983,
          1984,
          1985,
          1986,
          1987,
          1988,
          1989,
          1990,
          1991,
          1992,
          1993,
          1994,
          1995,
          1996,
          1997,
          1998,
          1999,
          2000,
          2001,
          2002,
          2003,
          2004,
          2005,
          2006,
          2007,
          2008,
          2009,
          2010,
          2011,
          2012,
          2013,
          2014,
          2015,
          2016,
          2017,
          2018,
          2019
         ],
         "xaxis": "x",
         "y": [
          7,
          4,
          13,
          9,
          14,
          15,
          6,
          9,
          22,
          17,
          21,
          35,
          29,
          28,
          14,
          18,
          15,
          33,
          32,
          22,
          30,
          26,
          29,
          22,
          20,
          16,
          28,
          23,
          21,
          17,
          15,
          23,
          25,
          28,
          19,
          29,
          26,
          24,
          19,
          20
         ],
         "yaxis": "y"
        },
        {
         "hovertemplate": "pais=United States<br>variable=co2_emision_co2<br>anio=%{x}<br>value=%{y}<extra></extra>",
         "legendgroup": "United States",
         "line": {
          "color": "#ab63fa",
          "dash": "solid"
         },
         "marker": {
          "symbol": "circle"
         },
         "mode": "lines",
         "name": "United States",
         "orientation": "v",
         "showlegend": false,
         "type": "scatter",
         "x": [
          1980,
          1981,
          1982,
          1983,
          1984,
          1985,
          1986,
          1987,
          1988,
          1989,
          1990,
          1991,
          1992,
          1993,
          1994,
          1995,
          1996,
          1997,
          1998,
          1999,
          2000,
          2001,
          2002,
          2003,
          2004,
          2005,
          2006,
          2007,
          2008,
          2009,
          2010,
          2011,
          2012,
          2013,
          2014,
          2015,
          2016,
          2017,
          2018,
          2019
         ],
         "xaxis": "x",
         "y": [
          4946.63,
          4756.27,
          4636.63,
          4404.43,
          4383.94,
          4612.86,
          4605.35,
          4615.66,
          4775.55,
          4998.21,
          5084.56,
          5037.9,
          4992.68,
          5093.88,
          5185.52,
          5262.66,
          5324.31,
          5518.03,
          5589.32,
          5636.73,
          5700.25,
          5888.59,
          5777.79,
          5820.03,
          5886.42,
          5993.72,
          6006.99,
          5929.33,
          6015.54,
          5823.13,
          5403.66,
          5593.66,
          5454.7,
          5236.32,
          5358.87,
          5413.88,
          5262.08,
          5169.5,
          5131.08,
          5277.19
         ],
         "yaxis": "y"
        }
       ],
       "layout": {
        "legend": {
         "title": {
          "text": "pais"
         },
         "tracegroupgap": 0
        },
        "margin": {
         "t": 60
        },
        "template": {
         "data": {
          "bar": [
           {
            "error_x": {
             "color": "#2a3f5f"
            },
            "error_y": {
             "color": "#2a3f5f"
            },
            "marker": {
             "line": {
              "color": "#E5ECF6",
              "width": 0.5
             },
             "pattern": {
              "fillmode": "overlay",
              "size": 10,
              "solidity": 0.2
             }
            },
            "type": "bar"
           }
          ],
          "barpolar": [
           {
            "marker": {
             "line": {
              "color": "#E5ECF6",
              "width": 0.5
             },
             "pattern": {
              "fillmode": "overlay",
              "size": 10,
              "solidity": 0.2
             }
            },
            "type": "barpolar"
           }
          ],
          "carpet": [
           {
            "aaxis": {
             "endlinecolor": "#2a3f5f",
             "gridcolor": "white",
             "linecolor": "white",
             "minorgridcolor": "white",
             "startlinecolor": "#2a3f5f"
            },
            "baxis": {
             "endlinecolor": "#2a3f5f",
             "gridcolor": "white",
             "linecolor": "white",
             "minorgridcolor": "white",
             "startlinecolor": "#2a3f5f"
            },
            "type": "carpet"
           }
          ],
          "choropleth": [
           {
            "colorbar": {
             "outlinewidth": 0,
             "ticks": ""
            },
            "type": "choropleth"
           }
          ],
          "contour": [
           {
            "colorbar": {
             "outlinewidth": 0,
             "ticks": ""
            },
            "colorscale": [
             [
              0,
              "#0d0887"
             ],
             [
              0.1111111111111111,
              "#46039f"
             ],
             [
              0.2222222222222222,
              "#7201a8"
             ],
             [
              0.3333333333333333,
              "#9c179e"
             ],
             [
              0.4444444444444444,
              "#bd3786"
             ],
             [
              0.5555555555555556,
              "#d8576b"
             ],
             [
              0.6666666666666666,
              "#ed7953"
             ],
             [
              0.7777777777777778,
              "#fb9f3a"
             ],
             [
              0.8888888888888888,
              "#fdca26"
             ],
             [
              1,
              "#f0f921"
             ]
            ],
            "type": "contour"
           }
          ],
          "contourcarpet": [
           {
            "colorbar": {
             "outlinewidth": 0,
             "ticks": ""
            },
            "type": "contourcarpet"
           }
          ],
          "heatmap": [
           {
            "colorbar": {
             "outlinewidth": 0,
             "ticks": ""
            },
            "colorscale": [
             [
              0,
              "#0d0887"
             ],
             [
              0.1111111111111111,
              "#46039f"
             ],
             [
              0.2222222222222222,
              "#7201a8"
             ],
             [
              0.3333333333333333,
              "#9c179e"
             ],
             [
              0.4444444444444444,
              "#bd3786"
             ],
             [
              0.5555555555555556,
              "#d8576b"
             ],
             [
              0.6666666666666666,
              "#ed7953"
             ],
             [
              0.7777777777777778,
              "#fb9f3a"
             ],
             [
              0.8888888888888888,
              "#fdca26"
             ],
             [
              1,
              "#f0f921"
             ]
            ],
            "type": "heatmap"
           }
          ],
          "heatmapgl": [
           {
            "colorbar": {
             "outlinewidth": 0,
             "ticks": ""
            },
            "colorscale": [
             [
              0,
              "#0d0887"
             ],
             [
              0.1111111111111111,
              "#46039f"
             ],
             [
              0.2222222222222222,
              "#7201a8"
             ],
             [
              0.3333333333333333,
              "#9c179e"
             ],
             [
              0.4444444444444444,
              "#bd3786"
             ],
             [
              0.5555555555555556,
              "#d8576b"
             ],
             [
              0.6666666666666666,
              "#ed7953"
             ],
             [
              0.7777777777777778,
              "#fb9f3a"
             ],
             [
              0.8888888888888888,
              "#fdca26"
             ],
             [
              1,
              "#f0f921"
             ]
            ],
            "type": "heatmapgl"
           }
          ],
          "histogram": [
           {
            "marker": {
             "pattern": {
              "fillmode": "overlay",
              "size": 10,
              "solidity": 0.2
             }
            },
            "type": "histogram"
           }
          ],
          "histogram2d": [
           {
            "colorbar": {
             "outlinewidth": 0,
             "ticks": ""
            },
            "colorscale": [
             [
              0,
              "#0d0887"
             ],
             [
              0.1111111111111111,
              "#46039f"
             ],
             [
              0.2222222222222222,
              "#7201a8"
             ],
             [
              0.3333333333333333,
              "#9c179e"
             ],
             [
              0.4444444444444444,
              "#bd3786"
             ],
             [
              0.5555555555555556,
              "#d8576b"
             ],
             [
              0.6666666666666666,
              "#ed7953"
             ],
             [
              0.7777777777777778,
              "#fb9f3a"
             ],
             [
              0.8888888888888888,
              "#fdca26"
             ],
             [
              1,
              "#f0f921"
             ]
            ],
            "type": "histogram2d"
           }
          ],
          "histogram2dcontour": [
           {
            "colorbar": {
             "outlinewidth": 0,
             "ticks": ""
            },
            "colorscale": [
             [
              0,
              "#0d0887"
             ],
             [
              0.1111111111111111,
              "#46039f"
             ],
             [
              0.2222222222222222,
              "#7201a8"
             ],
             [
              0.3333333333333333,
              "#9c179e"
             ],
             [
              0.4444444444444444,
              "#bd3786"
             ],
             [
              0.5555555555555556,
              "#d8576b"
             ],
             [
              0.6666666666666666,
              "#ed7953"
             ],
             [
              0.7777777777777778,
              "#fb9f3a"
             ],
             [
              0.8888888888888888,
              "#fdca26"
             ],
             [
              1,
              "#f0f921"
             ]
            ],
            "type": "histogram2dcontour"
           }
          ],
          "mesh3d": [
           {
            "colorbar": {
             "outlinewidth": 0,
             "ticks": ""
            },
            "type": "mesh3d"
           }
          ],
          "parcoords": [
           {
            "line": {
             "colorbar": {
              "outlinewidth": 0,
              "ticks": ""
             }
            },
            "type": "parcoords"
           }
          ],
          "pie": [
           {
            "automargin": true,
            "type": "pie"
           }
          ],
          "scatter": [
           {
            "fillpattern": {
             "fillmode": "overlay",
             "size": 10,
             "solidity": 0.2
            },
            "type": "scatter"
           }
          ],
          "scatter3d": [
           {
            "line": {
             "colorbar": {
              "outlinewidth": 0,
              "ticks": ""
             }
            },
            "marker": {
             "colorbar": {
              "outlinewidth": 0,
              "ticks": ""
             }
            },
            "type": "scatter3d"
           }
          ],
          "scattercarpet": [
           {
            "marker": {
             "colorbar": {
              "outlinewidth": 0,
              "ticks": ""
             }
            },
            "type": "scattercarpet"
           }
          ],
          "scattergeo": [
           {
            "marker": {
             "colorbar": {
              "outlinewidth": 0,
              "ticks": ""
             }
            },
            "type": "scattergeo"
           }
          ],
          "scattergl": [
           {
            "marker": {
             "colorbar": {
              "outlinewidth": 0,
              "ticks": ""
             }
            },
            "type": "scattergl"
           }
          ],
          "scattermapbox": [
           {
            "marker": {
             "colorbar": {
              "outlinewidth": 0,
              "ticks": ""
             }
            },
            "type": "scattermapbox"
           }
          ],
          "scatterpolar": [
           {
            "marker": {
             "colorbar": {
              "outlinewidth": 0,
              "ticks": ""
             }
            },
            "type": "scatterpolar"
           }
          ],
          "scatterpolargl": [
           {
            "marker": {
             "colorbar": {
              "outlinewidth": 0,
              "ticks": ""
             }
            },
            "type": "scatterpolargl"
           }
          ],
          "scatterternary": [
           {
            "marker": {
             "colorbar": {
              "outlinewidth": 0,
              "ticks": ""
             }
            },
            "type": "scatterternary"
           }
          ],
          "surface": [
           {
            "colorbar": {
             "outlinewidth": 0,
             "ticks": ""
            },
            "colorscale": [
             [
              0,
              "#0d0887"
             ],
             [
              0.1111111111111111,
              "#46039f"
             ],
             [
              0.2222222222222222,
              "#7201a8"
             ],
             [
              0.3333333333333333,
              "#9c179e"
             ],
             [
              0.4444444444444444,
              "#bd3786"
             ],
             [
              0.5555555555555556,
              "#d8576b"
             ],
             [
              0.6666666666666666,
              "#ed7953"
             ],
             [
              0.7777777777777778,
              "#fb9f3a"
             ],
             [
              0.8888888888888888,
              "#fdca26"
             ],
             [
              1,
              "#f0f921"
             ]
            ],
            "type": "surface"
           }
          ],
          "table": [
           {
            "cells": {
             "fill": {
              "color": "#EBF0F8"
             },
             "line": {
              "color": "white"
             }
            },
            "header": {
             "fill": {
              "color": "#C8D4E3"
             },
             "line": {
              "color": "white"
             }
            },
            "type": "table"
           }
          ]
         },
         "layout": {
          "annotationdefaults": {
           "arrowcolor": "#2a3f5f",
           "arrowhead": 0,
           "arrowwidth": 1
          },
          "autotypenumbers": "strict",
          "coloraxis": {
           "colorbar": {
            "outlinewidth": 0,
            "ticks": ""
           }
          },
          "colorscale": {
           "diverging": [
            [
             0,
             "#8e0152"
            ],
            [
             0.1,
             "#c51b7d"
            ],
            [
             0.2,
             "#de77ae"
            ],
            [
             0.3,
             "#f1b6da"
            ],
            [
             0.4,
             "#fde0ef"
            ],
            [
             0.5,
             "#f7f7f7"
            ],
            [
             0.6,
             "#e6f5d0"
            ],
            [
             0.7,
             "#b8e186"
            ],
            [
             0.8,
             "#7fbc41"
            ],
            [
             0.9,
             "#4d9221"
            ],
            [
             1,
             "#276419"
            ]
           ],
           "sequential": [
            [
             0,
             "#0d0887"
            ],
            [
             0.1111111111111111,
             "#46039f"
            ],
            [
             0.2222222222222222,
             "#7201a8"
            ],
            [
             0.3333333333333333,
             "#9c179e"
            ],
            [
             0.4444444444444444,
             "#bd3786"
            ],
            [
             0.5555555555555556,
             "#d8576b"
            ],
            [
             0.6666666666666666,
             "#ed7953"
            ],
            [
             0.7777777777777778,
             "#fb9f3a"
            ],
            [
             0.8888888888888888,
             "#fdca26"
            ],
            [
             1,
             "#f0f921"
            ]
           ],
           "sequentialminus": [
            [
             0,
             "#0d0887"
            ],
            [
             0.1111111111111111,
             "#46039f"
            ],
            [
             0.2222222222222222,
             "#7201a8"
            ],
            [
             0.3333333333333333,
             "#9c179e"
            ],
            [
             0.4444444444444444,
             "#bd3786"
            ],
            [
             0.5555555555555556,
             "#d8576b"
            ],
            [
             0.6666666666666666,
             "#ed7953"
            ],
            [
             0.7777777777777778,
             "#fb9f3a"
            ],
            [
             0.8888888888888888,
             "#fdca26"
            ],
            [
             1,
             "#f0f921"
            ]
           ]
          },
          "colorway": [
           "#636efa",
           "#EF553B",
           "#00cc96",
           "#ab63fa",
           "#FFA15A",
           "#19d3f3",
           "#FF6692",
           "#B6E880",
           "#FF97FF",
           "#FECB52"
          ],
          "font": {
           "color": "#2a3f5f"
          },
          "geo": {
           "bgcolor": "white",
           "lakecolor": "white",
           "landcolor": "#E5ECF6",
           "showlakes": true,
           "showland": true,
           "subunitcolor": "white"
          },
          "hoverlabel": {
           "align": "left"
          },
          "hovermode": "closest",
          "mapbox": {
           "style": "light"
          },
          "paper_bgcolor": "white",
          "plot_bgcolor": "#E5ECF6",
          "polar": {
           "angularaxis": {
            "gridcolor": "white",
            "linecolor": "white",
            "ticks": ""
           },
           "bgcolor": "#E5ECF6",
           "radialaxis": {
            "gridcolor": "white",
            "linecolor": "white",
            "ticks": ""
           }
          },
          "scene": {
           "xaxis": {
            "backgroundcolor": "#E5ECF6",
            "gridcolor": "white",
            "gridwidth": 2,
            "linecolor": "white",
            "showbackground": true,
            "ticks": "",
            "zerolinecolor": "white"
           },
           "yaxis": {
            "backgroundcolor": "#E5ECF6",
            "gridcolor": "white",
            "gridwidth": 2,
            "linecolor": "white",
            "showbackground": true,
            "ticks": "",
            "zerolinecolor": "white"
           },
           "zaxis": {
            "backgroundcolor": "#E5ECF6",
            "gridcolor": "white",
            "gridwidth": 2,
            "linecolor": "white",
            "showbackground": true,
            "ticks": "",
            "zerolinecolor": "white"
           }
          },
          "shapedefaults": {
           "line": {
            "color": "#2a3f5f"
           }
          },
          "ternary": {
           "aaxis": {
            "gridcolor": "white",
            "linecolor": "white",
            "ticks": ""
           },
           "baxis": {
            "gridcolor": "white",
            "linecolor": "white",
            "ticks": ""
           },
           "bgcolor": "#E5ECF6",
           "caxis": {
            "gridcolor": "white",
            "linecolor": "white",
            "ticks": ""
           }
          },
          "title": {
           "x": 0.05
          },
          "xaxis": {
           "automargin": true,
           "gridcolor": "white",
           "linecolor": "white",
           "ticks": "",
           "title": {
            "standoff": 15
           },
           "zerolinecolor": "white",
           "zerolinewidth": 2
          },
          "yaxis": {
           "automargin": true,
           "gridcolor": "white",
           "linecolor": "white",
           "ticks": "",
           "title": {
            "standoff": 15
           },
           "zerolinecolor": "white",
           "zerolinewidth": 2
          }
         }
        },
        "xaxis": {
         "anchor": "y",
         "domain": [
          0,
          1
         ],
         "title": {
          "text": "anio"
         }
        },
        "yaxis": {
         "anchor": "x",
         "domain": [
          0,
          1
         ],
         "title": {
          "text": "value"
         }
        }
       }
      }
     },
     "metadata": {},
     "output_type": "display_data"
    }
   ],
   "source": [
    "fig = px.line(df3,x='anio',y=['frecuencia','co2_emision_co2'],color='pais')\n",
    "fig.show()"
   ]
  },
  {
   "cell_type": "code",
   "execution_count": 736,
   "metadata": {},
   "outputs": [],
   "source": [
    "# fig1 = px.line(df3,x='anio', y=df3['frecuencia'].rolling(10).mean()*500,color='pais')\n",
    "# fig2 = px.line(df3,x='anio', y='co2_emision_co2',color='pais')\n",
    "\n",
    "# data = (fig1.data + fig2.data)\n",
    "\n",
    "# fig = go.Figure(data=data)\n",
    "# fig.show()"
   ]
  },
  {
   "cell_type": "code",
   "execution_count": 744,
   "metadata": {},
   "outputs": [
    {
     "data": {
      "application/vnd.plotly.v1+json": {
       "config": {
        "plotlyServerURL": "https://plot.ly"
       },
       "data": [
        {
         "name": "Frecuencia United States",
         "type": "scatter",
         "x": [
          1980,
          1981,
          1982,
          1983,
          1984,
          1985,
          1986,
          1987,
          1988,
          1989,
          1990,
          1991,
          1992,
          1993,
          1994,
          1995,
          1996,
          1997,
          1998,
          1999,
          2000,
          2001,
          2002,
          2003,
          2004,
          2005,
          2006,
          2007,
          2008,
          2009,
          2010,
          2011,
          2012,
          2013,
          2014,
          2015,
          2016,
          2017,
          2018,
          2019
         ],
         "y": [
          null,
          null,
          null,
          null,
          null,
          null,
          null,
          null,
          null,
          11.6,
          13,
          16.1,
          17.7,
          19.6,
          19.6,
          19.9,
          20.8,
          23.2,
          24.2,
          24.7,
          25.6,
          24.7,
          24.7,
          24.1,
          24.7,
          24.5,
          25.8,
          24.8,
          23.7,
          23.2,
          21.7,
          21.4,
          21,
          21.6,
          21.5,
          22.8,
          22.6,
          22.7,
          22.5,
          22.8
         ]
        },
        {
         "name": "CO2 United States",
         "type": "scatter",
         "x": [
          1980,
          1981,
          1982,
          1983,
          1984,
          1985,
          1986,
          1987,
          1988,
          1989,
          1990,
          1991,
          1992,
          1993,
          1994,
          1995,
          1996,
          1997,
          1998,
          1999,
          2000,
          2001,
          2002,
          2003,
          2004,
          2005,
          2006,
          2007,
          2008,
          2009,
          2010,
          2011,
          2012,
          2013,
          2014,
          2015,
          2016,
          2017,
          2018,
          2019
         ],
         "xaxis": "x",
         "y": [
          4946.63,
          4756.27,
          4636.63,
          4404.43,
          4383.94,
          4612.86,
          4605.35,
          4615.66,
          4775.55,
          4998.21,
          5084.56,
          5037.9,
          4992.68,
          5093.88,
          5185.52,
          5262.66,
          5324.31,
          5518.03,
          5589.32,
          5636.73,
          5700.25,
          5888.59,
          5777.79,
          5820.03,
          5886.42,
          5993.72,
          6006.99,
          5929.33,
          6015.54,
          5823.13,
          5403.66,
          5593.66,
          5454.7,
          5236.32,
          5358.87,
          5413.88,
          5262.08,
          5169.5,
          5131.08,
          5277.19
         ],
         "yaxis": "y2"
        },
        {
         "name": "Frecuencia China",
         "type": "scatter",
         "x": [
          1980,
          1981,
          1982,
          1983,
          1984,
          1985,
          1986,
          1987,
          1988,
          1989,
          1990,
          1991,
          1992,
          1993,
          1994,
          1995,
          1996,
          1997,
          1998,
          1999,
          2000,
          2001,
          2002,
          2003,
          2004,
          2005,
          2006,
          2007,
          2008,
          2009,
          2010,
          2011,
          2012,
          2013,
          2014,
          2015,
          2016,
          2017,
          2018,
          2019
         ],
         "y": [
          null,
          null,
          null,
          null,
          null,
          null,
          null,
          null,
          null,
          8.9,
          9.8,
          10.1,
          11.1,
          12,
          12.9,
          12.9,
          13.5,
          14,
          13.6,
          14.5,
          15.5,
          17.2,
          18,
          18,
          18.3,
          19.9,
          21.3,
          21.5,
          22.7,
          23.3,
          23,
          21.6,
          21.4,
          23.2,
          24.7,
          25,
          25,
          25.7,
          25.4,
          24.3
         ]
        },
        {
         "name": "CO2 China",
         "type": "scatter",
         "x": [
          1980,
          1981,
          1982,
          1983,
          1984,
          1985,
          1986,
          1987,
          1988,
          1989,
          1990,
          1991,
          1992,
          1993,
          1994,
          1995,
          1996,
          1997,
          1998,
          1999,
          2000,
          2001,
          2002,
          2003,
          2004,
          2005,
          2006,
          2007,
          2008,
          2009,
          2010,
          2011,
          2012,
          2013,
          2014,
          2015,
          2016,
          2017,
          2018,
          2019
         ],
         "xaxis": "x",
         "y": [
          null,
          1596.7,
          1587.19,
          1671.1,
          1785.8,
          1948.07,
          2066.96,
          2139.78,
          2259.81,
          2405.65,
          2413.19,
          2417.24,
          2460.41,
          2541.08,
          2730.93,
          2916.39,
          3140.32,
          3240.42,
          3143.57,
          3132.09,
          3248.27,
          3482.71,
          3615.32,
          3857.32,
          4469.34,
          5397.86,
          6120.08,
          6750.67,
          7057.57,
          7505.11,
          8204.14,
          9003.66,
          9892.52,
          10478.96,
          10732,
          10654.28,
          10427.09,
          10261.6,
          10414.77,
          10608.6
         ],
         "yaxis": "y2"
        },
        {
         "name": "Frecuencia Russia",
         "type": "scatter",
         "x": [],
         "y": []
        },
        {
         "name": "CO2 Russia",
         "type": "scatter",
         "x": [],
         "xaxis": "x",
         "y": [],
         "yaxis": "y2"
        },
        {
         "name": "Frecuencia Saudi Arabia",
         "type": "scatter",
         "x": [
          1980,
          1981,
          1982,
          1983,
          1984,
          1985,
          1986,
          1987,
          1988,
          1989,
          1990,
          1991,
          1992,
          1993,
          1994,
          1995,
          1996,
          1997,
          1998,
          1999,
          2000,
          2001,
          2002,
          2003,
          2004,
          2005,
          2006,
          2007,
          2008,
          2009,
          2010,
          2011,
          2012,
          2013,
          2014,
          2015,
          2016,
          2017,
          2018,
          2019
         ],
         "y": [
          null,
          null,
          null,
          null,
          null,
          null,
          null,
          null,
          null,
          null,
          null,
          null,
          null,
          null,
          null,
          null,
          null,
          null,
          null,
          null,
          null,
          null,
          null,
          null,
          null,
          null,
          null,
          null,
          null,
          null,
          null,
          null,
          null,
          null,
          null,
          null,
          null,
          null,
          null,
          null
         ]
        },
        {
         "name": "CO2 Saudi Arabia",
         "type": "scatter",
         "x": [
          1980,
          1981,
          1982,
          1983,
          1984,
          1985,
          1986,
          1987,
          1988,
          1989,
          1990,
          1991,
          1992,
          1993,
          1994,
          1995,
          1996,
          1997,
          1998,
          1999,
          2000,
          2001,
          2002,
          2003,
          2004,
          2005,
          2006,
          2007,
          2008,
          2009,
          2010,
          2011,
          2012,
          2013,
          2014,
          2015,
          2016,
          2017,
          2018,
          2019
         ],
         "xaxis": "x",
         "y": [
          null,
          107.07,
          128.33,
          126.89,
          136.22,
          157.44,
          173.77,
          185.44,
          187.55,
          194.11,
          191.44,
          198.83,
          202.8,
          213.71,
          214.48,
          221.03,
          212.67,
          227.15,
          253.01,
          255.92,
          263.69,
          289.72,
          301.33,
          311.26,
          346.85,
          388.88,
          404.83,
          406.15,
          348.35,
          425.91,
          441.97,
          497.2,
          524.43,
          555.65,
          568.66,
          595.03,
          621.01,
          589.37,
          584.23,
          567.99
         ],
         "yaxis": "y2"
        },
        {
         "name": "Frecuencia Canada",
         "type": "scatter",
         "x": [
          1980,
          1981,
          1982,
          1983,
          1984,
          1985,
          1986,
          1987,
          1988,
          1989,
          1990,
          1991,
          1992,
          1993,
          1994,
          1995,
          1996,
          1997,
          1998,
          1999,
          2000,
          2001,
          2002,
          2003,
          2004,
          2005,
          2006,
          2007,
          2008,
          2009,
          2010,
          2011,
          2012,
          2013,
          2014,
          2015,
          2016,
          2017,
          2018,
          2019
         ],
         "y": [
          null,
          null,
          null,
          null,
          null,
          null,
          null,
          null,
          null,
          1.8,
          1.8,
          1.8,
          1.9,
          1.9,
          2.1,
          2.3,
          2.1,
          2.1,
          2.2,
          2.3,
          2.3,
          2.4,
          2.4,
          3,
          3.1,
          3.2,
          3.5,
          3.5,
          3.4,
          3.4,
          3.4,
          3.6,
          3.7,
          3.3,
          3.1,
          2.7,
          2.4,
          2.4,
          2.6,
          2.5
         ]
        },
        {
         "name": "CO2 Canada",
         "type": "scatter",
         "x": [
          1980,
          1981,
          1982,
          1983,
          1984,
          1985,
          1986,
          1987,
          1988,
          1989,
          1990,
          1991,
          1992,
          1993,
          1994,
          1995,
          1996,
          1997,
          1998,
          1999,
          2000,
          2001,
          2002,
          2003,
          2004,
          2005,
          2006,
          2007,
          2008,
          2009,
          2010,
          2011,
          2012,
          2013,
          2014,
          2015,
          2016,
          2017,
          2018,
          2019
         ],
         "xaxis": "x",
         "y": [
          null,
          422.55,
          398.86,
          386.26,
          375.04,
          409.95,
          410.46,
          404.42,
          422.69,
          455.94,
          467.66,
          432.77,
          425.95,
          448.63,
          447.59,
          460.94,
          468.11,
          479.17,
          492.26,
          488.88,
          508.91,
          511.89,
          524.38,
          536.97,
          565.04,
          571.37,
          573.27,
          575.64,
          574.75,
          556.83,
          541.45,
          570.78,
          575.29,
          578.02,
          587.99,
          589.56,
          591.03,
          579.44,
          601.4,
          613.09
         ],
         "yaxis": "y2"
        }
       ],
       "layout": {
        "template": {
         "data": {
          "bar": [
           {
            "error_x": {
             "color": "#2a3f5f"
            },
            "error_y": {
             "color": "#2a3f5f"
            },
            "marker": {
             "line": {
              "color": "#E5ECF6",
              "width": 0.5
             },
             "pattern": {
              "fillmode": "overlay",
              "size": 10,
              "solidity": 0.2
             }
            },
            "type": "bar"
           }
          ],
          "barpolar": [
           {
            "marker": {
             "line": {
              "color": "#E5ECF6",
              "width": 0.5
             },
             "pattern": {
              "fillmode": "overlay",
              "size": 10,
              "solidity": 0.2
             }
            },
            "type": "barpolar"
           }
          ],
          "carpet": [
           {
            "aaxis": {
             "endlinecolor": "#2a3f5f",
             "gridcolor": "white",
             "linecolor": "white",
             "minorgridcolor": "white",
             "startlinecolor": "#2a3f5f"
            },
            "baxis": {
             "endlinecolor": "#2a3f5f",
             "gridcolor": "white",
             "linecolor": "white",
             "minorgridcolor": "white",
             "startlinecolor": "#2a3f5f"
            },
            "type": "carpet"
           }
          ],
          "choropleth": [
           {
            "colorbar": {
             "outlinewidth": 0,
             "ticks": ""
            },
            "type": "choropleth"
           }
          ],
          "contour": [
           {
            "colorbar": {
             "outlinewidth": 0,
             "ticks": ""
            },
            "colorscale": [
             [
              0,
              "#0d0887"
             ],
             [
              0.1111111111111111,
              "#46039f"
             ],
             [
              0.2222222222222222,
              "#7201a8"
             ],
             [
              0.3333333333333333,
              "#9c179e"
             ],
             [
              0.4444444444444444,
              "#bd3786"
             ],
             [
              0.5555555555555556,
              "#d8576b"
             ],
             [
              0.6666666666666666,
              "#ed7953"
             ],
             [
              0.7777777777777778,
              "#fb9f3a"
             ],
             [
              0.8888888888888888,
              "#fdca26"
             ],
             [
              1,
              "#f0f921"
             ]
            ],
            "type": "contour"
           }
          ],
          "contourcarpet": [
           {
            "colorbar": {
             "outlinewidth": 0,
             "ticks": ""
            },
            "type": "contourcarpet"
           }
          ],
          "heatmap": [
           {
            "colorbar": {
             "outlinewidth": 0,
             "ticks": ""
            },
            "colorscale": [
             [
              0,
              "#0d0887"
             ],
             [
              0.1111111111111111,
              "#46039f"
             ],
             [
              0.2222222222222222,
              "#7201a8"
             ],
             [
              0.3333333333333333,
              "#9c179e"
             ],
             [
              0.4444444444444444,
              "#bd3786"
             ],
             [
              0.5555555555555556,
              "#d8576b"
             ],
             [
              0.6666666666666666,
              "#ed7953"
             ],
             [
              0.7777777777777778,
              "#fb9f3a"
             ],
             [
              0.8888888888888888,
              "#fdca26"
             ],
             [
              1,
              "#f0f921"
             ]
            ],
            "type": "heatmap"
           }
          ],
          "heatmapgl": [
           {
            "colorbar": {
             "outlinewidth": 0,
             "ticks": ""
            },
            "colorscale": [
             [
              0,
              "#0d0887"
             ],
             [
              0.1111111111111111,
              "#46039f"
             ],
             [
              0.2222222222222222,
              "#7201a8"
             ],
             [
              0.3333333333333333,
              "#9c179e"
             ],
             [
              0.4444444444444444,
              "#bd3786"
             ],
             [
              0.5555555555555556,
              "#d8576b"
             ],
             [
              0.6666666666666666,
              "#ed7953"
             ],
             [
              0.7777777777777778,
              "#fb9f3a"
             ],
             [
              0.8888888888888888,
              "#fdca26"
             ],
             [
              1,
              "#f0f921"
             ]
            ],
            "type": "heatmapgl"
           }
          ],
          "histogram": [
           {
            "marker": {
             "pattern": {
              "fillmode": "overlay",
              "size": 10,
              "solidity": 0.2
             }
            },
            "type": "histogram"
           }
          ],
          "histogram2d": [
           {
            "colorbar": {
             "outlinewidth": 0,
             "ticks": ""
            },
            "colorscale": [
             [
              0,
              "#0d0887"
             ],
             [
              0.1111111111111111,
              "#46039f"
             ],
             [
              0.2222222222222222,
              "#7201a8"
             ],
             [
              0.3333333333333333,
              "#9c179e"
             ],
             [
              0.4444444444444444,
              "#bd3786"
             ],
             [
              0.5555555555555556,
              "#d8576b"
             ],
             [
              0.6666666666666666,
              "#ed7953"
             ],
             [
              0.7777777777777778,
              "#fb9f3a"
             ],
             [
              0.8888888888888888,
              "#fdca26"
             ],
             [
              1,
              "#f0f921"
             ]
            ],
            "type": "histogram2d"
           }
          ],
          "histogram2dcontour": [
           {
            "colorbar": {
             "outlinewidth": 0,
             "ticks": ""
            },
            "colorscale": [
             [
              0,
              "#0d0887"
             ],
             [
              0.1111111111111111,
              "#46039f"
             ],
             [
              0.2222222222222222,
              "#7201a8"
             ],
             [
              0.3333333333333333,
              "#9c179e"
             ],
             [
              0.4444444444444444,
              "#bd3786"
             ],
             [
              0.5555555555555556,
              "#d8576b"
             ],
             [
              0.6666666666666666,
              "#ed7953"
             ],
             [
              0.7777777777777778,
              "#fb9f3a"
             ],
             [
              0.8888888888888888,
              "#fdca26"
             ],
             [
              1,
              "#f0f921"
             ]
            ],
            "type": "histogram2dcontour"
           }
          ],
          "mesh3d": [
           {
            "colorbar": {
             "outlinewidth": 0,
             "ticks": ""
            },
            "type": "mesh3d"
           }
          ],
          "parcoords": [
           {
            "line": {
             "colorbar": {
              "outlinewidth": 0,
              "ticks": ""
             }
            },
            "type": "parcoords"
           }
          ],
          "pie": [
           {
            "automargin": true,
            "type": "pie"
           }
          ],
          "scatter": [
           {
            "fillpattern": {
             "fillmode": "overlay",
             "size": 10,
             "solidity": 0.2
            },
            "type": "scatter"
           }
          ],
          "scatter3d": [
           {
            "line": {
             "colorbar": {
              "outlinewidth": 0,
              "ticks": ""
             }
            },
            "marker": {
             "colorbar": {
              "outlinewidth": 0,
              "ticks": ""
             }
            },
            "type": "scatter3d"
           }
          ],
          "scattercarpet": [
           {
            "marker": {
             "colorbar": {
              "outlinewidth": 0,
              "ticks": ""
             }
            },
            "type": "scattercarpet"
           }
          ],
          "scattergeo": [
           {
            "marker": {
             "colorbar": {
              "outlinewidth": 0,
              "ticks": ""
             }
            },
            "type": "scattergeo"
           }
          ],
          "scattergl": [
           {
            "marker": {
             "colorbar": {
              "outlinewidth": 0,
              "ticks": ""
             }
            },
            "type": "scattergl"
           }
          ],
          "scattermapbox": [
           {
            "marker": {
             "colorbar": {
              "outlinewidth": 0,
              "ticks": ""
             }
            },
            "type": "scattermapbox"
           }
          ],
          "scatterpolar": [
           {
            "marker": {
             "colorbar": {
              "outlinewidth": 0,
              "ticks": ""
             }
            },
            "type": "scatterpolar"
           }
          ],
          "scatterpolargl": [
           {
            "marker": {
             "colorbar": {
              "outlinewidth": 0,
              "ticks": ""
             }
            },
            "type": "scatterpolargl"
           }
          ],
          "scatterternary": [
           {
            "marker": {
             "colorbar": {
              "outlinewidth": 0,
              "ticks": ""
             }
            },
            "type": "scatterternary"
           }
          ],
          "surface": [
           {
            "colorbar": {
             "outlinewidth": 0,
             "ticks": ""
            },
            "colorscale": [
             [
              0,
              "#0d0887"
             ],
             [
              0.1111111111111111,
              "#46039f"
             ],
             [
              0.2222222222222222,
              "#7201a8"
             ],
             [
              0.3333333333333333,
              "#9c179e"
             ],
             [
              0.4444444444444444,
              "#bd3786"
             ],
             [
              0.5555555555555556,
              "#d8576b"
             ],
             [
              0.6666666666666666,
              "#ed7953"
             ],
             [
              0.7777777777777778,
              "#fb9f3a"
             ],
             [
              0.8888888888888888,
              "#fdca26"
             ],
             [
              1,
              "#f0f921"
             ]
            ],
            "type": "surface"
           }
          ],
          "table": [
           {
            "cells": {
             "fill": {
              "color": "#EBF0F8"
             },
             "line": {
              "color": "white"
             }
            },
            "header": {
             "fill": {
              "color": "#C8D4E3"
             },
             "line": {
              "color": "white"
             }
            },
            "type": "table"
           }
          ]
         },
         "layout": {
          "annotationdefaults": {
           "arrowcolor": "#2a3f5f",
           "arrowhead": 0,
           "arrowwidth": 1
          },
          "autotypenumbers": "strict",
          "coloraxis": {
           "colorbar": {
            "outlinewidth": 0,
            "ticks": ""
           }
          },
          "colorscale": {
           "diverging": [
            [
             0,
             "#8e0152"
            ],
            [
             0.1,
             "#c51b7d"
            ],
            [
             0.2,
             "#de77ae"
            ],
            [
             0.3,
             "#f1b6da"
            ],
            [
             0.4,
             "#fde0ef"
            ],
            [
             0.5,
             "#f7f7f7"
            ],
            [
             0.6,
             "#e6f5d0"
            ],
            [
             0.7,
             "#b8e186"
            ],
            [
             0.8,
             "#7fbc41"
            ],
            [
             0.9,
             "#4d9221"
            ],
            [
             1,
             "#276419"
            ]
           ],
           "sequential": [
            [
             0,
             "#0d0887"
            ],
            [
             0.1111111111111111,
             "#46039f"
            ],
            [
             0.2222222222222222,
             "#7201a8"
            ],
            [
             0.3333333333333333,
             "#9c179e"
            ],
            [
             0.4444444444444444,
             "#bd3786"
            ],
            [
             0.5555555555555556,
             "#d8576b"
            ],
            [
             0.6666666666666666,
             "#ed7953"
            ],
            [
             0.7777777777777778,
             "#fb9f3a"
            ],
            [
             0.8888888888888888,
             "#fdca26"
            ],
            [
             1,
             "#f0f921"
            ]
           ],
           "sequentialminus": [
            [
             0,
             "#0d0887"
            ],
            [
             0.1111111111111111,
             "#46039f"
            ],
            [
             0.2222222222222222,
             "#7201a8"
            ],
            [
             0.3333333333333333,
             "#9c179e"
            ],
            [
             0.4444444444444444,
             "#bd3786"
            ],
            [
             0.5555555555555556,
             "#d8576b"
            ],
            [
             0.6666666666666666,
             "#ed7953"
            ],
            [
             0.7777777777777778,
             "#fb9f3a"
            ],
            [
             0.8888888888888888,
             "#fdca26"
            ],
            [
             1,
             "#f0f921"
            ]
           ]
          },
          "colorway": [
           "#636efa",
           "#EF553B",
           "#00cc96",
           "#ab63fa",
           "#FFA15A",
           "#19d3f3",
           "#FF6692",
           "#B6E880",
           "#FF97FF",
           "#FECB52"
          ],
          "font": {
           "color": "#2a3f5f"
          },
          "geo": {
           "bgcolor": "white",
           "lakecolor": "white",
           "landcolor": "#E5ECF6",
           "showlakes": true,
           "showland": true,
           "subunitcolor": "white"
          },
          "hoverlabel": {
           "align": "left"
          },
          "hovermode": "closest",
          "mapbox": {
           "style": "light"
          },
          "paper_bgcolor": "white",
          "plot_bgcolor": "#E5ECF6",
          "polar": {
           "angularaxis": {
            "gridcolor": "white",
            "linecolor": "white",
            "ticks": ""
           },
           "bgcolor": "#E5ECF6",
           "radialaxis": {
            "gridcolor": "white",
            "linecolor": "white",
            "ticks": ""
           }
          },
          "scene": {
           "xaxis": {
            "backgroundcolor": "#E5ECF6",
            "gridcolor": "white",
            "gridwidth": 2,
            "linecolor": "white",
            "showbackground": true,
            "ticks": "",
            "zerolinecolor": "white"
           },
           "yaxis": {
            "backgroundcolor": "#E5ECF6",
            "gridcolor": "white",
            "gridwidth": 2,
            "linecolor": "white",
            "showbackground": true,
            "ticks": "",
            "zerolinecolor": "white"
           },
           "zaxis": {
            "backgroundcolor": "#E5ECF6",
            "gridcolor": "white",
            "gridwidth": 2,
            "linecolor": "white",
            "showbackground": true,
            "ticks": "",
            "zerolinecolor": "white"
           }
          },
          "shapedefaults": {
           "line": {
            "color": "#2a3f5f"
           }
          },
          "ternary": {
           "aaxis": {
            "gridcolor": "white",
            "linecolor": "white",
            "ticks": ""
           },
           "baxis": {
            "gridcolor": "white",
            "linecolor": "white",
            "ticks": ""
           },
           "bgcolor": "#E5ECF6",
           "caxis": {
            "gridcolor": "white",
            "linecolor": "white",
            "ticks": ""
           }
          },
          "title": {
           "x": 0.05
          },
          "xaxis": {
           "automargin": true,
           "gridcolor": "white",
           "linecolor": "white",
           "ticks": "",
           "title": {
            "standoff": 15
           },
           "zerolinecolor": "white",
           "zerolinewidth": 2
          },
          "yaxis": {
           "automargin": true,
           "gridcolor": "white",
           "linecolor": "white",
           "ticks": "",
           "title": {
            "standoff": 15
           },
           "zerolinecolor": "white",
           "zerolinewidth": 2
          }
         }
        },
        "title": {
         "text": "Frecuencia de desastres climaticos vs produccion energía en top productores"
        },
        "xaxis": {
         "anchor": "y",
         "domain": [
          0,
          0.94
         ]
        },
        "yaxis": {
         "anchor": "x",
         "domain": [
          0,
          1
         ]
        },
        "yaxis2": {
         "anchor": "x",
         "overlaying": "y",
         "side": "right"
        }
       }
      }
     },
     "metadata": {},
     "output_type": "display_data"
    }
   ],
   "source": [
    "fig = make_subplots(specs=[[{\"secondary_y\": True}]])\n",
    "\n",
    "for pais in paises:\n",
    "    fig.add_trace(go.Scatter(x=df3[df3['pais']==pais]['anio'],y=df3[df3['pais']==pais]['frecuencia'].rolling(10).mean(),name='Frecuencia '+pais))\n",
    "    fig.add_trace(go.Scatter(x=df3[df3['pais']==pais]['anio'],y=df3[df3['pais']==pais]['co2_emision_co2'],name='CO2 '+pais),secondary_y=True)\n",
    "fig.update_layout(title='Frecuencia de desastres climaticos vs produccion energía en top productores')\n",
    "fig.show()"
   ]
  },
  {
   "cell_type": "code",
   "execution_count": 738,
   "metadata": {},
   "outputs": [],
   "source": [
    "df5 = df3[df3['pais'] != 'India']"
   ]
  },
  {
   "cell_type": "code",
   "execution_count": 743,
   "metadata": {},
   "outputs": [
    {
     "data": {
      "text/html": [
       "<div>\n",
       "<style scoped>\n",
       "    .dataframe tbody tr th:only-of-type {\n",
       "        vertical-align: middle;\n",
       "    }\n",
       "\n",
       "    .dataframe tbody tr th {\n",
       "        vertical-align: top;\n",
       "    }\n",
       "\n",
       "    .dataframe thead th {\n",
       "        text-align: right;\n",
       "    }\n",
       "</style>\n",
       "<table border=\"1\" class=\"dataframe\">\n",
       "  <thead>\n",
       "    <tr style=\"text-align: right;\">\n",
       "      <th></th>\n",
       "      <th>frecuencia</th>\n",
       "      <th>co2_emision_co2</th>\n",
       "    </tr>\n",
       "  </thead>\n",
       "  <tbody>\n",
       "    <tr>\n",
       "      <th>frecuencia</th>\n",
       "      <td>1.000000</td>\n",
       "      <td>0.830598</td>\n",
       "    </tr>\n",
       "    <tr>\n",
       "      <th>co2_emision_co2</th>\n",
       "      <td>0.830598</td>\n",
       "      <td>1.000000</td>\n",
       "    </tr>\n",
       "  </tbody>\n",
       "</table>\n",
       "</div>"
      ],
      "text/plain": [
       "                 frecuencia  co2_emision_co2\n",
       "frecuencia         1.000000         0.830598\n",
       "co2_emision_co2    0.830598         1.000000"
      ]
     },
     "execution_count": 743,
     "metadata": {},
     "output_type": "execute_result"
    }
   ],
   "source": [
    "df5[['frecuencia','co2_emision_co2']].corr()"
   ]
  },
  {
   "cell_type": "code",
   "execution_count": 740,
   "metadata": {},
   "outputs": [
    {
     "ename": "ImportError",
     "evalue": "Unable to find a usable engine; tried using: 'pyarrow', 'fastparquet'.\nA suitable version of pyarrow or fastparquet is required for parquet support.\nTrying to import the above resulted in these errors:\n - Missing optional dependency 'pyarrow'. pyarrow is required for parquet support. Use pip or conda to install pyarrow.\n - Missing optional dependency 'fastparquet'. fastparquet is required for parquet support. Use pip or conda to install fastparquet.",
     "output_type": "error",
     "traceback": [
      "\u001b[1;31m---------------------------------------------------------------------------\u001b[0m",
      "\u001b[1;31mImportError\u001b[0m                               Traceback (most recent call last)",
      "\u001b[1;32mc:\\Users\\ferch\\Desktop\\Henry\\Proyecto Grupal\\CO2-Emissions\\src\\ETL_Fercho.ipynb Cell 44\u001b[0m in \u001b[0;36m<cell line: 1>\u001b[1;34m()\u001b[0m\n\u001b[1;32m----> <a href='vscode-notebook-cell:/c%3A/Users/ferch/Desktop/Henry/Proyecto%20Grupal/CO2-Emissions/src/ETL_Fercho.ipynb#X46sZmlsZQ%3D%3D?line=0'>1</a>\u001b[0m df2\u001b[39m.\u001b[39;49mto_parquet(\u001b[39mr\u001b[39;49m\u001b[39m\"\u001b[39;49m\u001b[39m..\u001b[39;49m\u001b[39m\\\u001b[39;49m\u001b[39mdesastres_naturales\u001b[39;49m\u001b[39m\\\u001b[39;49m\u001b[39mClimate-related_Disasters_Frequency_normalizado.parquet\u001b[39;49m\u001b[39m\"\u001b[39;49m)\n",
      "File \u001b[1;32mc:\\Users\\ferch\\AppData\\Local\\Programs\\Python\\Python310\\lib\\site-packages\\pandas\\util\\_decorators.py:207\u001b[0m, in \u001b[0;36mdeprecate_kwarg.<locals>._deprecate_kwarg.<locals>.wrapper\u001b[1;34m(*args, **kwargs)\u001b[0m\n\u001b[0;32m    205\u001b[0m     \u001b[39melse\u001b[39;00m:\n\u001b[0;32m    206\u001b[0m         kwargs[new_arg_name] \u001b[39m=\u001b[39m new_arg_value\n\u001b[1;32m--> 207\u001b[0m \u001b[39mreturn\u001b[39;00m func(\u001b[39m*\u001b[39margs, \u001b[39m*\u001b[39m\u001b[39m*\u001b[39mkwargs)\n",
      "File \u001b[1;32mc:\\Users\\ferch\\AppData\\Local\\Programs\\Python\\Python310\\lib\\site-packages\\pandas\\core\\frame.py:2835\u001b[0m, in \u001b[0;36mDataFrame.to_parquet\u001b[1;34m(self, path, engine, compression, index, partition_cols, storage_options, **kwargs)\u001b[0m\n\u001b[0;32m   2749\u001b[0m \u001b[39m\"\"\"\u001b[39;00m\n\u001b[0;32m   2750\u001b[0m \u001b[39mWrite a DataFrame to the binary parquet format.\u001b[39;00m\n\u001b[0;32m   2751\u001b[0m \n\u001b[1;32m   (...)\u001b[0m\n\u001b[0;32m   2831\u001b[0m \u001b[39m>>> content = f.read()\u001b[39;00m\n\u001b[0;32m   2832\u001b[0m \u001b[39m\"\"\"\u001b[39;00m\n\u001b[0;32m   2833\u001b[0m \u001b[39mfrom\u001b[39;00m \u001b[39mpandas\u001b[39;00m\u001b[39m.\u001b[39;00m\u001b[39mio\u001b[39;00m\u001b[39m.\u001b[39;00m\u001b[39mparquet\u001b[39;00m \u001b[39mimport\u001b[39;00m to_parquet\n\u001b[1;32m-> 2835\u001b[0m \u001b[39mreturn\u001b[39;00m to_parquet(\n\u001b[0;32m   2836\u001b[0m     \u001b[39mself\u001b[39m,\n\u001b[0;32m   2837\u001b[0m     path,\n\u001b[0;32m   2838\u001b[0m     engine,\n\u001b[0;32m   2839\u001b[0m     compression\u001b[39m=\u001b[39mcompression,\n\u001b[0;32m   2840\u001b[0m     index\u001b[39m=\u001b[39mindex,\n\u001b[0;32m   2841\u001b[0m     partition_cols\u001b[39m=\u001b[39mpartition_cols,\n\u001b[0;32m   2842\u001b[0m     storage_options\u001b[39m=\u001b[39mstorage_options,\n\u001b[0;32m   2843\u001b[0m     \u001b[39m*\u001b[39m\u001b[39m*\u001b[39mkwargs,\n\u001b[0;32m   2844\u001b[0m )\n",
      "File \u001b[1;32mc:\\Users\\ferch\\AppData\\Local\\Programs\\Python\\Python310\\lib\\site-packages\\pandas\\io\\parquet.py:416\u001b[0m, in \u001b[0;36mto_parquet\u001b[1;34m(df, path, engine, compression, index, storage_options, partition_cols, **kwargs)\u001b[0m\n\u001b[0;32m    414\u001b[0m \u001b[39mif\u001b[39;00m \u001b[39misinstance\u001b[39m(partition_cols, \u001b[39mstr\u001b[39m):\n\u001b[0;32m    415\u001b[0m     partition_cols \u001b[39m=\u001b[39m [partition_cols]\n\u001b[1;32m--> 416\u001b[0m impl \u001b[39m=\u001b[39m get_engine(engine)\n\u001b[0;32m    418\u001b[0m path_or_buf: FilePath \u001b[39m|\u001b[39m WriteBuffer[\u001b[39mbytes\u001b[39m] \u001b[39m=\u001b[39m io\u001b[39m.\u001b[39mBytesIO() \u001b[39mif\u001b[39;00m path \u001b[39mis\u001b[39;00m \u001b[39mNone\u001b[39;00m \u001b[39melse\u001b[39;00m path\n\u001b[0;32m    420\u001b[0m impl\u001b[39m.\u001b[39mwrite(\n\u001b[0;32m    421\u001b[0m     df,\n\u001b[0;32m    422\u001b[0m     path_or_buf,\n\u001b[1;32m   (...)\u001b[0m\n\u001b[0;32m    427\u001b[0m     \u001b[39m*\u001b[39m\u001b[39m*\u001b[39mkwargs,\n\u001b[0;32m    428\u001b[0m )\n",
      "File \u001b[1;32mc:\\Users\\ferch\\AppData\\Local\\Programs\\Python\\Python310\\lib\\site-packages\\pandas\\io\\parquet.py:52\u001b[0m, in \u001b[0;36mget_engine\u001b[1;34m(engine)\u001b[0m\n\u001b[0;32m     49\u001b[0m         \u001b[39mexcept\u001b[39;00m \u001b[39mImportError\u001b[39;00m \u001b[39mas\u001b[39;00m err:\n\u001b[0;32m     50\u001b[0m             error_msgs \u001b[39m+\u001b[39m\u001b[39m=\u001b[39m \u001b[39m\"\u001b[39m\u001b[39m\\n\u001b[39;00m\u001b[39m - \u001b[39m\u001b[39m\"\u001b[39m \u001b[39m+\u001b[39m \u001b[39mstr\u001b[39m(err)\n\u001b[1;32m---> 52\u001b[0m     \u001b[39mraise\u001b[39;00m \u001b[39mImportError\u001b[39;00m(\n\u001b[0;32m     53\u001b[0m         \u001b[39m\"\u001b[39m\u001b[39mUnable to find a usable engine; \u001b[39m\u001b[39m\"\u001b[39m\n\u001b[0;32m     54\u001b[0m         \u001b[39m\"\u001b[39m\u001b[39mtried using: \u001b[39m\u001b[39m'\u001b[39m\u001b[39mpyarrow\u001b[39m\u001b[39m'\u001b[39m\u001b[39m, \u001b[39m\u001b[39m'\u001b[39m\u001b[39mfastparquet\u001b[39m\u001b[39m'\u001b[39m\u001b[39m.\u001b[39m\u001b[39m\\n\u001b[39;00m\u001b[39m\"\u001b[39m\n\u001b[0;32m     55\u001b[0m         \u001b[39m\"\u001b[39m\u001b[39mA suitable version of \u001b[39m\u001b[39m\"\u001b[39m\n\u001b[0;32m     56\u001b[0m         \u001b[39m\"\u001b[39m\u001b[39mpyarrow or fastparquet is required for parquet \u001b[39m\u001b[39m\"\u001b[39m\n\u001b[0;32m     57\u001b[0m         \u001b[39m\"\u001b[39m\u001b[39msupport.\u001b[39m\u001b[39m\\n\u001b[39;00m\u001b[39m\"\u001b[39m\n\u001b[0;32m     58\u001b[0m         \u001b[39m\"\u001b[39m\u001b[39mTrying to import the above resulted in these errors:\u001b[39m\u001b[39m\"\u001b[39m\n\u001b[0;32m     59\u001b[0m         \u001b[39mf\u001b[39m\u001b[39m\"\u001b[39m\u001b[39m{\u001b[39;00merror_msgs\u001b[39m}\u001b[39;00m\u001b[39m\"\u001b[39m\n\u001b[0;32m     60\u001b[0m     )\n\u001b[0;32m     62\u001b[0m \u001b[39mif\u001b[39;00m engine \u001b[39m==\u001b[39m \u001b[39m\"\u001b[39m\u001b[39mpyarrow\u001b[39m\u001b[39m\"\u001b[39m:\n\u001b[0;32m     63\u001b[0m     \u001b[39mreturn\u001b[39;00m PyArrowImpl()\n",
      "\u001b[1;31mImportError\u001b[0m: Unable to find a usable engine; tried using: 'pyarrow', 'fastparquet'.\nA suitable version of pyarrow or fastparquet is required for parquet support.\nTrying to import the above resulted in these errors:\n - Missing optional dependency 'pyarrow'. pyarrow is required for parquet support. Use pip or conda to install pyarrow.\n - Missing optional dependency 'fastparquet'. fastparquet is required for parquet support. Use pip or conda to install fastparquet."
     ]
    }
   ],
   "source": [
    "df2.to_parquet(r\"..\\desastres_naturales\\Climate-related_Disasters_Frequency_normalizado.parquet\")"
   ]
  },
  {
   "cell_type": "markdown",
   "metadata": {},
   "source": [
    "<hr>"
   ]
  },
  {
   "cell_type": "markdown",
   "metadata": {},
   "source": [
    "<h1>OWID-Energy-Consumption-Source</h1>"
   ]
  },
  {
   "cell_type": "code",
   "execution_count": null,
   "metadata": {},
   "outputs": [],
   "source": [
    "dataset = pd.read_csv(r\"..\\datasets\\energy_consumption\\owid-energy-consumption-source.csv\")\n",
    "df3 = pd.DataFrame(dataset)"
   ]
  },
  {
   "cell_type": "code",
   "execution_count": null,
   "metadata": {},
   "outputs": [
    {
     "data": {
      "text/html": [
       "<div>\n",
       "<style scoped>\n",
       "    .dataframe tbody tr th:only-of-type {\n",
       "        vertical-align: middle;\n",
       "    }\n",
       "\n",
       "    .dataframe tbody tr th {\n",
       "        vertical-align: top;\n",
       "    }\n",
       "\n",
       "    .dataframe thead th {\n",
       "        text-align: right;\n",
       "    }\n",
       "</style>\n",
       "<table border=\"1\" class=\"dataframe\">\n",
       "  <thead>\n",
       "    <tr style=\"text-align: right;\">\n",
       "      <th></th>\n",
       "      <th>country</th>\n",
       "      <th>year</th>\n",
       "      <th>iso_code</th>\n",
       "      <th>population</th>\n",
       "      <th>gdp</th>\n",
       "      <th>biofuel_cons_change_pct</th>\n",
       "      <th>biofuel_cons_change_twh</th>\n",
       "      <th>biofuel_cons_per_capita</th>\n",
       "      <th>biofuel_consumption</th>\n",
       "      <th>biofuel_elec_per_capita</th>\n",
       "      <th>...</th>\n",
       "      <th>solar_share_elec</th>\n",
       "      <th>solar_share_energy</th>\n",
       "      <th>wind_cons_change_pct</th>\n",
       "      <th>wind_cons_change_twh</th>\n",
       "      <th>wind_consumption</th>\n",
       "      <th>wind_elec_per_capita</th>\n",
       "      <th>wind_electricity</th>\n",
       "      <th>wind_energy_per_capita</th>\n",
       "      <th>wind_share_elec</th>\n",
       "      <th>wind_share_energy</th>\n",
       "    </tr>\n",
       "  </thead>\n",
       "  <tbody>\n",
       "    <tr>\n",
       "      <th>0</th>\n",
       "      <td>Afghanistan</td>\n",
       "      <td>1900</td>\n",
       "      <td>AFG</td>\n",
       "      <td>4832414.0</td>\n",
       "      <td>NaN</td>\n",
       "      <td>NaN</td>\n",
       "      <td>NaN</td>\n",
       "      <td>NaN</td>\n",
       "      <td>NaN</td>\n",
       "      <td>NaN</td>\n",
       "      <td>...</td>\n",
       "      <td>NaN</td>\n",
       "      <td>NaN</td>\n",
       "      <td>NaN</td>\n",
       "      <td>NaN</td>\n",
       "      <td>NaN</td>\n",
       "      <td>NaN</td>\n",
       "      <td>NaN</td>\n",
       "      <td>NaN</td>\n",
       "      <td>NaN</td>\n",
       "      <td>NaN</td>\n",
       "    </tr>\n",
       "    <tr>\n",
       "      <th>1</th>\n",
       "      <td>Afghanistan</td>\n",
       "      <td>1901</td>\n",
       "      <td>AFG</td>\n",
       "      <td>4879685.0</td>\n",
       "      <td>NaN</td>\n",
       "      <td>NaN</td>\n",
       "      <td>NaN</td>\n",
       "      <td>NaN</td>\n",
       "      <td>NaN</td>\n",
       "      <td>NaN</td>\n",
       "      <td>...</td>\n",
       "      <td>NaN</td>\n",
       "      <td>NaN</td>\n",
       "      <td>NaN</td>\n",
       "      <td>NaN</td>\n",
       "      <td>NaN</td>\n",
       "      <td>NaN</td>\n",
       "      <td>NaN</td>\n",
       "      <td>NaN</td>\n",
       "      <td>NaN</td>\n",
       "      <td>NaN</td>\n",
       "    </tr>\n",
       "    <tr>\n",
       "      <th>2</th>\n",
       "      <td>Afghanistan</td>\n",
       "      <td>1902</td>\n",
       "      <td>AFG</td>\n",
       "      <td>4935122.0</td>\n",
       "      <td>NaN</td>\n",
       "      <td>NaN</td>\n",
       "      <td>NaN</td>\n",
       "      <td>NaN</td>\n",
       "      <td>NaN</td>\n",
       "      <td>NaN</td>\n",
       "      <td>...</td>\n",
       "      <td>NaN</td>\n",
       "      <td>NaN</td>\n",
       "      <td>NaN</td>\n",
       "      <td>NaN</td>\n",
       "      <td>NaN</td>\n",
       "      <td>NaN</td>\n",
       "      <td>NaN</td>\n",
       "      <td>NaN</td>\n",
       "      <td>NaN</td>\n",
       "      <td>NaN</td>\n",
       "    </tr>\n",
       "    <tr>\n",
       "      <th>3</th>\n",
       "      <td>Afghanistan</td>\n",
       "      <td>1903</td>\n",
       "      <td>AFG</td>\n",
       "      <td>4998861.0</td>\n",
       "      <td>NaN</td>\n",
       "      <td>NaN</td>\n",
       "      <td>NaN</td>\n",
       "      <td>NaN</td>\n",
       "      <td>NaN</td>\n",
       "      <td>NaN</td>\n",
       "      <td>...</td>\n",
       "      <td>NaN</td>\n",
       "      <td>NaN</td>\n",
       "      <td>NaN</td>\n",
       "      <td>NaN</td>\n",
       "      <td>NaN</td>\n",
       "      <td>NaN</td>\n",
       "      <td>NaN</td>\n",
       "      <td>NaN</td>\n",
       "      <td>NaN</td>\n",
       "      <td>NaN</td>\n",
       "    </tr>\n",
       "    <tr>\n",
       "      <th>4</th>\n",
       "      <td>Afghanistan</td>\n",
       "      <td>1904</td>\n",
       "      <td>AFG</td>\n",
       "      <td>5063419.0</td>\n",
       "      <td>NaN</td>\n",
       "      <td>NaN</td>\n",
       "      <td>NaN</td>\n",
       "      <td>NaN</td>\n",
       "      <td>NaN</td>\n",
       "      <td>NaN</td>\n",
       "      <td>...</td>\n",
       "      <td>NaN</td>\n",
       "      <td>NaN</td>\n",
       "      <td>NaN</td>\n",
       "      <td>NaN</td>\n",
       "      <td>NaN</td>\n",
       "      <td>NaN</td>\n",
       "      <td>NaN</td>\n",
       "      <td>NaN</td>\n",
       "      <td>NaN</td>\n",
       "      <td>NaN</td>\n",
       "    </tr>\n",
       "  </tbody>\n",
       "</table>\n",
       "<p>5 rows × 128 columns</p>\n",
       "</div>"
      ],
      "text/plain": [
       "       country  year iso_code  population  gdp  biofuel_cons_change_pct  \\\n",
       "0  Afghanistan  1900      AFG   4832414.0  NaN                      NaN   \n",
       "1  Afghanistan  1901      AFG   4879685.0  NaN                      NaN   \n",
       "2  Afghanistan  1902      AFG   4935122.0  NaN                      NaN   \n",
       "3  Afghanistan  1903      AFG   4998861.0  NaN                      NaN   \n",
       "4  Afghanistan  1904      AFG   5063419.0  NaN                      NaN   \n",
       "\n",
       "   biofuel_cons_change_twh  biofuel_cons_per_capita  biofuel_consumption  \\\n",
       "0                      NaN                      NaN                  NaN   \n",
       "1                      NaN                      NaN                  NaN   \n",
       "2                      NaN                      NaN                  NaN   \n",
       "3                      NaN                      NaN                  NaN   \n",
       "4                      NaN                      NaN                  NaN   \n",
       "\n",
       "   biofuel_elec_per_capita  ...  solar_share_elec  solar_share_energy  \\\n",
       "0                      NaN  ...               NaN                 NaN   \n",
       "1                      NaN  ...               NaN                 NaN   \n",
       "2                      NaN  ...               NaN                 NaN   \n",
       "3                      NaN  ...               NaN                 NaN   \n",
       "4                      NaN  ...               NaN                 NaN   \n",
       "\n",
       "   wind_cons_change_pct  wind_cons_change_twh  wind_consumption  \\\n",
       "0                   NaN                   NaN               NaN   \n",
       "1                   NaN                   NaN               NaN   \n",
       "2                   NaN                   NaN               NaN   \n",
       "3                   NaN                   NaN               NaN   \n",
       "4                   NaN                   NaN               NaN   \n",
       "\n",
       "   wind_elec_per_capita  wind_electricity  wind_energy_per_capita  \\\n",
       "0                   NaN               NaN                     NaN   \n",
       "1                   NaN               NaN                     NaN   \n",
       "2                   NaN               NaN                     NaN   \n",
       "3                   NaN               NaN                     NaN   \n",
       "4                   NaN               NaN                     NaN   \n",
       "\n",
       "   wind_share_elec  wind_share_energy  \n",
       "0              NaN                NaN  \n",
       "1              NaN                NaN  \n",
       "2              NaN                NaN  \n",
       "3              NaN                NaN  \n",
       "4              NaN                NaN  \n",
       "\n",
       "[5 rows x 128 columns]"
      ]
     },
     "execution_count": 246,
     "metadata": {},
     "output_type": "execute_result"
    }
   ],
   "source": [
    "df3.head()"
   ]
  },
  {
   "cell_type": "code",
   "execution_count": null,
   "metadata": {},
   "outputs": [
    {
     "ename": "NameError",
     "evalue": "name 'chequeoTipo' is not defined",
     "output_type": "error",
     "traceback": [
      "\u001b[1;31m---------------------------------------------------------------------------\u001b[0m",
      "\u001b[1;31mNameError\u001b[0m                                 Traceback (most recent call last)",
      "\u001b[1;32mc:\\Users\\ferch\\Desktop\\Henry\\Proyecto Grupal\\CO2-Emissions\\src\\ETL_Fercho.ipynb Cell 33\u001b[0m in \u001b[0;36m<cell line: 1>\u001b[1;34m()\u001b[0m\n\u001b[0;32m      <a href='vscode-notebook-cell:/c%3A/Users/ferch/Desktop/Henry/Proyecto%20Grupal/CO2-Emissions/src/ETL_Fercho.ipynb#X44sZmlsZQ%3D%3D?line=0'>1</a>\u001b[0m \u001b[39mfor\u001b[39;00m i \u001b[39min\u001b[39;00m \u001b[39mrange\u001b[39m(\u001b[39m3\u001b[39m,\u001b[39m128\u001b[39m):\n\u001b[1;32m----> <a href='vscode-notebook-cell:/c%3A/Users/ferch/Desktop/Henry/Proyecto%20Grupal/CO2-Emissions/src/ETL_Fercho.ipynb#X44sZmlsZQ%3D%3D?line=1'>2</a>\u001b[0m     \u001b[39mif\u001b[39;00m chequeoTipo(df3\u001b[39m.\u001b[39miloc[:,i],\u001b[39mfloat\u001b[39m):\n\u001b[0;32m      <a href='vscode-notebook-cell:/c%3A/Users/ferch/Desktop/Henry/Proyecto%20Grupal/CO2-Emissions/src/ETL_Fercho.ipynb#X44sZmlsZQ%3D%3D?line=2'>3</a>\u001b[0m         \u001b[39mcontinue\u001b[39;00m\n\u001b[0;32m      <a href='vscode-notebook-cell:/c%3A/Users/ferch/Desktop/Henry/Proyecto%20Grupal/CO2-Emissions/src/ETL_Fercho.ipynb#X44sZmlsZQ%3D%3D?line=3'>4</a>\u001b[0m     \u001b[39melse\u001b[39;00m:\n",
      "\u001b[1;31mNameError\u001b[0m: name 'chequeoTipo' is not defined"
     ]
    }
   ],
   "source": [
    "for i in range(3,128):\n",
    "    if chequeoTipo(df3.iloc[:,i],float):\n",
    "        continue\n",
    "    else:\n",
    "        print(f\"{df3.iloc[0:1,i]}\")"
   ]
  },
  {
   "cell_type": "markdown",
   "metadata": {},
   "source": [
    "Renombro columnas y me quedo con datos de 1980 en adelante"
   ]
  },
  {
   "cell_type": "code",
   "execution_count": null,
   "metadata": {},
   "outputs": [],
   "source": [
    "nomCols(df3,dic_cols)\n",
    "df3 = dropBeforeYear(df3,1980)"
   ]
  },
  {
   "cell_type": "code",
   "execution_count": null,
   "metadata": {},
   "outputs": [],
   "source": [
    "for columna in df3.columns:\n",
    "    if isinstance(df3[columna][2],float):\n",
    "        df3[columna] = df3[columna].round(2)"
   ]
  },
  {
   "cell_type": "code",
   "execution_count": null,
   "metadata": {},
   "outputs": [
    {
     "data": {
      "text/plain": [
       "(12309, 128)"
      ]
     },
     "execution_count": 253,
     "metadata": {},
     "output_type": "execute_result"
    }
   ],
   "source": [
    "df3.shape"
   ]
  },
  {
   "cell_type": "code",
   "execution_count": null,
   "metadata": {},
   "outputs": [
    {
     "data": {
      "text/html": [
       "<div>\n",
       "<style scoped>\n",
       "    .dataframe tbody tr th:only-of-type {\n",
       "        vertical-align: middle;\n",
       "    }\n",
       "\n",
       "    .dataframe tbody tr th {\n",
       "        vertical-align: top;\n",
       "    }\n",
       "\n",
       "    .dataframe thead th {\n",
       "        text-align: right;\n",
       "    }\n",
       "</style>\n",
       "<table border=\"1\" class=\"dataframe\">\n",
       "  <thead>\n",
       "    <tr style=\"text-align: right;\">\n",
       "      <th></th>\n",
       "      <th>pais</th>\n",
       "      <th>anio</th>\n",
       "      <th>pais_iso</th>\n",
       "      <th>poblacion</th>\n",
       "      <th>pbi</th>\n",
       "      <th>biocombustible_cons_change_pct</th>\n",
       "      <th>biocombustible_cons_change_twh</th>\n",
       "      <th>biocombustible_cons_per_capita</th>\n",
       "      <th>biofuel_cons</th>\n",
       "      <th>biocombustible_elec_per_capita</th>\n",
       "      <th>...</th>\n",
       "      <th>solar_participacion_elec</th>\n",
       "      <th>solar_share_energia</th>\n",
       "      <th>eolica_cons_change_pct</th>\n",
       "      <th>eolica_cons_change_twh</th>\n",
       "      <th>wind_cons</th>\n",
       "      <th>eolica_elec_per_capita</th>\n",
       "      <th>eolica_electricity</th>\n",
       "      <th>eolica_energy_per_capita</th>\n",
       "      <th>eolica_share_elec</th>\n",
       "      <th>eolica_share_energy</th>\n",
       "    </tr>\n",
       "  </thead>\n",
       "  <tbody>\n",
       "    <tr>\n",
       "      <th>0</th>\n",
       "      <td>Afghanistan</td>\n",
       "      <td>1980</td>\n",
       "      <td>AFG</td>\n",
       "      <td>13356500.0</td>\n",
       "      <td>1.532984e+10</td>\n",
       "      <td>NaN</td>\n",
       "      <td>NaN</td>\n",
       "      <td>NaN</td>\n",
       "      <td>NaN</td>\n",
       "      <td>NaN</td>\n",
       "      <td>...</td>\n",
       "      <td>NaN</td>\n",
       "      <td>NaN</td>\n",
       "      <td>NaN</td>\n",
       "      <td>NaN</td>\n",
       "      <td>NaN</td>\n",
       "      <td>NaN</td>\n",
       "      <td>NaN</td>\n",
       "      <td>NaN</td>\n",
       "      <td>NaN</td>\n",
       "      <td>NaN</td>\n",
       "    </tr>\n",
       "    <tr>\n",
       "      <th>1</th>\n",
       "      <td>Afghanistan</td>\n",
       "      <td>1981</td>\n",
       "      <td>AFG</td>\n",
       "      <td>13171679.0</td>\n",
       "      <td>1.564534e+10</td>\n",
       "      <td>NaN</td>\n",
       "      <td>NaN</td>\n",
       "      <td>NaN</td>\n",
       "      <td>NaN</td>\n",
       "      <td>NaN</td>\n",
       "      <td>...</td>\n",
       "      <td>NaN</td>\n",
       "      <td>NaN</td>\n",
       "      <td>NaN</td>\n",
       "      <td>NaN</td>\n",
       "      <td>NaN</td>\n",
       "      <td>NaN</td>\n",
       "      <td>NaN</td>\n",
       "      <td>NaN</td>\n",
       "      <td>NaN</td>\n",
       "      <td>NaN</td>\n",
       "    </tr>\n",
       "    <tr>\n",
       "      <th>2</th>\n",
       "      <td>Afghanistan</td>\n",
       "      <td>1982</td>\n",
       "      <td>AFG</td>\n",
       "      <td>12882518.0</td>\n",
       "      <td>1.598041e+10</td>\n",
       "      <td>NaN</td>\n",
       "      <td>NaN</td>\n",
       "      <td>NaN</td>\n",
       "      <td>NaN</td>\n",
       "      <td>NaN</td>\n",
       "      <td>...</td>\n",
       "      <td>NaN</td>\n",
       "      <td>NaN</td>\n",
       "      <td>NaN</td>\n",
       "      <td>NaN</td>\n",
       "      <td>NaN</td>\n",
       "      <td>NaN</td>\n",
       "      <td>NaN</td>\n",
       "      <td>NaN</td>\n",
       "      <td>NaN</td>\n",
       "      <td>NaN</td>\n",
       "    </tr>\n",
       "    <tr>\n",
       "      <th>3</th>\n",
       "      <td>Afghanistan</td>\n",
       "      <td>1983</td>\n",
       "      <td>AFG</td>\n",
       "      <td>12537732.0</td>\n",
       "      <td>1.675533e+10</td>\n",
       "      <td>NaN</td>\n",
       "      <td>NaN</td>\n",
       "      <td>NaN</td>\n",
       "      <td>NaN</td>\n",
       "      <td>NaN</td>\n",
       "      <td>...</td>\n",
       "      <td>NaN</td>\n",
       "      <td>NaN</td>\n",
       "      <td>NaN</td>\n",
       "      <td>NaN</td>\n",
       "      <td>NaN</td>\n",
       "      <td>NaN</td>\n",
       "      <td>NaN</td>\n",
       "      <td>NaN</td>\n",
       "      <td>NaN</td>\n",
       "      <td>NaN</td>\n",
       "    </tr>\n",
       "    <tr>\n",
       "      <th>4</th>\n",
       "      <td>Afghanistan</td>\n",
       "      <td>1984</td>\n",
       "      <td>AFG</td>\n",
       "      <td>12204306.0</td>\n",
       "      <td>1.707215e+10</td>\n",
       "      <td>NaN</td>\n",
       "      <td>NaN</td>\n",
       "      <td>NaN</td>\n",
       "      <td>NaN</td>\n",
       "      <td>NaN</td>\n",
       "      <td>...</td>\n",
       "      <td>NaN</td>\n",
       "      <td>NaN</td>\n",
       "      <td>NaN</td>\n",
       "      <td>NaN</td>\n",
       "      <td>NaN</td>\n",
       "      <td>NaN</td>\n",
       "      <td>NaN</td>\n",
       "      <td>NaN</td>\n",
       "      <td>NaN</td>\n",
       "      <td>NaN</td>\n",
       "    </tr>\n",
       "    <tr>\n",
       "      <th>...</th>\n",
       "      <td>...</td>\n",
       "      <td>...</td>\n",
       "      <td>...</td>\n",
       "      <td>...</td>\n",
       "      <td>...</td>\n",
       "      <td>...</td>\n",
       "      <td>...</td>\n",
       "      <td>...</td>\n",
       "      <td>...</td>\n",
       "      <td>...</td>\n",
       "      <td>...</td>\n",
       "      <td>...</td>\n",
       "      <td>...</td>\n",
       "      <td>...</td>\n",
       "      <td>...</td>\n",
       "      <td>...</td>\n",
       "      <td>...</td>\n",
       "      <td>...</td>\n",
       "      <td>...</td>\n",
       "      <td>...</td>\n",
       "      <td>...</td>\n",
       "    </tr>\n",
       "    <tr>\n",
       "      <th>12304</th>\n",
       "      <td>Zimbabwe</td>\n",
       "      <td>2017</td>\n",
       "      <td>ZWE</td>\n",
       "      <td>14236599.0</td>\n",
       "      <td>2.194784e+10</td>\n",
       "      <td>NaN</td>\n",
       "      <td>NaN</td>\n",
       "      <td>NaN</td>\n",
       "      <td>NaN</td>\n",
       "      <td>22.48</td>\n",
       "      <td>...</td>\n",
       "      <td>0.14</td>\n",
       "      <td>NaN</td>\n",
       "      <td>NaN</td>\n",
       "      <td>NaN</td>\n",
       "      <td>NaN</td>\n",
       "      <td>0.0</td>\n",
       "      <td>0.0</td>\n",
       "      <td>NaN</td>\n",
       "      <td>0.0</td>\n",
       "      <td>NaN</td>\n",
       "    </tr>\n",
       "    <tr>\n",
       "      <th>12305</th>\n",
       "      <td>Zimbabwe</td>\n",
       "      <td>2018</td>\n",
       "      <td>ZWE</td>\n",
       "      <td>14438812.0</td>\n",
       "      <td>2.271535e+10</td>\n",
       "      <td>NaN</td>\n",
       "      <td>NaN</td>\n",
       "      <td>NaN</td>\n",
       "      <td>NaN</td>\n",
       "      <td>27.01</td>\n",
       "      <td>...</td>\n",
       "      <td>0.11</td>\n",
       "      <td>NaN</td>\n",
       "      <td>NaN</td>\n",
       "      <td>NaN</td>\n",
       "      <td>NaN</td>\n",
       "      <td>0.0</td>\n",
       "      <td>0.0</td>\n",
       "      <td>NaN</td>\n",
       "      <td>0.0</td>\n",
       "      <td>NaN</td>\n",
       "    </tr>\n",
       "    <tr>\n",
       "      <th>12306</th>\n",
       "      <td>Zimbabwe</td>\n",
       "      <td>2019</td>\n",
       "      <td>ZWE</td>\n",
       "      <td>14645473.0</td>\n",
       "      <td>NaN</td>\n",
       "      <td>NaN</td>\n",
       "      <td>NaN</td>\n",
       "      <td>NaN</td>\n",
       "      <td>NaN</td>\n",
       "      <td>25.95</td>\n",
       "      <td>...</td>\n",
       "      <td>0.09</td>\n",
       "      <td>NaN</td>\n",
       "      <td>NaN</td>\n",
       "      <td>NaN</td>\n",
       "      <td>NaN</td>\n",
       "      <td>0.0</td>\n",
       "      <td>0.0</td>\n",
       "      <td>NaN</td>\n",
       "      <td>0.0</td>\n",
       "      <td>NaN</td>\n",
       "    </tr>\n",
       "    <tr>\n",
       "      <th>12307</th>\n",
       "      <td>Zimbabwe</td>\n",
       "      <td>2020</td>\n",
       "      <td>ZWE</td>\n",
       "      <td>14862927.0</td>\n",
       "      <td>NaN</td>\n",
       "      <td>NaN</td>\n",
       "      <td>NaN</td>\n",
       "      <td>NaN</td>\n",
       "      <td>NaN</td>\n",
       "      <td>24.22</td>\n",
       "      <td>...</td>\n",
       "      <td>0.09</td>\n",
       "      <td>NaN</td>\n",
       "      <td>NaN</td>\n",
       "      <td>NaN</td>\n",
       "      <td>NaN</td>\n",
       "      <td>0.0</td>\n",
       "      <td>0.0</td>\n",
       "      <td>NaN</td>\n",
       "      <td>0.0</td>\n",
       "      <td>NaN</td>\n",
       "    </tr>\n",
       "    <tr>\n",
       "      <th>12308</th>\n",
       "      <td>Zimbabwe</td>\n",
       "      <td>2021</td>\n",
       "      <td>ZWE</td>\n",
       "      <td>15092171.0</td>\n",
       "      <td>NaN</td>\n",
       "      <td>NaN</td>\n",
       "      <td>NaN</td>\n",
       "      <td>NaN</td>\n",
       "      <td>NaN</td>\n",
       "      <td>NaN</td>\n",
       "      <td>...</td>\n",
       "      <td>NaN</td>\n",
       "      <td>NaN</td>\n",
       "      <td>NaN</td>\n",
       "      <td>NaN</td>\n",
       "      <td>NaN</td>\n",
       "      <td>NaN</td>\n",
       "      <td>NaN</td>\n",
       "      <td>NaN</td>\n",
       "      <td>NaN</td>\n",
       "      <td>NaN</td>\n",
       "    </tr>\n",
       "  </tbody>\n",
       "</table>\n",
       "<p>12278 rows × 128 columns</p>\n",
       "</div>"
      ],
      "text/plain": [
       "              pais  anio pais_iso   poblacion           pbi  \\\n",
       "0      Afghanistan  1980      AFG  13356500.0  1.532984e+10   \n",
       "1      Afghanistan  1981      AFG  13171679.0  1.564534e+10   \n",
       "2      Afghanistan  1982      AFG  12882518.0  1.598041e+10   \n",
       "3      Afghanistan  1983      AFG  12537732.0  1.675533e+10   \n",
       "4      Afghanistan  1984      AFG  12204306.0  1.707215e+10   \n",
       "...            ...   ...      ...         ...           ...   \n",
       "12304     Zimbabwe  2017      ZWE  14236599.0  2.194784e+10   \n",
       "12305     Zimbabwe  2018      ZWE  14438812.0  2.271535e+10   \n",
       "12306     Zimbabwe  2019      ZWE  14645473.0           NaN   \n",
       "12307     Zimbabwe  2020      ZWE  14862927.0           NaN   \n",
       "12308     Zimbabwe  2021      ZWE  15092171.0           NaN   \n",
       "\n",
       "       biocombustible_cons_change_pct  biocombustible_cons_change_twh  \\\n",
       "0                                 NaN                             NaN   \n",
       "1                                 NaN                             NaN   \n",
       "2                                 NaN                             NaN   \n",
       "3                                 NaN                             NaN   \n",
       "4                                 NaN                             NaN   \n",
       "...                               ...                             ...   \n",
       "12304                             NaN                             NaN   \n",
       "12305                             NaN                             NaN   \n",
       "12306                             NaN                             NaN   \n",
       "12307                             NaN                             NaN   \n",
       "12308                             NaN                             NaN   \n",
       "\n",
       "       biocombustible_cons_per_capita  biofuel_cons  \\\n",
       "0                                 NaN           NaN   \n",
       "1                                 NaN           NaN   \n",
       "2                                 NaN           NaN   \n",
       "3                                 NaN           NaN   \n",
       "4                                 NaN           NaN   \n",
       "...                               ...           ...   \n",
       "12304                             NaN           NaN   \n",
       "12305                             NaN           NaN   \n",
       "12306                             NaN           NaN   \n",
       "12307                             NaN           NaN   \n",
       "12308                             NaN           NaN   \n",
       "\n",
       "       biocombustible_elec_per_capita  ...  solar_participacion_elec  \\\n",
       "0                                 NaN  ...                       NaN   \n",
       "1                                 NaN  ...                       NaN   \n",
       "2                                 NaN  ...                       NaN   \n",
       "3                                 NaN  ...                       NaN   \n",
       "4                                 NaN  ...                       NaN   \n",
       "...                               ...  ...                       ...   \n",
       "12304                           22.48  ...                      0.14   \n",
       "12305                           27.01  ...                      0.11   \n",
       "12306                           25.95  ...                      0.09   \n",
       "12307                           24.22  ...                      0.09   \n",
       "12308                             NaN  ...                       NaN   \n",
       "\n",
       "       solar_share_energia  eolica_cons_change_pct  eolica_cons_change_twh  \\\n",
       "0                      NaN                     NaN                     NaN   \n",
       "1                      NaN                     NaN                     NaN   \n",
       "2                      NaN                     NaN                     NaN   \n",
       "3                      NaN                     NaN                     NaN   \n",
       "4                      NaN                     NaN                     NaN   \n",
       "...                    ...                     ...                     ...   \n",
       "12304                  NaN                     NaN                     NaN   \n",
       "12305                  NaN                     NaN                     NaN   \n",
       "12306                  NaN                     NaN                     NaN   \n",
       "12307                  NaN                     NaN                     NaN   \n",
       "12308                  NaN                     NaN                     NaN   \n",
       "\n",
       "       wind_cons  eolica_elec_per_capita  eolica_electricity  \\\n",
       "0            NaN                     NaN                 NaN   \n",
       "1            NaN                     NaN                 NaN   \n",
       "2            NaN                     NaN                 NaN   \n",
       "3            NaN                     NaN                 NaN   \n",
       "4            NaN                     NaN                 NaN   \n",
       "...          ...                     ...                 ...   \n",
       "12304        NaN                     0.0                 0.0   \n",
       "12305        NaN                     0.0                 0.0   \n",
       "12306        NaN                     0.0                 0.0   \n",
       "12307        NaN                     0.0                 0.0   \n",
       "12308        NaN                     NaN                 NaN   \n",
       "\n",
       "       eolica_energy_per_capita  eolica_share_elec  eolica_share_energy  \n",
       "0                           NaN                NaN                  NaN  \n",
       "1                           NaN                NaN                  NaN  \n",
       "2                           NaN                NaN                  NaN  \n",
       "3                           NaN                NaN                  NaN  \n",
       "4                           NaN                NaN                  NaN  \n",
       "...                         ...                ...                  ...  \n",
       "12304                       NaN                0.0                  NaN  \n",
       "12305                       NaN                0.0                  NaN  \n",
       "12306                       NaN                0.0                  NaN  \n",
       "12307                       NaN                0.0                  NaN  \n",
       "12308                       NaN                NaN                  NaN  \n",
       "\n",
       "[12278 rows x 128 columns]"
      ]
     },
     "execution_count": 254,
     "metadata": {},
     "output_type": "execute_result"
    }
   ],
   "source": [
    "df3.dropna(thresh=4)"
   ]
  },
  {
   "cell_type": "markdown",
   "metadata": {},
   "source": [
    "Elijo columnas que brindan informacion de cambio y 'per_capita' (no necesito esa info en el analisis planteado e igualmente puedo calcularlo con los demás datos de ser necesario)"
   ]
  },
  {
   "cell_type": "code",
   "execution_count": null,
   "metadata": {},
   "outputs": [],
   "source": [
    "lista = []\n",
    "for column in df3.columns:\n",
    "    if '_pct' in column or 'cambio' in column or 'per_capita' in column or '_participacion_' in column:\n",
    "        lista.append(column)"
   ]
  },
  {
   "cell_type": "code",
   "execution_count": null,
   "metadata": {},
   "outputs": [
    {
     "ename": "NameError",
     "evalue": "name 'lista' is not defined",
     "output_type": "error",
     "traceback": [
      "\u001b[1;31m---------------------------------------------------------------------------\u001b[0m",
      "\u001b[1;31mNameError\u001b[0m                                 Traceback (most recent call last)",
      "\u001b[1;32mc:\\Users\\ferch\\Desktop\\Henry\\Proyecto Grupal\\CO2-Emissions\\src\\ETL_Fercho.ipynb Cell 41\u001b[0m in \u001b[0;36m<cell line: 1>\u001b[1;34m()\u001b[0m\n\u001b[1;32m----> <a href='vscode-notebook-cell:/c%3A/Users/ferch/Desktop/Henry/Proyecto%20Grupal/CO2-Emissions/src/ETL_Fercho.ipynb#X55sZmlsZQ%3D%3D?line=0'>1</a>\u001b[0m df3 \u001b[39m=\u001b[39m df3\u001b[39m.\u001b[39mdrop(columns\u001b[39m=\u001b[39mlista)\n",
      "\u001b[1;31mNameError\u001b[0m: name 'lista' is not defined"
     ]
    }
   ],
   "source": [
    "df3 = df3.drop(columns=lista)"
   ]
  },
  {
   "cell_type": "code",
   "execution_count": null,
   "metadata": {},
   "outputs": [
    {
     "data": {
      "text/html": [
       "<div>\n",
       "<style scoped>\n",
       "    .dataframe tbody tr th:only-of-type {\n",
       "        vertical-align: middle;\n",
       "    }\n",
       "\n",
       "    .dataframe tbody tr th {\n",
       "        vertical-align: top;\n",
       "    }\n",
       "\n",
       "    .dataframe thead th {\n",
       "        text-align: right;\n",
       "    }\n",
       "</style>\n",
       "<table border=\"1\" class=\"dataframe\">\n",
       "  <thead>\n",
       "    <tr style=\"text-align: right;\">\n",
       "      <th></th>\n",
       "      <th>pais</th>\n",
       "      <th>anio</th>\n",
       "      <th>pais_iso</th>\n",
       "      <th>poblacion</th>\n",
       "      <th>pbi</th>\n",
       "      <th>biocombustible_cons_change_pct</th>\n",
       "      <th>biocombustible_cons_change_twh</th>\n",
       "      <th>biocombustible_cons_per_capita</th>\n",
       "      <th>biofuel_cons</th>\n",
       "      <th>biocombustible_elec_per_capita</th>\n",
       "      <th>...</th>\n",
       "      <th>solar_participacion_elec</th>\n",
       "      <th>solar_share_energia</th>\n",
       "      <th>eolica_cons_change_pct</th>\n",
       "      <th>eolica_cons_change_twh</th>\n",
       "      <th>wind_cons</th>\n",
       "      <th>eolica_elec_per_capita</th>\n",
       "      <th>eolica_electricity</th>\n",
       "      <th>eolica_energy_per_capita</th>\n",
       "      <th>eolica_share_elec</th>\n",
       "      <th>eolica_share_energy</th>\n",
       "    </tr>\n",
       "  </thead>\n",
       "  <tbody>\n",
       "    <tr>\n",
       "      <th>0</th>\n",
       "      <td>Afghanistan</td>\n",
       "      <td>1980</td>\n",
       "      <td>AFG</td>\n",
       "      <td>13356500.0</td>\n",
       "      <td>1.532984e+10</td>\n",
       "      <td>NaN</td>\n",
       "      <td>NaN</td>\n",
       "      <td>NaN</td>\n",
       "      <td>NaN</td>\n",
       "      <td>NaN</td>\n",
       "      <td>...</td>\n",
       "      <td>NaN</td>\n",
       "      <td>NaN</td>\n",
       "      <td>NaN</td>\n",
       "      <td>NaN</td>\n",
       "      <td>NaN</td>\n",
       "      <td>NaN</td>\n",
       "      <td>NaN</td>\n",
       "      <td>NaN</td>\n",
       "      <td>NaN</td>\n",
       "      <td>NaN</td>\n",
       "    </tr>\n",
       "    <tr>\n",
       "      <th>1</th>\n",
       "      <td>Afghanistan</td>\n",
       "      <td>1981</td>\n",
       "      <td>AFG</td>\n",
       "      <td>13171679.0</td>\n",
       "      <td>1.564534e+10</td>\n",
       "      <td>NaN</td>\n",
       "      <td>NaN</td>\n",
       "      <td>NaN</td>\n",
       "      <td>NaN</td>\n",
       "      <td>NaN</td>\n",
       "      <td>...</td>\n",
       "      <td>NaN</td>\n",
       "      <td>NaN</td>\n",
       "      <td>NaN</td>\n",
       "      <td>NaN</td>\n",
       "      <td>NaN</td>\n",
       "      <td>NaN</td>\n",
       "      <td>NaN</td>\n",
       "      <td>NaN</td>\n",
       "      <td>NaN</td>\n",
       "      <td>NaN</td>\n",
       "    </tr>\n",
       "    <tr>\n",
       "      <th>2</th>\n",
       "      <td>Afghanistan</td>\n",
       "      <td>1982</td>\n",
       "      <td>AFG</td>\n",
       "      <td>12882518.0</td>\n",
       "      <td>1.598041e+10</td>\n",
       "      <td>NaN</td>\n",
       "      <td>NaN</td>\n",
       "      <td>NaN</td>\n",
       "      <td>NaN</td>\n",
       "      <td>NaN</td>\n",
       "      <td>...</td>\n",
       "      <td>NaN</td>\n",
       "      <td>NaN</td>\n",
       "      <td>NaN</td>\n",
       "      <td>NaN</td>\n",
       "      <td>NaN</td>\n",
       "      <td>NaN</td>\n",
       "      <td>NaN</td>\n",
       "      <td>NaN</td>\n",
       "      <td>NaN</td>\n",
       "      <td>NaN</td>\n",
       "    </tr>\n",
       "    <tr>\n",
       "      <th>3</th>\n",
       "      <td>Afghanistan</td>\n",
       "      <td>1983</td>\n",
       "      <td>AFG</td>\n",
       "      <td>12537732.0</td>\n",
       "      <td>1.675533e+10</td>\n",
       "      <td>NaN</td>\n",
       "      <td>NaN</td>\n",
       "      <td>NaN</td>\n",
       "      <td>NaN</td>\n",
       "      <td>NaN</td>\n",
       "      <td>...</td>\n",
       "      <td>NaN</td>\n",
       "      <td>NaN</td>\n",
       "      <td>NaN</td>\n",
       "      <td>NaN</td>\n",
       "      <td>NaN</td>\n",
       "      <td>NaN</td>\n",
       "      <td>NaN</td>\n",
       "      <td>NaN</td>\n",
       "      <td>NaN</td>\n",
       "      <td>NaN</td>\n",
       "    </tr>\n",
       "    <tr>\n",
       "      <th>4</th>\n",
       "      <td>Afghanistan</td>\n",
       "      <td>1984</td>\n",
       "      <td>AFG</td>\n",
       "      <td>12204306.0</td>\n",
       "      <td>1.707215e+10</td>\n",
       "      <td>NaN</td>\n",
       "      <td>NaN</td>\n",
       "      <td>NaN</td>\n",
       "      <td>NaN</td>\n",
       "      <td>NaN</td>\n",
       "      <td>...</td>\n",
       "      <td>NaN</td>\n",
       "      <td>NaN</td>\n",
       "      <td>NaN</td>\n",
       "      <td>NaN</td>\n",
       "      <td>NaN</td>\n",
       "      <td>NaN</td>\n",
       "      <td>NaN</td>\n",
       "      <td>NaN</td>\n",
       "      <td>NaN</td>\n",
       "      <td>NaN</td>\n",
       "    </tr>\n",
       "  </tbody>\n",
       "</table>\n",
       "<p>5 rows × 128 columns</p>\n",
       "</div>"
      ],
      "text/plain": [
       "          pais  anio pais_iso   poblacion           pbi  \\\n",
       "0  Afghanistan  1980      AFG  13356500.0  1.532984e+10   \n",
       "1  Afghanistan  1981      AFG  13171679.0  1.564534e+10   \n",
       "2  Afghanistan  1982      AFG  12882518.0  1.598041e+10   \n",
       "3  Afghanistan  1983      AFG  12537732.0  1.675533e+10   \n",
       "4  Afghanistan  1984      AFG  12204306.0  1.707215e+10   \n",
       "\n",
       "   biocombustible_cons_change_pct  biocombustible_cons_change_twh  \\\n",
       "0                             NaN                             NaN   \n",
       "1                             NaN                             NaN   \n",
       "2                             NaN                             NaN   \n",
       "3                             NaN                             NaN   \n",
       "4                             NaN                             NaN   \n",
       "\n",
       "   biocombustible_cons_per_capita  biofuel_cons  \\\n",
       "0                             NaN           NaN   \n",
       "1                             NaN           NaN   \n",
       "2                             NaN           NaN   \n",
       "3                             NaN           NaN   \n",
       "4                             NaN           NaN   \n",
       "\n",
       "   biocombustible_elec_per_capita  ...  solar_participacion_elec  \\\n",
       "0                             NaN  ...                       NaN   \n",
       "1                             NaN  ...                       NaN   \n",
       "2                             NaN  ...                       NaN   \n",
       "3                             NaN  ...                       NaN   \n",
       "4                             NaN  ...                       NaN   \n",
       "\n",
       "   solar_share_energia  eolica_cons_change_pct  eolica_cons_change_twh  \\\n",
       "0                  NaN                     NaN                     NaN   \n",
       "1                  NaN                     NaN                     NaN   \n",
       "2                  NaN                     NaN                     NaN   \n",
       "3                  NaN                     NaN                     NaN   \n",
       "4                  NaN                     NaN                     NaN   \n",
       "\n",
       "   wind_cons  eolica_elec_per_capita  eolica_electricity  \\\n",
       "0        NaN                     NaN                 NaN   \n",
       "1        NaN                     NaN                 NaN   \n",
       "2        NaN                     NaN                 NaN   \n",
       "3        NaN                     NaN                 NaN   \n",
       "4        NaN                     NaN                 NaN   \n",
       "\n",
       "   eolica_energy_per_capita  eolica_share_elec  eolica_share_energy  \n",
       "0                       NaN                NaN                  NaN  \n",
       "1                       NaN                NaN                  NaN  \n",
       "2                       NaN                NaN                  NaN  \n",
       "3                       NaN                NaN                  NaN  \n",
       "4                       NaN                NaN                  NaN  \n",
       "\n",
       "[5 rows x 128 columns]"
      ]
     },
     "execution_count": 257,
     "metadata": {},
     "output_type": "execute_result"
    }
   ],
   "source": [
    "df3.head()"
   ]
  },
  {
   "cell_type": "code",
   "execution_count": null,
   "metadata": {},
   "outputs": [],
   "source": [
    "df_consumo = df3.copy()"
   ]
  },
  {
   "cell_type": "code",
   "execution_count": null,
   "metadata": {},
   "outputs": [],
   "source": [
    "df3.to_parquet(r\"..\\energy_consumption\\owid-energy-consumption-source_normalizado.parquet\")"
   ]
  },
  {
   "cell_type": "markdown",
   "metadata": {},
   "source": [
    "<hr>"
   ]
  },
  {
   "cell_type": "markdown",
   "metadata": {},
   "source": [
    "<h1>Energia Estadistica Mensual</h1>"
   ]
  },
  {
   "cell_type": "code",
   "execution_count": null,
   "metadata": {},
   "outputs": [],
   "source": [
    "dataset = pd.read_csv(r\"..\\energia_estadistica_mensual\\MES_0522.csv\")\n",
    "df4 = pd.DataFrame(dataset)"
   ]
  },
  {
   "cell_type": "code",
   "execution_count": null,
   "metadata": {},
   "outputs": [
    {
     "data": {
      "text/html": [
       "<div>\n",
       "<style scoped>\n",
       "    .dataframe tbody tr th:only-of-type {\n",
       "        vertical-align: middle;\n",
       "    }\n",
       "\n",
       "    .dataframe tbody tr th {\n",
       "        vertical-align: top;\n",
       "    }\n",
       "\n",
       "    .dataframe thead th {\n",
       "        text-align: right;\n",
       "    }\n",
       "</style>\n",
       "<table border=\"1\" class=\"dataframe\">\n",
       "  <thead>\n",
       "    <tr style=\"text-align: right;\">\n",
       "      <th></th>\n",
       "      <th>Country</th>\n",
       "      <th>Time</th>\n",
       "      <th>Balance</th>\n",
       "      <th>Product</th>\n",
       "      <th>Value</th>\n",
       "      <th>Unit</th>\n",
       "    </tr>\n",
       "  </thead>\n",
       "  <tbody>\n",
       "    <tr>\n",
       "      <th>0</th>\n",
       "      <td>Australia</td>\n",
       "      <td>May 2022</td>\n",
       "      <td>Net Electricity Production</td>\n",
       "      <td>Electricity</td>\n",
       "      <td>21305.5276</td>\n",
       "      <td>GWh</td>\n",
       "    </tr>\n",
       "  </tbody>\n",
       "</table>\n",
       "</div>"
      ],
      "text/plain": [
       "     Country      Time                     Balance      Product       Value  \\\n",
       "0  Australia  May 2022  Net Electricity Production  Electricity  21305.5276   \n",
       "\n",
       "  Unit  \n",
       "0  GWh  "
      ]
     },
     "execution_count": 51,
     "metadata": {},
     "output_type": "execute_result"
    }
   ],
   "source": [
    "df4.head(1)"
   ]
  },
  {
   "cell_type": "code",
   "execution_count": null,
   "metadata": {},
   "outputs": [
    {
     "data": {
      "text/html": [
       "<div>\n",
       "<style scoped>\n",
       "    .dataframe tbody tr th:only-of-type {\n",
       "        vertical-align: middle;\n",
       "    }\n",
       "\n",
       "    .dataframe tbody tr th {\n",
       "        vertical-align: top;\n",
       "    }\n",
       "\n",
       "    .dataframe thead th {\n",
       "        text-align: right;\n",
       "    }\n",
       "</style>\n",
       "<table border=\"1\" class=\"dataframe\">\n",
       "  <thead>\n",
       "    <tr style=\"text-align: right;\">\n",
       "      <th></th>\n",
       "      <th>pais</th>\n",
       "      <th>periodo</th>\n",
       "      <th>balance</th>\n",
       "      <th>producto</th>\n",
       "      <th>valor</th>\n",
       "      <th>unidad</th>\n",
       "    </tr>\n",
       "  </thead>\n",
       "  <tbody>\n",
       "    <tr>\n",
       "      <th>0</th>\n",
       "      <td>Australia</td>\n",
       "      <td>May 2022</td>\n",
       "      <td>Net Electricity Production</td>\n",
       "      <td>Electricity</td>\n",
       "      <td>21305.5276</td>\n",
       "      <td>GWh</td>\n",
       "    </tr>\n",
       "    <tr>\n",
       "      <th>1</th>\n",
       "      <td>Australia</td>\n",
       "      <td>May 2022</td>\n",
       "      <td>Net Electricity Production</td>\n",
       "      <td>Total Combustible Fuels</td>\n",
       "      <td>15280.3708</td>\n",
       "      <td>GWh</td>\n",
       "    </tr>\n",
       "    <tr>\n",
       "      <th>2</th>\n",
       "      <td>Australia</td>\n",
       "      <td>May 2022</td>\n",
       "      <td>Net Electricity Production</td>\n",
       "      <td>Coal, Peat and Manufactured Gases</td>\n",
       "      <td>10488.3089</td>\n",
       "      <td>GWh</td>\n",
       "    </tr>\n",
       "    <tr>\n",
       "      <th>3</th>\n",
       "      <td>Australia</td>\n",
       "      <td>May 2022</td>\n",
       "      <td>Net Electricity Production</td>\n",
       "      <td>Oil and Petroleum Products</td>\n",
       "      <td>168.8215</td>\n",
       "      <td>GWh</td>\n",
       "    </tr>\n",
       "    <tr>\n",
       "      <th>4</th>\n",
       "      <td>Australia</td>\n",
       "      <td>May 2022</td>\n",
       "      <td>Net Electricity Production</td>\n",
       "      <td>Natural Gas</td>\n",
       "      <td>4388.9337</td>\n",
       "      <td>GWh</td>\n",
       "    </tr>\n",
       "    <tr>\n",
       "      <th>...</th>\n",
       "      <td>...</td>\n",
       "      <td>...</td>\n",
       "      <td>...</td>\n",
       "      <td>...</td>\n",
       "      <td>...</td>\n",
       "      <td>...</td>\n",
       "    </tr>\n",
       "    <tr>\n",
       "      <th>122896</th>\n",
       "      <td>IEA Total</td>\n",
       "      <td>January 2010</td>\n",
       "      <td>Total Imports</td>\n",
       "      <td>Electricity</td>\n",
       "      <td>34846.5580</td>\n",
       "      <td>GWh</td>\n",
       "    </tr>\n",
       "    <tr>\n",
       "      <th>122897</th>\n",
       "      <td>IEA Total</td>\n",
       "      <td>January 2010</td>\n",
       "      <td>Total Exports</td>\n",
       "      <td>Electricity</td>\n",
       "      <td>32372.5830</td>\n",
       "      <td>GWh</td>\n",
       "    </tr>\n",
       "    <tr>\n",
       "      <th>122898</th>\n",
       "      <td>IEA Total</td>\n",
       "      <td>January 2010</td>\n",
       "      <td>Used for pumped storage</td>\n",
       "      <td>Electricity</td>\n",
       "      <td>6869.2530</td>\n",
       "      <td>GWh</td>\n",
       "    </tr>\n",
       "    <tr>\n",
       "      <th>122899</th>\n",
       "      <td>IEA Total</td>\n",
       "      <td>January 2010</td>\n",
       "      <td>Distribution Losses</td>\n",
       "      <td>Electricity</td>\n",
       "      <td>62000.7330</td>\n",
       "      <td>GWh</td>\n",
       "    </tr>\n",
       "    <tr>\n",
       "      <th>122900</th>\n",
       "      <td>IEA Total</td>\n",
       "      <td>January 2010</td>\n",
       "      <td>Final Consumption (Calculated)</td>\n",
       "      <td>Electricity</td>\n",
       "      <td>877213.6150</td>\n",
       "      <td>GWh</td>\n",
       "    </tr>\n",
       "  </tbody>\n",
       "</table>\n",
       "<p>122901 rows × 6 columns</p>\n",
       "</div>"
      ],
      "text/plain": [
       "             pais       periodo                         balance  \\\n",
       "0       Australia      May 2022      Net Electricity Production   \n",
       "1       Australia      May 2022      Net Electricity Production   \n",
       "2       Australia      May 2022      Net Electricity Production   \n",
       "3       Australia      May 2022      Net Electricity Production   \n",
       "4       Australia      May 2022      Net Electricity Production   \n",
       "...           ...           ...                             ...   \n",
       "122896  IEA Total  January 2010                   Total Imports   \n",
       "122897  IEA Total  January 2010                   Total Exports   \n",
       "122898  IEA Total  January 2010         Used for pumped storage   \n",
       "122899  IEA Total  January 2010             Distribution Losses   \n",
       "122900  IEA Total  January 2010  Final Consumption (Calculated)   \n",
       "\n",
       "                                 producto        valor unidad  \n",
       "0                             Electricity   21305.5276    GWh  \n",
       "1                 Total Combustible Fuels   15280.3708    GWh  \n",
       "2       Coal, Peat and Manufactured Gases   10488.3089    GWh  \n",
       "3              Oil and Petroleum Products     168.8215    GWh  \n",
       "4                             Natural Gas    4388.9337    GWh  \n",
       "...                                   ...          ...    ...  \n",
       "122896                        Electricity   34846.5580    GWh  \n",
       "122897                        Electricity   32372.5830    GWh  \n",
       "122898                        Electricity    6869.2530    GWh  \n",
       "122899                        Electricity   62000.7330    GWh  \n",
       "122900                        Electricity  877213.6150    GWh  \n",
       "\n",
       "[122901 rows x 6 columns]"
      ]
     },
     "execution_count": 52,
     "metadata": {},
     "output_type": "execute_result"
    }
   ],
   "source": [
    "nomCols(df4,dic_cols)"
   ]
  },
  {
   "cell_type": "code",
   "execution_count": null,
   "metadata": {},
   "outputs": [
    {
     "data": {
      "text/plain": [
       "(122901, 6)"
      ]
     },
     "execution_count": 53,
     "metadata": {},
     "output_type": "execute_result"
    }
   ],
   "source": [
    "df4.shape"
   ]
  },
  {
   "cell_type": "code",
   "execution_count": null,
   "metadata": {},
   "outputs": [],
   "source": [
    "df4.dropna(subset='valor',inplace=True)"
   ]
  },
  {
   "cell_type": "code",
   "execution_count": null,
   "metadata": {},
   "outputs": [
    {
     "data": {
      "text/plain": [
       "pais        0\n",
       "periodo     0\n",
       "balance     0\n",
       "producto    0\n",
       "valor       0\n",
       "unidad      0\n",
       "dtype: int64"
      ]
     },
     "execution_count": 55,
     "metadata": {},
     "output_type": "execute_result"
    }
   ],
   "source": [
    "df4.isna().sum()"
   ]
  },
  {
   "cell_type": "code",
   "execution_count": null,
   "metadata": {},
   "outputs": [
    {
     "name": "stdout",
     "output_type": "stream",
     "text": [
      "True\n"
     ]
    }
   ],
   "source": [
    "pertenece = False\n",
    "lista = []\n",
    "for item in df4.iloc[:,4]:\n",
    "    if isinstance(item,float):\n",
    "        pertenece = True\n",
    "    else:\n",
    "        lista.append((item,df4.columns[i]))\n",
    "if len(lista)>0:\n",
    "    print(lista)\n",
    "else: \n",
    "    print(pertenece) "
   ]
  },
  {
   "cell_type": "code",
   "execution_count": null,
   "metadata": {},
   "outputs": [],
   "source": [
    "df4['periodo'] = pd.to_datetime(df4['periodo'])\n",
    "df4['valor'] = df4['valor'].round(2)\n",
    "df4['anio'] = df4['periodo'].dt.year\n",
    "df4['mes'] = df4['periodo'].dt.month"
   ]
  },
  {
   "cell_type": "code",
   "execution_count": null,
   "metadata": {},
   "outputs": [],
   "source": [
    "df4 = df4[['anio','mes','pais','balance','producto','valor']].sort_values(by=['anio','mes'])\n",
    "df4.rename(columns={'valor':'cons_energia_gwh'},inplace=True)\n"
   ]
  },
  {
   "cell_type": "code",
   "execution_count": null,
   "metadata": {},
   "outputs": [],
   "source": [
    "df4.to_parquet(r\"C:\\Users\\ferch\\Desktop\\Henry\\Proyecto Grupal\\CO2-Emissions\\datasets\\energia_estadistica_mensual\\MES_O522_normalizado.parquet\")"
   ]
  },
  {
   "cell_type": "markdown",
   "metadata": {},
   "source": [
    "<h1>Climate Related Disasters Frequency</h1>\n",
    "<h2>Versión API</h2>"
   ]
  },
  {
   "cell_type": "code",
   "execution_count": null,
   "metadata": {},
   "outputs": [],
   "source": [
    "url = \"https://services9.arcgis.com/weJ1QsnbMYJlCHdG/arcgis/rest/services/Indicator_11_1_Physical_Risks_Climate_related_disasters_frequency/FeatureServer/0/query?where=1%3D1&outFields=Country,ISO3,Indicator,Source,F1980,F1981,F1982,F1983,F1984,F1985,F1986,F1987,F1988,F1989,F1990,F1991,F1992,F1993,F1994,F1995,F1996,F1997,F1998,F1999,F2000,F2001,F2002,F2003,F2004,F2005,F2006,F2007,F2008,F2009,F2010,F2011,F2012,F2013,F2014,F2015,F2016,F2017,F2018,F2019,F2020,F2021&outSR=4326&f=json\"\n",
    "response = requests.get(url).json()"
   ]
  },
  {
   "cell_type": "code",
   "execution_count": null,
   "metadata": {},
   "outputs": [],
   "source": [
    "response = requests.get(url).json()\n",
    "df5 = pd.DataFrame()\n",
    "for i in range(0,len(response['features'])):\n",
    "    df = pd.DataFrame.from_dict([response['features'][i]['attributes']])\n",
    "    data=(df5,df)\n",
    "    df5=pd.concat(data)"
   ]
  },
  {
   "cell_type": "code",
   "execution_count": null,
   "metadata": {},
   "outputs": [],
   "source": [
    "nomCols(df5,dic_cols)\n",
    "df5.reset_index(drop=True,inplace=True)"
   ]
  },
  {
   "cell_type": "markdown",
   "metadata": {},
   "source": [
    "Cambio nombres de columnas y aplico un fillna sobre los campos de frecuencias para luego aplicar un round"
   ]
  },
  {
   "cell_type": "code",
   "execution_count": null,
   "metadata": {},
   "outputs": [],
   "source": [
    "for column in df5.columns:\n",
    "    if re.search('f\\d{2,}', column):\n",
    "        df5[column] = df5[column].fillna(0)\n",
    "        nom = column.split('f')[1]\n",
    "        df5[column] = df5[column].round(2)\n",
    "        df5.rename(columns={column:nom},inplace=True)"
   ]
  },
  {
   "cell_type": "code",
   "execution_count": null,
   "metadata": {},
   "outputs": [],
   "source": [
    "df5['indicador'] = df2['indicador'].apply(lambda x: x.split(': ')[1])"
   ]
  },
  {
   "cell_type": "code",
   "execution_count": null,
   "metadata": {},
   "outputs": [],
   "source": [
    "df6 = df5.groupby(by='pais').sum().transpose()"
   ]
  },
  {
   "cell_type": "code",
   "execution_count": null,
   "metadata": {},
   "outputs": [
    {
     "data": {
      "text/html": [
       "<div>\n",
       "<style scoped>\n",
       "    .dataframe tbody tr th:only-of-type {\n",
       "        vertical-align: middle;\n",
       "    }\n",
       "\n",
       "    .dataframe tbody tr th {\n",
       "        vertical-align: top;\n",
       "    }\n",
       "\n",
       "    .dataframe thead th {\n",
       "        text-align: right;\n",
       "    }\n",
       "</style>\n",
       "<table border=\"1\" class=\"dataframe\">\n",
       "  <thead>\n",
       "    <tr style=\"text-align: right;\">\n",
       "      <th></th>\n",
       "      <th>pais</th>\n",
       "      <th>pais_iso</th>\n",
       "      <th>indicador</th>\n",
       "      <th>fuente</th>\n",
       "      <th>1980</th>\n",
       "      <th>1981</th>\n",
       "      <th>1982</th>\n",
       "      <th>1983</th>\n",
       "      <th>1984</th>\n",
       "      <th>1985</th>\n",
       "      <th>...</th>\n",
       "      <th>2012</th>\n",
       "      <th>2013</th>\n",
       "      <th>2014</th>\n",
       "      <th>2015</th>\n",
       "      <th>2016</th>\n",
       "      <th>2017</th>\n",
       "      <th>2018</th>\n",
       "      <th>2019</th>\n",
       "      <th>2020</th>\n",
       "      <th>2021</th>\n",
       "    </tr>\n",
       "  </thead>\n",
       "  <tbody>\n",
       "    <tr>\n",
       "      <th>0</th>\n",
       "      <td>Afghanistan, Islamic Rep. of</td>\n",
       "      <td>AFG</td>\n",
       "      <td>Drought</td>\n",
       "      <td>The Emergency Events Database (EM-DAT) , Centr...</td>\n",
       "      <td>0</td>\n",
       "      <td>0</td>\n",
       "      <td>0</td>\n",
       "      <td>0</td>\n",
       "      <td>0</td>\n",
       "      <td>0</td>\n",
       "      <td>...</td>\n",
       "      <td>0</td>\n",
       "      <td>0</td>\n",
       "      <td>0</td>\n",
       "      <td>0</td>\n",
       "      <td>0</td>\n",
       "      <td>0</td>\n",
       "      <td>1</td>\n",
       "      <td>0</td>\n",
       "      <td>0</td>\n",
       "      <td>1</td>\n",
       "    </tr>\n",
       "    <tr>\n",
       "      <th>1</th>\n",
       "      <td>Afghanistan, Islamic Rep. of</td>\n",
       "      <td>AFG</td>\n",
       "      <td>Extreme temperature</td>\n",
       "      <td>The Emergency Events Database (EM-DAT) , Centr...</td>\n",
       "      <td>0</td>\n",
       "      <td>0</td>\n",
       "      <td>0</td>\n",
       "      <td>0</td>\n",
       "      <td>0</td>\n",
       "      <td>0</td>\n",
       "      <td>...</td>\n",
       "      <td>1</td>\n",
       "      <td>0</td>\n",
       "      <td>0</td>\n",
       "      <td>0</td>\n",
       "      <td>0</td>\n",
       "      <td>0</td>\n",
       "      <td>0</td>\n",
       "      <td>0</td>\n",
       "      <td>0</td>\n",
       "      <td>0</td>\n",
       "    </tr>\n",
       "    <tr>\n",
       "      <th>2</th>\n",
       "      <td>Afghanistan, Islamic Rep. of</td>\n",
       "      <td>AFG</td>\n",
       "      <td>Flood</td>\n",
       "      <td>The Emergency Events Database (EM-DAT) , Centr...</td>\n",
       "      <td>1</td>\n",
       "      <td>0</td>\n",
       "      <td>0</td>\n",
       "      <td>0</td>\n",
       "      <td>0</td>\n",
       "      <td>0</td>\n",
       "      <td>...</td>\n",
       "      <td>6</td>\n",
       "      <td>4</td>\n",
       "      <td>2</td>\n",
       "      <td>1</td>\n",
       "      <td>4</td>\n",
       "      <td>1</td>\n",
       "      <td>3</td>\n",
       "      <td>6</td>\n",
       "      <td>5</td>\n",
       "      <td>2</td>\n",
       "    </tr>\n",
       "    <tr>\n",
       "      <th>3</th>\n",
       "      <td>Afghanistan, Islamic Rep. of</td>\n",
       "      <td>AFG</td>\n",
       "      <td>Landslide</td>\n",
       "      <td>The Emergency Events Database (EM-DAT) , Centr...</td>\n",
       "      <td>0</td>\n",
       "      <td>0</td>\n",
       "      <td>0</td>\n",
       "      <td>0</td>\n",
       "      <td>0</td>\n",
       "      <td>0</td>\n",
       "      <td>...</td>\n",
       "      <td>3</td>\n",
       "      <td>1</td>\n",
       "      <td>0</td>\n",
       "      <td>4</td>\n",
       "      <td>0</td>\n",
       "      <td>2</td>\n",
       "      <td>2</td>\n",
       "      <td>1</td>\n",
       "      <td>1</td>\n",
       "      <td>1</td>\n",
       "    </tr>\n",
       "    <tr>\n",
       "      <th>4</th>\n",
       "      <td>Afghanistan, Islamic Rep. of</td>\n",
       "      <td>AFG</td>\n",
       "      <td>Storm</td>\n",
       "      <td>The Emergency Events Database (EM-DAT) , Centr...</td>\n",
       "      <td>0</td>\n",
       "      <td>0</td>\n",
       "      <td>0</td>\n",
       "      <td>0</td>\n",
       "      <td>0</td>\n",
       "      <td>0</td>\n",
       "      <td>...</td>\n",
       "      <td>0</td>\n",
       "      <td>0</td>\n",
       "      <td>1</td>\n",
       "      <td>0</td>\n",
       "      <td>0</td>\n",
       "      <td>2</td>\n",
       "      <td>0</td>\n",
       "      <td>0</td>\n",
       "      <td>1</td>\n",
       "      <td>0</td>\n",
       "    </tr>\n",
       "  </tbody>\n",
       "</table>\n",
       "<p>5 rows × 46 columns</p>\n",
       "</div>"
      ],
      "text/plain": [
       "                           pais pais_iso            indicador  \\\n",
       "0  Afghanistan, Islamic Rep. of      AFG              Drought   \n",
       "1  Afghanistan, Islamic Rep. of      AFG  Extreme temperature   \n",
       "2  Afghanistan, Islamic Rep. of      AFG                Flood   \n",
       "3  Afghanistan, Islamic Rep. of      AFG            Landslide   \n",
       "4  Afghanistan, Islamic Rep. of      AFG                Storm   \n",
       "\n",
       "                                              fuente  1980  1981  1982  1983  \\\n",
       "0  The Emergency Events Database (EM-DAT) , Centr...     0     0     0     0   \n",
       "1  The Emergency Events Database (EM-DAT) , Centr...     0     0     0     0   \n",
       "2  The Emergency Events Database (EM-DAT) , Centr...     1     0     0     0   \n",
       "3  The Emergency Events Database (EM-DAT) , Centr...     0     0     0     0   \n",
       "4  The Emergency Events Database (EM-DAT) , Centr...     0     0     0     0   \n",
       "\n",
       "   1984  1985  ...  2012  2013  2014  2015  2016  2017  2018  2019  2020  2021  \n",
       "0     0     0  ...     0     0     0     0     0     0     1     0     0     1  \n",
       "1     0     0  ...     1     0     0     0     0     0     0     0     0     0  \n",
       "2     0     0  ...     6     4     2     1     4     1     3     6     5     2  \n",
       "3     0     0  ...     3     1     0     4     0     2     2     1     1     1  \n",
       "4     0     0  ...     0     0     1     0     0     2     0     0     1     0  \n",
       "\n",
       "[5 rows x 46 columns]"
      ]
     },
     "execution_count": 215,
     "metadata": {},
     "output_type": "execute_result"
    }
   ],
   "source": [
    "df5.head()"
   ]
  },
  {
   "cell_type": "code",
   "execution_count": null,
   "metadata": {},
   "outputs": [],
   "source": [
    "dataset = pd.read_csv(r\"C:\\Users\\ferch\\Downloads\\owid-energy-data.csv\")\n",
    "df7 = pd.DataFrame(dataset)"
   ]
  },
  {
   "cell_type": "code",
   "execution_count": null,
   "metadata": {},
   "outputs": [
    {
     "data": {
      "text/html": [
       "<div>\n",
       "<style scoped>\n",
       "    .dataframe tbody tr th:only-of-type {\n",
       "        vertical-align: middle;\n",
       "    }\n",
       "\n",
       "    .dataframe tbody tr th {\n",
       "        vertical-align: top;\n",
       "    }\n",
       "\n",
       "    .dataframe thead th {\n",
       "        text-align: right;\n",
       "    }\n",
       "</style>\n",
       "<table border=\"1\" class=\"dataframe\">\n",
       "  <thead>\n",
       "    <tr style=\"text-align: right;\">\n",
       "      <th></th>\n",
       "      <th>country</th>\n",
       "      <th>year</th>\n",
       "      <th>iso_code</th>\n",
       "      <th>population</th>\n",
       "      <th>gdp</th>\n",
       "      <th>biofuel_cons_change_pct</th>\n",
       "      <th>biofuel_cons_change_twh</th>\n",
       "      <th>biofuel_cons_per_capita</th>\n",
       "      <th>biofuel_consumption</th>\n",
       "      <th>biofuel_elec_per_capita</th>\n",
       "      <th>...</th>\n",
       "      <th>solar_share_elec</th>\n",
       "      <th>solar_share_energy</th>\n",
       "      <th>wind_cons_change_pct</th>\n",
       "      <th>wind_cons_change_twh</th>\n",
       "      <th>wind_consumption</th>\n",
       "      <th>wind_elec_per_capita</th>\n",
       "      <th>wind_electricity</th>\n",
       "      <th>wind_energy_per_capita</th>\n",
       "      <th>wind_share_elec</th>\n",
       "      <th>wind_share_energy</th>\n",
       "    </tr>\n",
       "  </thead>\n",
       "  <tbody>\n",
       "    <tr>\n",
       "      <th>0</th>\n",
       "      <td>Afghanistan</td>\n",
       "      <td>1980</td>\n",
       "      <td>AFG</td>\n",
       "      <td>13356500.0</td>\n",
       "      <td>1.532984e+10</td>\n",
       "      <td>NaN</td>\n",
       "      <td>NaN</td>\n",
       "      <td>NaN</td>\n",
       "      <td>NaN</td>\n",
       "      <td>NaN</td>\n",
       "      <td>...</td>\n",
       "      <td>NaN</td>\n",
       "      <td>NaN</td>\n",
       "      <td>NaN</td>\n",
       "      <td>NaN</td>\n",
       "      <td>NaN</td>\n",
       "      <td>NaN</td>\n",
       "      <td>NaN</td>\n",
       "      <td>NaN</td>\n",
       "      <td>NaN</td>\n",
       "      <td>NaN</td>\n",
       "    </tr>\n",
       "    <tr>\n",
       "      <th>1</th>\n",
       "      <td>Afghanistan</td>\n",
       "      <td>1981</td>\n",
       "      <td>AFG</td>\n",
       "      <td>13171679.0</td>\n",
       "      <td>1.564534e+10</td>\n",
       "      <td>NaN</td>\n",
       "      <td>NaN</td>\n",
       "      <td>NaN</td>\n",
       "      <td>NaN</td>\n",
       "      <td>NaN</td>\n",
       "      <td>...</td>\n",
       "      <td>NaN</td>\n",
       "      <td>NaN</td>\n",
       "      <td>NaN</td>\n",
       "      <td>NaN</td>\n",
       "      <td>NaN</td>\n",
       "      <td>NaN</td>\n",
       "      <td>NaN</td>\n",
       "      <td>NaN</td>\n",
       "      <td>NaN</td>\n",
       "      <td>NaN</td>\n",
       "    </tr>\n",
       "    <tr>\n",
       "      <th>2</th>\n",
       "      <td>Afghanistan</td>\n",
       "      <td>1982</td>\n",
       "      <td>AFG</td>\n",
       "      <td>12882518.0</td>\n",
       "      <td>1.598041e+10</td>\n",
       "      <td>NaN</td>\n",
       "      <td>NaN</td>\n",
       "      <td>NaN</td>\n",
       "      <td>NaN</td>\n",
       "      <td>NaN</td>\n",
       "      <td>...</td>\n",
       "      <td>NaN</td>\n",
       "      <td>NaN</td>\n",
       "      <td>NaN</td>\n",
       "      <td>NaN</td>\n",
       "      <td>NaN</td>\n",
       "      <td>NaN</td>\n",
       "      <td>NaN</td>\n",
       "      <td>NaN</td>\n",
       "      <td>NaN</td>\n",
       "      <td>NaN</td>\n",
       "    </tr>\n",
       "    <tr>\n",
       "      <th>3</th>\n",
       "      <td>Afghanistan</td>\n",
       "      <td>1983</td>\n",
       "      <td>AFG</td>\n",
       "      <td>12537732.0</td>\n",
       "      <td>1.675533e+10</td>\n",
       "      <td>NaN</td>\n",
       "      <td>NaN</td>\n",
       "      <td>NaN</td>\n",
       "      <td>NaN</td>\n",
       "      <td>NaN</td>\n",
       "      <td>...</td>\n",
       "      <td>NaN</td>\n",
       "      <td>NaN</td>\n",
       "      <td>NaN</td>\n",
       "      <td>NaN</td>\n",
       "      <td>NaN</td>\n",
       "      <td>NaN</td>\n",
       "      <td>NaN</td>\n",
       "      <td>NaN</td>\n",
       "      <td>NaN</td>\n",
       "      <td>NaN</td>\n",
       "    </tr>\n",
       "    <tr>\n",
       "      <th>4</th>\n",
       "      <td>Afghanistan</td>\n",
       "      <td>1984</td>\n",
       "      <td>AFG</td>\n",
       "      <td>12204306.0</td>\n",
       "      <td>1.707215e+10</td>\n",
       "      <td>NaN</td>\n",
       "      <td>NaN</td>\n",
       "      <td>NaN</td>\n",
       "      <td>NaN</td>\n",
       "      <td>NaN</td>\n",
       "      <td>...</td>\n",
       "      <td>NaN</td>\n",
       "      <td>NaN</td>\n",
       "      <td>NaN</td>\n",
       "      <td>NaN</td>\n",
       "      <td>NaN</td>\n",
       "      <td>NaN</td>\n",
       "      <td>NaN</td>\n",
       "      <td>NaN</td>\n",
       "      <td>NaN</td>\n",
       "      <td>NaN</td>\n",
       "    </tr>\n",
       "    <tr>\n",
       "      <th>...</th>\n",
       "      <td>...</td>\n",
       "      <td>...</td>\n",
       "      <td>...</td>\n",
       "      <td>...</td>\n",
       "      <td>...</td>\n",
       "      <td>...</td>\n",
       "      <td>...</td>\n",
       "      <td>...</td>\n",
       "      <td>...</td>\n",
       "      <td>...</td>\n",
       "      <td>...</td>\n",
       "      <td>...</td>\n",
       "      <td>...</td>\n",
       "      <td>...</td>\n",
       "      <td>...</td>\n",
       "      <td>...</td>\n",
       "      <td>...</td>\n",
       "      <td>...</td>\n",
       "      <td>...</td>\n",
       "      <td>...</td>\n",
       "      <td>...</td>\n",
       "    </tr>\n",
       "    <tr>\n",
       "      <th>12304</th>\n",
       "      <td>Zimbabwe</td>\n",
       "      <td>2017</td>\n",
       "      <td>ZWE</td>\n",
       "      <td>14236599.0</td>\n",
       "      <td>2.194784e+10</td>\n",
       "      <td>NaN</td>\n",
       "      <td>NaN</td>\n",
       "      <td>NaN</td>\n",
       "      <td>NaN</td>\n",
       "      <td>22.477</td>\n",
       "      <td>...</td>\n",
       "      <td>0.137</td>\n",
       "      <td>NaN</td>\n",
       "      <td>NaN</td>\n",
       "      <td>NaN</td>\n",
       "      <td>NaN</td>\n",
       "      <td>0.0</td>\n",
       "      <td>0.0</td>\n",
       "      <td>NaN</td>\n",
       "      <td>0.0</td>\n",
       "      <td>NaN</td>\n",
       "    </tr>\n",
       "    <tr>\n",
       "      <th>12305</th>\n",
       "      <td>Zimbabwe</td>\n",
       "      <td>2018</td>\n",
       "      <td>ZWE</td>\n",
       "      <td>14438812.0</td>\n",
       "      <td>2.271535e+10</td>\n",
       "      <td>NaN</td>\n",
       "      <td>NaN</td>\n",
       "      <td>NaN</td>\n",
       "      <td>NaN</td>\n",
       "      <td>27.011</td>\n",
       "      <td>...</td>\n",
       "      <td>0.110</td>\n",
       "      <td>NaN</td>\n",
       "      <td>NaN</td>\n",
       "      <td>NaN</td>\n",
       "      <td>NaN</td>\n",
       "      <td>0.0</td>\n",
       "      <td>0.0</td>\n",
       "      <td>NaN</td>\n",
       "      <td>0.0</td>\n",
       "      <td>NaN</td>\n",
       "    </tr>\n",
       "    <tr>\n",
       "      <th>12306</th>\n",
       "      <td>Zimbabwe</td>\n",
       "      <td>2019</td>\n",
       "      <td>ZWE</td>\n",
       "      <td>14645473.0</td>\n",
       "      <td>NaN</td>\n",
       "      <td>NaN</td>\n",
       "      <td>NaN</td>\n",
       "      <td>NaN</td>\n",
       "      <td>NaN</td>\n",
       "      <td>25.947</td>\n",
       "      <td>...</td>\n",
       "      <td>0.088</td>\n",
       "      <td>NaN</td>\n",
       "      <td>NaN</td>\n",
       "      <td>NaN</td>\n",
       "      <td>NaN</td>\n",
       "      <td>0.0</td>\n",
       "      <td>0.0</td>\n",
       "      <td>NaN</td>\n",
       "      <td>0.0</td>\n",
       "      <td>NaN</td>\n",
       "    </tr>\n",
       "    <tr>\n",
       "      <th>12307</th>\n",
       "      <td>Zimbabwe</td>\n",
       "      <td>2020</td>\n",
       "      <td>ZWE</td>\n",
       "      <td>14862927.0</td>\n",
       "      <td>NaN</td>\n",
       "      <td>NaN</td>\n",
       "      <td>NaN</td>\n",
       "      <td>NaN</td>\n",
       "      <td>NaN</td>\n",
       "      <td>24.221</td>\n",
       "      <td>...</td>\n",
       "      <td>0.090</td>\n",
       "      <td>NaN</td>\n",
       "      <td>NaN</td>\n",
       "      <td>NaN</td>\n",
       "      <td>NaN</td>\n",
       "      <td>0.0</td>\n",
       "      <td>0.0</td>\n",
       "      <td>NaN</td>\n",
       "      <td>0.0</td>\n",
       "      <td>NaN</td>\n",
       "    </tr>\n",
       "    <tr>\n",
       "      <th>12308</th>\n",
       "      <td>Zimbabwe</td>\n",
       "      <td>2021</td>\n",
       "      <td>ZWE</td>\n",
       "      <td>15092171.0</td>\n",
       "      <td>NaN</td>\n",
       "      <td>NaN</td>\n",
       "      <td>NaN</td>\n",
       "      <td>NaN</td>\n",
       "      <td>NaN</td>\n",
       "      <td>NaN</td>\n",
       "      <td>...</td>\n",
       "      <td>NaN</td>\n",
       "      <td>NaN</td>\n",
       "      <td>NaN</td>\n",
       "      <td>NaN</td>\n",
       "      <td>NaN</td>\n",
       "      <td>NaN</td>\n",
       "      <td>NaN</td>\n",
       "      <td>NaN</td>\n",
       "      <td>NaN</td>\n",
       "      <td>NaN</td>\n",
       "    </tr>\n",
       "  </tbody>\n",
       "</table>\n",
       "<p>12309 rows × 128 columns</p>\n",
       "</div>"
      ],
      "text/plain": [
       "           country  year iso_code  population           gdp  \\\n",
       "0      Afghanistan  1980      AFG  13356500.0  1.532984e+10   \n",
       "1      Afghanistan  1981      AFG  13171679.0  1.564534e+10   \n",
       "2      Afghanistan  1982      AFG  12882518.0  1.598041e+10   \n",
       "3      Afghanistan  1983      AFG  12537732.0  1.675533e+10   \n",
       "4      Afghanistan  1984      AFG  12204306.0  1.707215e+10   \n",
       "...            ...   ...      ...         ...           ...   \n",
       "12304     Zimbabwe  2017      ZWE  14236599.0  2.194784e+10   \n",
       "12305     Zimbabwe  2018      ZWE  14438812.0  2.271535e+10   \n",
       "12306     Zimbabwe  2019      ZWE  14645473.0           NaN   \n",
       "12307     Zimbabwe  2020      ZWE  14862927.0           NaN   \n",
       "12308     Zimbabwe  2021      ZWE  15092171.0           NaN   \n",
       "\n",
       "       biofuel_cons_change_pct  biofuel_cons_change_twh  \\\n",
       "0                          NaN                      NaN   \n",
       "1                          NaN                      NaN   \n",
       "2                          NaN                      NaN   \n",
       "3                          NaN                      NaN   \n",
       "4                          NaN                      NaN   \n",
       "...                        ...                      ...   \n",
       "12304                      NaN                      NaN   \n",
       "12305                      NaN                      NaN   \n",
       "12306                      NaN                      NaN   \n",
       "12307                      NaN                      NaN   \n",
       "12308                      NaN                      NaN   \n",
       "\n",
       "       biofuel_cons_per_capita  biofuel_consumption  biofuel_elec_per_capita  \\\n",
       "0                          NaN                  NaN                      NaN   \n",
       "1                          NaN                  NaN                      NaN   \n",
       "2                          NaN                  NaN                      NaN   \n",
       "3                          NaN                  NaN                      NaN   \n",
       "4                          NaN                  NaN                      NaN   \n",
       "...                        ...                  ...                      ...   \n",
       "12304                      NaN                  NaN                   22.477   \n",
       "12305                      NaN                  NaN                   27.011   \n",
       "12306                      NaN                  NaN                   25.947   \n",
       "12307                      NaN                  NaN                   24.221   \n",
       "12308                      NaN                  NaN                      NaN   \n",
       "\n",
       "       ...  solar_share_elec  solar_share_energy  wind_cons_change_pct  \\\n",
       "0      ...               NaN                 NaN                   NaN   \n",
       "1      ...               NaN                 NaN                   NaN   \n",
       "2      ...               NaN                 NaN                   NaN   \n",
       "3      ...               NaN                 NaN                   NaN   \n",
       "4      ...               NaN                 NaN                   NaN   \n",
       "...    ...               ...                 ...                   ...   \n",
       "12304  ...             0.137                 NaN                   NaN   \n",
       "12305  ...             0.110                 NaN                   NaN   \n",
       "12306  ...             0.088                 NaN                   NaN   \n",
       "12307  ...             0.090                 NaN                   NaN   \n",
       "12308  ...               NaN                 NaN                   NaN   \n",
       "\n",
       "       wind_cons_change_twh  wind_consumption  wind_elec_per_capita  \\\n",
       "0                       NaN               NaN                   NaN   \n",
       "1                       NaN               NaN                   NaN   \n",
       "2                       NaN               NaN                   NaN   \n",
       "3                       NaN               NaN                   NaN   \n",
       "4                       NaN               NaN                   NaN   \n",
       "...                     ...               ...                   ...   \n",
       "12304                   NaN               NaN                   0.0   \n",
       "12305                   NaN               NaN                   0.0   \n",
       "12306                   NaN               NaN                   0.0   \n",
       "12307                   NaN               NaN                   0.0   \n",
       "12308                   NaN               NaN                   NaN   \n",
       "\n",
       "       wind_electricity  wind_energy_per_capita  wind_share_elec  \\\n",
       "0                   NaN                     NaN              NaN   \n",
       "1                   NaN                     NaN              NaN   \n",
       "2                   NaN                     NaN              NaN   \n",
       "3                   NaN                     NaN              NaN   \n",
       "4                   NaN                     NaN              NaN   \n",
       "...                 ...                     ...              ...   \n",
       "12304               0.0                     NaN              0.0   \n",
       "12305               0.0                     NaN              0.0   \n",
       "12306               0.0                     NaN              0.0   \n",
       "12307               0.0                     NaN              0.0   \n",
       "12308               NaN                     NaN              NaN   \n",
       "\n",
       "       wind_share_energy  \n",
       "0                    NaN  \n",
       "1                    NaN  \n",
       "2                    NaN  \n",
       "3                    NaN  \n",
       "4                    NaN  \n",
       "...                  ...  \n",
       "12304                NaN  \n",
       "12305                NaN  \n",
       "12306                NaN  \n",
       "12307                NaN  \n",
       "12308                NaN  \n",
       "\n",
       "[12309 rows x 128 columns]"
      ]
     },
     "execution_count": 19,
     "metadata": {},
     "output_type": "execute_result"
    }
   ],
   "source": [
    "dropBeforeYear(df7,1980)"
   ]
  },
  {
   "cell_type": "code",
   "execution_count": null,
   "metadata": {},
   "outputs": [
    {
     "name": "stdout",
     "output_type": "stream",
     "text": [
      "iso_code\n",
      "country\n",
      "year\n",
      "co2\n",
      "co2_per_capita\n",
      "trade_co2\n",
      "cement_co2\n",
      "cement_co2_per_capita\n",
      "coal_co2\n",
      "coal_co2_per_capita\n",
      "flaring_co2\n",
      "flaring_co2_per_capita\n",
      "gas_co2\n",
      "gas_co2_per_capita\n",
      "oil_co2\n",
      "oil_co2_per_capita\n",
      "other_industry_co2\n",
      "other_co2_per_capita\n",
      "co2_growth_prct\n",
      "co2_growth_abs\n",
      "co2_per_gdp\n",
      "co2_per_unit_energy\n",
      "consumption_co2\n",
      "consumption_co2_per_capita\n",
      "consumption_co2_per_gdp\n",
      "cumulative_co2\n",
      "cumulative_cement_co2\n",
      "cumulative_coal_co2\n",
      "cumulative_flaring_co2\n",
      "cumulative_gas_co2\n",
      "cumulative_oil_co2\n",
      "cumulative_other_co2\n",
      "trade_co2_share\n",
      "share_global_co2\n",
      "share_global_cement_co2\n",
      "share_global_coal_co2\n",
      "share_global_flaring_co2\n",
      "share_global_gas_co2\n",
      "share_global_oil_co2\n",
      "share_global_other_co2\n",
      "share_global_cumulative_co2\n",
      "share_global_cumulative_cement_co2\n",
      "share_global_cumulative_coal_co2\n",
      "share_global_cumulative_flaring_co2\n",
      "share_global_cumulative_gas_co2\n",
      "share_global_cumulative_oil_co2\n",
      "share_global_cumulative_other_co2\n",
      "total_ghg\n",
      "ghg_per_capita\n",
      "total_ghg_excluding_lucf\n",
      "ghg_excluding_lucf_per_capita\n",
      "methane\n",
      "methane_per_capita\n",
      "nitrous_oxide\n",
      "nitrous_oxide_per_capita\n",
      "population\n",
      "gdp\n",
      "primary_energy_consumption\n",
      "energy_per_capita\n",
      "energy_per_gdp\n"
     ]
    }
   ],
   "source": [
    "for column in df7.columns:\n",
    "    print(column)"
   ]
  },
  {
   "cell_type": "code",
   "execution_count": null,
   "metadata": {},
   "outputs": [],
   "source": [
    "from requests_html import HTMLSession, AsyncHTMLSession"
   ]
  },
  {
   "cell_type": "code",
   "execution_count": null,
   "metadata": {},
   "outputs": [],
   "source": [
    "url = \"https://github.com/owid/energy-data\"\n",
    "\n",
    "s = AsyncHTMLSession()\n",
    "r = await s.get(url)\n",
    "\n",
    "links = r.html.find('a')\n",
    "for item in links:\n",
    "    if item.text == 'CSV':\n",
    "        link=item\n",
    "        print(link)"
   ]
  },
  {
   "cell_type": "code",
   "execution_count": null,
   "metadata": {},
   "outputs": [],
   "source": [
    "url = 'https://datacatalogapi.worldbank.org/ddhxext/ResourceFileData?resource_unique_id=DR0051731&version_id=2022-03-15T15:20:16.8826993Z'\n",
    "response = requests.get(url).json()"
   ]
  },
  {
   "cell_type": "code",
   "execution_count": null,
   "metadata": {},
   "outputs": [],
   "source": [
    "url = \"https://www.climatewatchdata.org/api/v1/data/ndc_content/\"\n",
    "response = requests.get(url).json()\n",
    "datos = response['data']"
   ]
  },
  {
   "cell_type": "code",
   "execution_count": null,
   "metadata": {},
   "outputs": [],
   "source": [
    "for page in range(2, 1234):\n",
    "    response = requests.get(url + f\"?page={page}\").json()\n",
    "    datos.extend(response['data'])"
   ]
  },
  {
   "cell_type": "code",
   "execution_count": null,
   "metadata": {},
   "outputs": [],
   "source": [
    "df = pd.DataFrame(datos)\n",
    "df = df.drop(columns='id')"
   ]
  },
  {
   "cell_type": "code",
   "execution_count": null,
   "metadata": {},
   "outputs": [
    {
     "data": {
      "text/plain": [
       "array(['Overall Comparison with Previous NDC', 'Summary of Commitment',\n",
       "       'GHG Target, Summary of Commitment', 'UNFCCC Process',\n",
       "       'Fairness and Ambition', 'NDC Enhancement Tracker', 'GHG Target',\n",
       "       'Scope and Coverage', 'Overall Assumptions and Methodologies',\n",
       "       'Accounting for Emissions and Removals from the Land Sector',\n",
       "       'International Market Mechanism',\n",
       "       'Overall Planning and Preparation', '',\n",
       "       'Implementation (Adaptation)', 'Planning Process (Adaptation)',\n",
       "       'Overview', 'Planning and Coordination Process',\n",
       "       'Climate Change Trends and Impacts',\n",
       "       'Adaptation vision and priorities', 'Financial Needs',\n",
       "       'Experiences and Barriers', 'Monitoring and Evaluation',\n",
       "       'Co-benefits', 'International Frameworks',\n",
       "       'Gender and Indigenous People', 'Loss and Damage',\n",
       "       'Transformative Adaptation', 'Finance and Support',\n",
       "       'Planning Process', 'Broader Picture', 'Vulnerability',\n",
       "       'Climate Risks', 'Adaptation Commitments',\n",
       "       'Sectoral Mitigation Plans', 'Sectoral Mitigation Policies',\n",
       "       'Other Information', 'Sectoral Mitigation Targets',\n",
       "       'Sectoral Mitigation Actions'], dtype=object)"
      ]
     },
     "execution_count": 113,
     "metadata": {},
     "output_type": "execute_result"
    }
   ],
   "source": [
    "df.overview_category.unique()"
   ]
  },
  {
   "cell_type": "code",
   "execution_count": null,
   "metadata": {},
   "outputs": [],
   "source": [
    "df_summary = df.query(\"overview_category =='Summary of Commitment' & indicator_id =='ghg_target' & indicator_name == 'GHG target'\")"
   ]
  },
  {
   "cell_type": "code",
   "execution_count": null,
   "metadata": {},
   "outputs": [],
   "source": [
    "df_summary = df_summary.drop_duplicates()"
   ]
  },
  {
   "cell_type": "code",
   "execution_count": null,
   "metadata": {},
   "outputs": [
    {
     "data": {
      "text/html": [
       "<div>\n",
       "<style scoped>\n",
       "    .dataframe tbody tr th:only-of-type {\n",
       "        vertical-align: middle;\n",
       "    }\n",
       "\n",
       "    .dataframe tbody tr th {\n",
       "        vertical-align: top;\n",
       "    }\n",
       "\n",
       "    .dataframe thead th {\n",
       "        text-align: right;\n",
       "    }\n",
       "</style>\n",
       "<table border=\"1\" class=\"dataframe\">\n",
       "  <thead>\n",
       "    <tr style=\"text-align: right;\">\n",
       "      <th></th>\n",
       "      <th>source</th>\n",
       "      <th>iso_code3</th>\n",
       "      <th>country</th>\n",
       "      <th>global_category</th>\n",
       "      <th>overview_category</th>\n",
       "      <th>sector</th>\n",
       "      <th>subsector</th>\n",
       "      <th>indicator_id</th>\n",
       "      <th>indicator_name</th>\n",
       "      <th>value</th>\n",
       "    </tr>\n",
       "  </thead>\n",
       "  <tbody>\n",
       "    <tr>\n",
       "      <th>18</th>\n",
       "      <td>CAIT</td>\n",
       "      <td>AFG</td>\n",
       "      <td>Afghanistan</td>\n",
       "      <td>Overview</td>\n",
       "      <td>Summary of Commitment</td>\n",
       "      <td>None</td>\n",
       "      <td>None</td>\n",
       "      <td>ghg_target</td>\n",
       "      <td>GHG target</td>\n",
       "      <td>13.6% reduction in GHG emissions by 2030 compa...</td>\n",
       "    </tr>\n",
       "    <tr>\n",
       "      <th>1063</th>\n",
       "      <td>CAIT</td>\n",
       "      <td>ALB</td>\n",
       "      <td>Albania</td>\n",
       "      <td>Overview</td>\n",
       "      <td>Summary of Commitment</td>\n",
       "      <td>None</td>\n",
       "      <td>None</td>\n",
       "      <td>ghg_target</td>\n",
       "      <td>GHG target</td>\n",
       "      <td>Reduce CO2 emissions compared to the baseline ...</td>\n",
       "    </tr>\n",
       "    <tr>\n",
       "      <th>1065</th>\n",
       "      <td>CAIT</td>\n",
       "      <td>ALB</td>\n",
       "      <td>Albania</td>\n",
       "      <td>Overview</td>\n",
       "      <td>Summary of Commitment</td>\n",
       "      <td>None</td>\n",
       "      <td>None</td>\n",
       "      <td>ghg_target</td>\n",
       "      <td>GHG target</td>\n",
       "      <td>Albania commits to reducing its emissions by 2...</td>\n",
       "    </tr>\n",
       "    <tr>\n",
       "      <th>3418</th>\n",
       "      <td>CAIT</td>\n",
       "      <td>DZA</td>\n",
       "      <td>Algeria</td>\n",
       "      <td>Overview</td>\n",
       "      <td>Summary of Commitment</td>\n",
       "      <td>None</td>\n",
       "      <td>None</td>\n",
       "      <td>ghg_target</td>\n",
       "      <td>GHG target</td>\n",
       "      <td>7% (with domestic means) to 22% (conditional) ...</td>\n",
       "    </tr>\n",
       "    <tr>\n",
       "      <th>4156</th>\n",
       "      <td>CAIT</td>\n",
       "      <td>AND</td>\n",
       "      <td>Andorra</td>\n",
       "      <td>Overview</td>\n",
       "      <td>Summary of Commitment</td>\n",
       "      <td>None</td>\n",
       "      <td>None</td>\n",
       "      <td>ghg_target</td>\n",
       "      <td>GHG target</td>\n",
       "      <td>37% (193.73 Gg CO2eq) reduction in 2030 compar...</td>\n",
       "    </tr>\n",
       "    <tr>\n",
       "      <th>...</th>\n",
       "      <td>...</td>\n",
       "      <td>...</td>\n",
       "      <td>...</td>\n",
       "      <td>...</td>\n",
       "      <td>...</td>\n",
       "      <td>...</td>\n",
       "      <td>...</td>\n",
       "      <td>...</td>\n",
       "      <td>...</td>\n",
       "      <td>...</td>\n",
       "    </tr>\n",
       "    <tr>\n",
       "      <th>59427</th>\n",
       "      <td>CAIT</td>\n",
       "      <td>DNK</td>\n",
       "      <td>Denmark</td>\n",
       "      <td>Overview</td>\n",
       "      <td>Summary of Commitment</td>\n",
       "      <td>None</td>\n",
       "      <td>None</td>\n",
       "      <td>ghg_target</td>\n",
       "      <td>GHG target</td>\n",
       "      <td>The European Union and its 28 Member States su...</td>\n",
       "    </tr>\n",
       "    <tr>\n",
       "      <th>59429</th>\n",
       "      <td>CAIT</td>\n",
       "      <td>DNK</td>\n",
       "      <td>Denmark</td>\n",
       "      <td>Overview</td>\n",
       "      <td>Summary of Commitment</td>\n",
       "      <td>None</td>\n",
       "      <td>None</td>\n",
       "      <td>ghg_target</td>\n",
       "      <td>GHG target</td>\n",
       "      <td>At least 55% reduction in greenhouse gas emiss...</td>\n",
       "    </tr>\n",
       "    <tr>\n",
       "      <th>60095</th>\n",
       "      <td>CAIT</td>\n",
       "      <td>DJI</td>\n",
       "      <td>Djibouti</td>\n",
       "      <td>Overview</td>\n",
       "      <td>Summary of Commitment</td>\n",
       "      <td>None</td>\n",
       "      <td>None</td>\n",
       "      <td>ghg_target</td>\n",
       "      <td>GHG target</td>\n",
       "      <td>40% (unconditional) to additional 20% (conditi...</td>\n",
       "    </tr>\n",
       "    <tr>\n",
       "      <th>61046</th>\n",
       "      <td>CAIT</td>\n",
       "      <td>DMA</td>\n",
       "      <td>Dominica</td>\n",
       "      <td>Overview</td>\n",
       "      <td>Summary of Commitment</td>\n",
       "      <td>None</td>\n",
       "      <td>None</td>\n",
       "      <td>ghg_target</td>\n",
       "      <td>GHG target</td>\n",
       "      <td>17.9% by 2020, 39.2% by 2025 and 44.7% by 2030...</td>\n",
       "    </tr>\n",
       "    <tr>\n",
       "      <th>61048</th>\n",
       "      <td>CAIT</td>\n",
       "      <td>DMA</td>\n",
       "      <td>Dominica</td>\n",
       "      <td>Overview</td>\n",
       "      <td>Summary of Commitment</td>\n",
       "      <td>None</td>\n",
       "      <td>None</td>\n",
       "      <td>ghg_target</td>\n",
       "      <td>GHG target</td>\n",
       "      <td>Dominica commits to reducing its greenhouse ga...</td>\n",
       "    </tr>\n",
       "  </tbody>\n",
       "</table>\n",
       "<p>73 rows × 10 columns</p>\n",
       "</div>"
      ],
      "text/plain": [
       "      source iso_code3      country global_category      overview_category  \\\n",
       "18      CAIT       AFG  Afghanistan        Overview  Summary of Commitment   \n",
       "1063    CAIT       ALB      Albania        Overview  Summary of Commitment   \n",
       "1065    CAIT       ALB      Albania        Overview  Summary of Commitment   \n",
       "3418    CAIT       DZA      Algeria        Overview  Summary of Commitment   \n",
       "4156    CAIT       AND      Andorra        Overview  Summary of Commitment   \n",
       "...      ...       ...          ...             ...                    ...   \n",
       "59427   CAIT       DNK      Denmark        Overview  Summary of Commitment   \n",
       "59429   CAIT       DNK      Denmark        Overview  Summary of Commitment   \n",
       "60095   CAIT       DJI     Djibouti        Overview  Summary of Commitment   \n",
       "61046   CAIT       DMA     Dominica        Overview  Summary of Commitment   \n",
       "61048   CAIT       DMA     Dominica        Overview  Summary of Commitment   \n",
       "\n",
       "      sector subsector indicator_id indicator_name  \\\n",
       "18      None      None   ghg_target     GHG target   \n",
       "1063    None      None   ghg_target     GHG target   \n",
       "1065    None      None   ghg_target     GHG target   \n",
       "3418    None      None   ghg_target     GHG target   \n",
       "4156    None      None   ghg_target     GHG target   \n",
       "...      ...       ...          ...            ...   \n",
       "59427   None      None   ghg_target     GHG target   \n",
       "59429   None      None   ghg_target     GHG target   \n",
       "60095   None      None   ghg_target     GHG target   \n",
       "61046   None      None   ghg_target     GHG target   \n",
       "61048   None      None   ghg_target     GHG target   \n",
       "\n",
       "                                                   value  \n",
       "18     13.6% reduction in GHG emissions by 2030 compa...  \n",
       "1063   Reduce CO2 emissions compared to the baseline ...  \n",
       "1065   Albania commits to reducing its emissions by 2...  \n",
       "3418   7% (with domestic means) to 22% (conditional) ...  \n",
       "4156   37% (193.73 Gg CO2eq) reduction in 2030 compar...  \n",
       "...                                                  ...  \n",
       "59427  The European Union and its 28 Member States su...  \n",
       "59429  At least 55% reduction in greenhouse gas emiss...  \n",
       "60095  40% (unconditional) to additional 20% (conditi...  \n",
       "61046  17.9% by 2020, 39.2% by 2025 and 44.7% by 2030...  \n",
       "61048  Dominica commits to reducing its greenhouse ga...  \n",
       "\n",
       "[73 rows x 10 columns]"
      ]
     },
     "execution_count": 239,
     "metadata": {},
     "output_type": "execute_result"
    }
   ],
   "source": [
    "df_summary[df_summary['value'].str.contains('reduc')]"
   ]
  },
  {
   "cell_type": "code",
   "execution_count": null,
   "metadata": {},
   "outputs": [],
   "source": [
    "col = [pais, target, base, año_reduccion]"
   ]
  },
  {
   "cell_type": "code",
   "execution_count": null,
   "metadata": {},
   "outputs": [
    {
     "data": {
      "text/html": [
       "<div>\n",
       "<style scoped>\n",
       "    .dataframe tbody tr th:only-of-type {\n",
       "        vertical-align: middle;\n",
       "    }\n",
       "\n",
       "    .dataframe tbody tr th {\n",
       "        vertical-align: top;\n",
       "    }\n",
       "\n",
       "    .dataframe thead th {\n",
       "        text-align: right;\n",
       "    }\n",
       "</style>\n",
       "<table border=\"1\" class=\"dataframe\">\n",
       "  <thead>\n",
       "    <tr style=\"text-align: right;\">\n",
       "      <th></th>\n",
       "      <th>source</th>\n",
       "      <th>iso_code3</th>\n",
       "      <th>country</th>\n",
       "      <th>global_category</th>\n",
       "      <th>overview_category</th>\n",
       "      <th>sector</th>\n",
       "      <th>subsector</th>\n",
       "      <th>indicator_id</th>\n",
       "      <th>indicator_name</th>\n",
       "      <th>value</th>\n",
       "    </tr>\n",
       "  </thead>\n",
       "  <tbody>\n",
       "    <tr>\n",
       "      <th>0</th>\n",
       "      <td>CAIT</td>\n",
       "      <td>AFG</td>\n",
       "      <td>Afghanistan</td>\n",
       "      <td>Overview</td>\n",
       "      <td>Summary of Commitment</td>\n",
       "      <td>None</td>\n",
       "      <td>None</td>\n",
       "      <td>ghg_target</td>\n",
       "      <td>GHG target</td>\n",
       "      <td>13.6% reduction in GHG emissions by 2030 compa...</td>\n",
       "    </tr>\n",
       "    <tr>\n",
       "      <th>1</th>\n",
       "      <td>CAIT</td>\n",
       "      <td>ALB</td>\n",
       "      <td>Albania</td>\n",
       "      <td>Overview</td>\n",
       "      <td>Summary of Commitment</td>\n",
       "      <td>None</td>\n",
       "      <td>None</td>\n",
       "      <td>ghg_target</td>\n",
       "      <td>GHG target</td>\n",
       "      <td>Reduce CO2 emissions compared to the baseline ...</td>\n",
       "    </tr>\n",
       "    <tr>\n",
       "      <th>2</th>\n",
       "      <td>CAIT</td>\n",
       "      <td>ALB</td>\n",
       "      <td>Albania</td>\n",
       "      <td>Overview</td>\n",
       "      <td>Summary of Commitment</td>\n",
       "      <td>None</td>\n",
       "      <td>None</td>\n",
       "      <td>ghg_target</td>\n",
       "      <td>GHG target</td>\n",
       "      <td>Albania commits to reducing its emissions by 2...</td>\n",
       "    </tr>\n",
       "    <tr>\n",
       "      <th>3</th>\n",
       "      <td>CAIT</td>\n",
       "      <td>DZA</td>\n",
       "      <td>Algeria</td>\n",
       "      <td>Overview</td>\n",
       "      <td>Summary of Commitment</td>\n",
       "      <td>None</td>\n",
       "      <td>None</td>\n",
       "      <td>ghg_target</td>\n",
       "      <td>GHG target</td>\n",
       "      <td>7% (with domestic means) to 22% (conditional) ...</td>\n",
       "    </tr>\n",
       "    <tr>\n",
       "      <th>4</th>\n",
       "      <td>CAIT</td>\n",
       "      <td>AND</td>\n",
       "      <td>Andorra</td>\n",
       "      <td>Overview</td>\n",
       "      <td>Summary of Commitment</td>\n",
       "      <td>None</td>\n",
       "      <td>None</td>\n",
       "      <td>ghg_target</td>\n",
       "      <td>GHG target</td>\n",
       "      <td>37% (193.73 Gg CO2eq) reduction in 2030 compar...</td>\n",
       "    </tr>\n",
       "    <tr>\n",
       "      <th>...</th>\n",
       "      <td>...</td>\n",
       "      <td>...</td>\n",
       "      <td>...</td>\n",
       "      <td>...</td>\n",
       "      <td>...</td>\n",
       "      <td>...</td>\n",
       "      <td>...</td>\n",
       "      <td>...</td>\n",
       "      <td>...</td>\n",
       "      <td>...</td>\n",
       "    </tr>\n",
       "    <tr>\n",
       "      <th>90</th>\n",
       "      <td>CAIT</td>\n",
       "      <td>DNK</td>\n",
       "      <td>Denmark</td>\n",
       "      <td>Overview</td>\n",
       "      <td>Summary of Commitment</td>\n",
       "      <td>None</td>\n",
       "      <td>None</td>\n",
       "      <td>ghg_target</td>\n",
       "      <td>GHG target</td>\n",
       "      <td>The European Union and its 28 Member States su...</td>\n",
       "    </tr>\n",
       "    <tr>\n",
       "      <th>91</th>\n",
       "      <td>CAIT</td>\n",
       "      <td>DNK</td>\n",
       "      <td>Denmark</td>\n",
       "      <td>Overview</td>\n",
       "      <td>Summary of Commitment</td>\n",
       "      <td>None</td>\n",
       "      <td>None</td>\n",
       "      <td>ghg_target</td>\n",
       "      <td>GHG target</td>\n",
       "      <td>At least 55% reduction in greenhouse gas emiss...</td>\n",
       "    </tr>\n",
       "    <tr>\n",
       "      <th>92</th>\n",
       "      <td>CAIT</td>\n",
       "      <td>DJI</td>\n",
       "      <td>Djibouti</td>\n",
       "      <td>Overview</td>\n",
       "      <td>Summary of Commitment</td>\n",
       "      <td>None</td>\n",
       "      <td>None</td>\n",
       "      <td>ghg_target</td>\n",
       "      <td>GHG target</td>\n",
       "      <td>40% (unconditional) to additional 20% (conditi...</td>\n",
       "    </tr>\n",
       "    <tr>\n",
       "      <th>93</th>\n",
       "      <td>CAIT</td>\n",
       "      <td>DMA</td>\n",
       "      <td>Dominica</td>\n",
       "      <td>Overview</td>\n",
       "      <td>Summary of Commitment</td>\n",
       "      <td>None</td>\n",
       "      <td>None</td>\n",
       "      <td>ghg_target</td>\n",
       "      <td>GHG target</td>\n",
       "      <td>17.9% by 2020, 39.2% by 2025 and 44.7% by 2030...</td>\n",
       "    </tr>\n",
       "    <tr>\n",
       "      <th>94</th>\n",
       "      <td>CAIT</td>\n",
       "      <td>DMA</td>\n",
       "      <td>Dominica</td>\n",
       "      <td>Overview</td>\n",
       "      <td>Summary of Commitment</td>\n",
       "      <td>None</td>\n",
       "      <td>None</td>\n",
       "      <td>ghg_target</td>\n",
       "      <td>GHG target</td>\n",
       "      <td>Dominica commits to reducing its greenhouse ga...</td>\n",
       "    </tr>\n",
       "  </tbody>\n",
       "</table>\n",
       "<p>95 rows × 10 columns</p>\n",
       "</div>"
      ],
      "text/plain": [
       "   source iso_code3      country global_category      overview_category  \\\n",
       "0    CAIT       AFG  Afghanistan        Overview  Summary of Commitment   \n",
       "1    CAIT       ALB      Albania        Overview  Summary of Commitment   \n",
       "2    CAIT       ALB      Albania        Overview  Summary of Commitment   \n",
       "3    CAIT       DZA      Algeria        Overview  Summary of Commitment   \n",
       "4    CAIT       AND      Andorra        Overview  Summary of Commitment   \n",
       "..    ...       ...          ...             ...                    ...   \n",
       "90   CAIT       DNK      Denmark        Overview  Summary of Commitment   \n",
       "91   CAIT       DNK      Denmark        Overview  Summary of Commitment   \n",
       "92   CAIT       DJI     Djibouti        Overview  Summary of Commitment   \n",
       "93   CAIT       DMA     Dominica        Overview  Summary of Commitment   \n",
       "94   CAIT       DMA     Dominica        Overview  Summary of Commitment   \n",
       "\n",
       "   sector subsector indicator_id indicator_name  \\\n",
       "0    None      None   ghg_target     GHG target   \n",
       "1    None      None   ghg_target     GHG target   \n",
       "2    None      None   ghg_target     GHG target   \n",
       "3    None      None   ghg_target     GHG target   \n",
       "4    None      None   ghg_target     GHG target   \n",
       "..    ...       ...          ...            ...   \n",
       "90   None      None   ghg_target     GHG target   \n",
       "91   None      None   ghg_target     GHG target   \n",
       "92   None      None   ghg_target     GHG target   \n",
       "93   None      None   ghg_target     GHG target   \n",
       "94   None      None   ghg_target     GHG target   \n",
       "\n",
       "                                                value  \n",
       "0   13.6% reduction in GHG emissions by 2030 compa...  \n",
       "1   Reduce CO2 emissions compared to the baseline ...  \n",
       "2   Albania commits to reducing its emissions by 2...  \n",
       "3   7% (with domestic means) to 22% (conditional) ...  \n",
       "4   37% (193.73 Gg CO2eq) reduction in 2030 compar...  \n",
       "..                                                ...  \n",
       "90  The European Union and its 28 Member States su...  \n",
       "91  At least 55% reduction in greenhouse gas emiss...  \n",
       "92  40% (unconditional) to additional 20% (conditi...  \n",
       "93  17.9% by 2020, 39.2% by 2025 and 44.7% by 2030...  \n",
       "94  Dominica commits to reducing its greenhouse ga...  \n",
       "\n",
       "[95 rows x 10 columns]"
      ]
     },
     "execution_count": 229,
     "metadata": {},
     "output_type": "execute_result"
    }
   ],
   "source": [
    "df_summary.query(\"indicator_id =='ghg_target' & indicator_name == 'GHG target' & country \")"
   ]
  },
  {
   "cell_type": "code",
   "execution_count": null,
   "metadata": {},
   "outputs": [
    {
     "data": {
      "text/plain": [
       "'Albania commits to reducing its emissions by 20.9% by 2030 compared to BAU.'"
      ]
     },
     "execution_count": 225,
     "metadata": {},
     "output_type": "execute_result"
    }
   ],
   "source": [
    "df_summary.iloc[2][9]"
   ]
  },
  {
   "cell_type": "code",
   "execution_count": null,
   "metadata": {},
   "outputs": [],
   "source": []
  },
  {
   "cell_type": "code",
   "execution_count": null,
   "metadata": {},
   "outputs": [
    {
     "name": "stdout",
     "output_type": "stream",
     "text": [
      "pais\n",
      "anio\n",
      "pais_iso\n",
      "poblacion\n",
      "pbi\n",
      "biocombustible_cons_change_pct\n",
      "biocombustible_cons_change_twh\n",
      "biocombustible_cons_per_capita\n",
      "biofuel_cons\n",
      "biocombustible_elec_per_capita\n",
      "biocombustible_electricity\n",
      "biocombustible_share_elec\n",
      "biocombustible_share_energy\n",
      "carbon_intensidad_elec\n",
      "coal_cons_cambio_pct\n",
      "coal_cons_cambio_twh\n",
      "carbon_cons_per_capita\n",
      "coal_cons\n",
      "carbon_elec_per_capita\n",
      "coal_elec\n",
      "coal_prod_cambio_pct\n",
      "coal_prod_cambio_twh\n",
      "carbon_prod_per_capita\n",
      "coal_produccion\n",
      "coal_participacion_elec\n",
      "coal_share_energia\n",
      "elec_demand\n",
      "elec_generation\n",
      "energia_cons_change_pct\n",
      "energia_cons_change_twh\n",
      "energia_per_capita\n",
      "energy_per_pbi\n",
      "fossil_cons_cambio_pct\n",
      "fossil_cons_cambio_twh\n",
      "fossil_elec_per_capita\n",
      "fossil_elec\n",
      "fossil_energia_per_capita\n",
      "fossil_fuel_cons\n",
      "fossil_participacion_elec\n",
      "fossil_share_energia\n",
      "gas_cons_cambio_pct\n",
      "gas_cons_cambio_twh\n",
      "gas_cons\n",
      "gas_elec_per_capita\n",
      "gas_elec\n",
      "gas_energia_per_capita\n",
      "gas_prod_cambio_pct\n",
      "gas_prod_cambio_twh\n",
      "gas_prod_per_capita\n",
      "gas_produccion\n",
      "gas_participacion_elec\n",
      "gas_share_energia\n",
      "greenhouse_gas_emision_co2s\n",
      "hydro_cons_cambio_pct\n",
      "hydro_cons_cambio_twh\n",
      "hydro_cons\n",
      "hydro_elec_per_capita\n",
      "hydro_elec\n",
      "hydro_energia_per_capita\n",
      "hydro_participacion_elec\n",
      "hydro_share_energia\n",
      "low_carbon_cons_cambio_pct\n",
      "low_carbon_cons_cambio_twh\n",
      "low_carbon_cons\n",
      "low_carbon_elec_per_capita\n",
      "low_carbon_elec\n",
      "low_carbon_energia_per_capita\n",
      "low_carbon_participacion_elec\n",
      "low_carbon_share_energia\n",
      "net_elec_imports\n",
      "net_elec_imports_participacion_demand\n",
      "nuclear_cons_cambio_pct\n",
      "nuclear_cons_cambio_twh\n",
      "nuclear_cons\n",
      "nuclear_elec_per_capita\n",
      "nuclear_elec\n",
      "nuclear_energia_per_capita\n",
      "nuclear_participacion_elec\n",
      "nuclear_share_energia\n",
      "petroleo_cons_change_pct\n",
      "petroleo_cons_change_twh\n",
      "oil_cons\n",
      "petroleo_elec_per_capita\n",
      "oil_elec\n",
      "oil_energia_per_capita\n",
      "petroleo_prod_change_pct\n",
      "petroleo_prod_change_twh\n",
      "petroleo_prod_per_capita\n",
      "oil_produccion\n",
      "oil_participacion_elec\n",
      "oil_share_energia\n",
      "other_renewable_cons\n",
      "other_renewable_elec\n",
      "other_renewable_exc_biocombustible_electricity\n",
      "other_renovables_cons_change_pct\n",
      "other_renovables_cons_change_twh\n",
      "other_renovables_elec_per_capita\n",
      "other_renewables_elec_per_capita_exc_biocombustible\n",
      "other_renewables_energia_per_capita\n",
      "other_renewables_participacion_elec\n",
      "other_renewables_share_elec_exc_biocombustible\n",
      "other_renewables_share_energia\n",
      "per_capita_elec\n",
      "primary_energy_cons\n",
      "renovables_cons_change_pct\n",
      "renovables_cons_change_twh\n",
      "renewables_cons\n",
      "renovables_elec_per_capita\n",
      "renewables_elec\n",
      "renewables_energia_per_capita\n",
      "renewables_participacion_elec\n",
      "renewables_share_energia\n",
      "solar_cons_cambio_pct\n",
      "solar_cons_cambio_twh\n",
      "solar_cons\n",
      "solar_elec_per_capita\n",
      "solar_elec\n",
      "solar_energia_per_capita\n",
      "solar_participacion_elec\n",
      "solar_share_energia\n",
      "eolica_cons_change_pct\n",
      "eolica_cons_change_twh\n",
      "wind_cons\n",
      "eolica_elec_per_capita\n",
      "eolica_electricity\n",
      "eolica_energy_per_capita\n",
      "eolica_share_elec\n",
      "eolica_share_energy\n"
     ]
    }
   ],
   "source": [
    "for column in df_consumo.columns:\n",
    "    print(column)"
   ]
  }
 ],
 "metadata": {
  "kernelspec": {
   "display_name": "Python 3 (ipykernel)",
   "language": "python",
   "name": "python3"
  },
  "language_info": {
   "codemirror_mode": {
    "name": "ipython",
    "version": 3
   },
   "file_extension": ".py",
   "mimetype": "text/x-python",
   "name": "python",
   "nbconvert_exporter": "python",
   "pygments_lexer": "ipython3",
   "version": "3.10.6"
  },
  "vscode": {
   "interpreter": {
    "hash": "76c4de0fabe0602e2c2e9a8dee706b7aec8ef4c85d03ce0961883d90af556438"
   }
  }
 },
 "nbformat": 4,
 "nbformat_minor": 2
}
